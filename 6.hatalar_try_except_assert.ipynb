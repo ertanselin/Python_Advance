{
 "cells": [
  {
   "cell_type": "markdown",
   "id": "ac69f3cd-7dfb-49e4-bc5d-36aff7b44d48",
   "metadata": {},
   "source": [
    "# Hata Türleri"
   ]
  },
  {
   "cell_type": "markdown",
   "id": "e191b10f-80ef-4e91-8658-e07d974b1a7e",
   "metadata": {},
   "source": [
    "Biz bu bölümde hataları üç farklı başlık altında ele alacağız:\n",
    "\n",
    "Programcı Hataları (Error) genelde SyntaxError mesela print \"Ali gel\"\n",
    "\n",
    "Program Kusurları (Bug)    inputla 2 sayı gir int yapma topla hata vermez ama yan yana yazar.  58+89=5889, eval fonks. hataları tehlikeli güvenlik kusuru\n",
    "\n",
    "İstisnalar (Exception)  sfıra bölme, sayı yerine harf girme "
   ]
  },
  {
   "cell_type": "code",
   "execution_count": 5,
   "id": "d25b95a3-a9d5-41d5-953e-329ddb10f935",
   "metadata": {},
   "outputs": [
    {
     "name": "stdin",
     "output_type": "stream",
     "text": [
      "ilk sayı:  25\n",
      "ikinci sayı:  0\n"
     ]
    },
    {
     "ename": "ZeroDivisionError",
     "evalue": "division by zero",
     "output_type": "error",
     "traceback": [
      "\u001b[1;31m---------------------------------------------------------------------------\u001b[0m",
      "\u001b[1;31mZeroDivisionError\u001b[0m                         Traceback (most recent call last)",
      "Input \u001b[1;32mIn [5]\u001b[0m, in \u001b[0;36m<cell line: 3>\u001b[1;34m()\u001b[0m\n\u001b[0;32m      1\u001b[0m ilk_s    \u001b[38;5;241m=\u001b[39m \u001b[38;5;28mint\u001b[39m(\u001b[38;5;28minput\u001b[39m(\u001b[38;5;124m\"\u001b[39m\u001b[38;5;124milk sayı: \u001b[39m\u001b[38;5;124m\"\u001b[39m))\n\u001b[0;32m      2\u001b[0m ikinci_s \u001b[38;5;241m=\u001b[39m \u001b[38;5;28mint\u001b[39m(\u001b[38;5;28minput\u001b[39m(\u001b[38;5;124m\"\u001b[39m\u001b[38;5;124mikinci sayı: \u001b[39m\u001b[38;5;124m\"\u001b[39m))\n\u001b[1;32m----> 3\u001b[0m \u001b[38;5;28mprint\u001b[39m(\u001b[43milk_s\u001b[49m\u001b[38;5;241;43m/\u001b[39;49m\u001b[43mikinci_s\u001b[49m)\n",
      "\u001b[1;31mZeroDivisionError\u001b[0m: division by zero"
     ]
    }
   ],
   "source": [
    "ilk_s    = int(input(\"ilk sayı: \"))\n",
    "ikinci_s = int(input(\"ikinci sayı: \"))\n",
    "print(ilk_s/ikinci_s)"
   ]
  },
  {
   "attachments": {
    "c6473e48-7f77-4703-814a-2f17338bf6a1.png": {
     "image/png": "[encoded data removed]"
    }
   },
   "cell_type": "markdown",
   "id": "d8848f11-8bbb-4496-b852-8b8beacc14d4",
   "metadata": {},
   "source": [
    "![image.png](attachment:c6473e48-7f77-4703-814a-2f17338bf6a1.png)"
   ]
  },
  {
   "cell_type": "markdown",
   "id": "33656870-1da3-45d2-bcc8-04758cec160c",
   "metadata": {},
   "source": [
    "# try… except…"
   ]
  },
  {
   "cell_type": "code",
   "execution_count": 8,
   "id": "a7d62ce4-c730-416b-8d83-86820b2dc18d",
   "metadata": {},
   "outputs": [
    {
     "name": "stdin",
     "output_type": "stream",
     "text": [
      "ilk sayı:  25\n",
      "ikinci sayı:  k\n"
     ]
    },
    {
     "name": "stdout",
     "output_type": "stream",
     "text": [
      "Lütfen sadece sayı girin!\n"
     ]
    }
   ],
   "source": [
    "ilk_sayi    = input(\"ilk sayı: \")\n",
    "ikinci_sayi = input(\"ikinci sayı: \")\n",
    "\n",
    "try:\n",
    "    sayi1 = int(ilk_sayi)\n",
    "    sayi2 = int(ikinci_sayi)\n",
    "    print(sayi1, \"/\", sayi2, \"=\", sayi1 / sayi2)\n",
    "except ValueError:\n",
    "    print(\"Lütfen sadece sayı girin!\")\n",
    "except ZeroDivisionError:\n",
    "    print(\"Lütfen 0 haricinde bir sayı girinh!\")"
   ]
  },
  {
   "cell_type": "code",
   "execution_count": 9,
   "id": "24ad4655-c7e8-47b6-84a9-1b9d4f07ede2",
   "metadata": {},
   "outputs": [
    {
     "name": "stdin",
     "output_type": "stream",
     "text": [
      "ilk sayı:  25\n",
      "ikinci sayı:  0\n"
     ]
    },
    {
     "name": "stdout",
     "output_type": "stream",
     "text": [
      "Lütfen 0 haricinde sadece sayı girin!\n"
     ]
    }
   ],
   "source": [
    "ilk_sayi    = input(\"ilk sayı: \")\n",
    "ikinci_sayi = input(\"ikinci sayı: \")\n",
    "\n",
    "try:\n",
    "    sayi1 = int(ilk_sayi)\n",
    "    sayi2 = int(ikinci_sayi)\n",
    "    print(sayi1, \"/\", sayi2, \"=\", sayi1 / sayi2)\n",
    "except (ValueError,ZeroDivisionError):\n",
    "    print(\"Lütfen 0 haricinde sadece sayı girin!\")"
   ]
  },
  {
   "cell_type": "code",
   "execution_count": 6,
   "id": "a78ec888-62aa-4f19-932c-0491b82bebce",
   "metadata": {},
   "outputs": [
    {
     "name": "stdin",
     "output_type": "stream",
     "text": [
      "ilk sayı (Programdan çıkmak için q tuşuna basın):  5\n",
      "ikinci sayı:  2\n"
     ]
    },
    {
     "name": "stdout",
     "output_type": "stream",
     "text": [
      "5 / 2 = 2.5\n"
     ]
    },
    {
     "name": "stdin",
     "output_type": "stream",
     "text": [
      "ilk sayı (Programdan çıkmak için q tuşuna basın):  q\n"
     ]
    }
   ],
   "source": [
    "while True:\n",
    "    ilk_sayı = input(\"ilk sayı (Programdan çıkmak için q tuşuna basın): \")\n",
    "\n",
    "    if ilk_sayı == \"q\":\n",
    "        break\n",
    "\n",
    "    ikinci_sayı = input(\"ikinci sayı: \")\n",
    "   \n",
    "    try:\n",
    "        sayı1 = int(ilk_sayı)\n",
    "        sayı2 = int(ikinci_sayı)\n",
    "        print(sayı1, \"/\", sayı2, \"=\", sayı1 / sayı2)\n",
    "    except (ValueError, ZeroDivisionError):\n",
    "        print(\"Bir hata oluştu!\")\n",
    "        print(\"Lütfen tekrar deneyin!\")"
   ]
  },
  {
   "cell_type": "code",
   "execution_count": 1,
   "id": "52aefb37-8681-46dc-9cbb-e17863eeb8f2",
   "metadata": {},
   "outputs": [],
   "source": [
    "# Hata verince aşağıdaki ifadeler üretilir.\n",
    "# ValueError: invalid literal for int() with base 10: 'f'\n",
    "# Buradaki f hatayı açıklıyor. Aşağıda \"as hata\" ya bak "
   ]
  },
  {
   "cell_type": "code",
   "execution_count": 10,
   "id": "0e7cd8d9-2f76-4fc4-b22e-37ce2378d08b",
   "metadata": {},
   "outputs": [
    {
     "name": "stdin",
     "output_type": "stream",
     "text": [
      "ilk sayı:  25\n",
      "ikinci sayı:  0\n"
     ]
    },
    {
     "name": "stdout",
     "output_type": "stream",
     "text": [
      "division by zero\n"
     ]
    }
   ],
   "source": [
    "ilk_sayı    = input(\"ilk sayı: \")\n",
    "ikinci_sayı = input(\"ikinci sayı: \")\n",
    "\n",
    "try:\n",
    "    sayı1 = int(ilk_sayı)\n",
    "    sayı2 = int(ikinci_sayı)\n",
    "    print(sayı1, \"/\", sayı2, \"=\", sayı1 / sayı2)\n",
    "except ValueError as hata:  \n",
    "    print(hata)\n",
    "except ZeroDivisionError as hata:\n",
    "    print(hata)"
   ]
  },
  {
   "cell_type": "code",
   "execution_count": 12,
   "id": "3c3386f6-8197-464b-ba35-0c245a1ddb7d",
   "metadata": {},
   "outputs": [
    {
     "name": "stdin",
     "output_type": "stream",
     "text": [
      "ilk sayı:  5\n",
      "ikinci sayı:  0\n"
     ]
    },
    {
     "name": "stdout",
     "output_type": "stream",
     "text": [
      "Bir hata oluştu!\n",
      "orijinal hata mesajı:  division by zero\n"
     ]
    }
   ],
   "source": [
    "ilk_sayı    = input(\"ilk sayı: \")\n",
    "ikinci_sayı = input(\"ikinci sayı: \")\n",
    "\n",
    "try:\n",
    "    sayı1 = int(ilk_sayı)\n",
    "    sayı2 = int(ikinci_sayı)\n",
    "    print(sayı1, \"/\", sayı2, \"=\", sayı1 / sayı2)\n",
    "except (ValueError, ZeroDivisionError) as hata:\n",
    "    print(\"Bir hata oluştu!\")\n",
    "    print(\"orijinal hata mesajı: \", hata)"
   ]
  },
  {
   "cell_type": "markdown",
   "id": "14ac3d44-fad2-4a23-8775-db2952bcc8fc",
   "metadata": {},
   "source": [
    "# try… except… else…  finally.."
   ]
  },
  {
   "cell_type": "code",
   "execution_count": 15,
   "id": "2b7578c3-4359-4e8d-8a84-492486c07188",
   "metadata": {},
   "outputs": [
    {
     "name": "stdin",
     "output_type": "stream",
     "text": [
      "bölünecek sayı:  10\n",
      "bölen sayı:  j\n"
     ]
    },
    {
     "name": "stdout",
     "output_type": "stream",
     "text": [
      "Lütfen sadece sayı girin!\n"
     ]
    }
   ],
   "source": [
    "try:\n",
    "    bölünen = int(input(\"bölünecek sayı: \"))\n",
    "    bölen = int(input(\"bölen sayı: \"))\n",
    "except ValueError:\n",
    "    print(\"Lütfen sadece sayı girin!\")\n",
    "else:\n",
    "    try:\n",
    "        print(bölünen/bölen)\n",
    "    except ZeroDivisionError:\n",
    "        print(\"Bir sayıyı 0'a bölemezsiniz!\")"
   ]
  },
  {
   "cell_type": "markdown",
   "id": "fd837865-6872-4751-a707-6a85665ac7f8",
   "metadata": {},
   "source": [
    "Ancak sizi bir konuda uyarmak isterim: Bu yapı, her akla geldiğinde kullanılacak bir yapı değildir. Büyük programlarda bu tarz bir kullanım kodlarınızın darmadağın olmasına, kodlarınız üzerindeki denetimi tamamen kaybetmenize de yol açabilir. Sonunda da elinizde bölük pörçük bir kod yığını kalabilir. Zaten açıkça söylemek gerekirse try... except... else... yapısının çok geniş bir kullanım alanı yoktur. Bu yapı ancak çok nadir durumlarda kullanılmayı gerektirebilir. Dolayısıyla bu üçlü yapıyı hiç kullanmadan bir ömrü rahatlıkla geçirebilirsiniz."
   ]
  },
  {
   "cell_type": "code",
   "execution_count": 11,
   "id": "6d037b26-42aa-493a-86a3-25bf3a7d29f5",
   "metadata": {},
   "outputs": [
    {
     "name": "stdout",
     "output_type": "stream",
     "text": [
      "['10\\n', '20']\n"
     ]
    }
   ],
   "source": [
    "# Hata varsa finally çalıştır.\n",
    "try:\n",
    "    dosya = open(\"deneme.txt\", \"r\")\n",
    "    veri = dosya.readlines()\n",
    "    print(veri)\n",
    "except IOError:\n",
    "    print(\"bir hata oluştu!\")\n",
    "finally:\n",
    "    dosya.close()"
   ]
  },
  {
   "cell_type": "markdown",
   "id": "692db773-3316-45ec-90b6-9219cc17108d",
   "metadata": {},
   "source": [
    "Burada finally... bloğu içine yazdığımız dosya.close() ifadesi dosyamızı güvenli bir şekilde kapatmaya yarıyor. Bu blok, yazdığımız program hata verse de vermese de işletilecektir."
   ]
  },
  {
   "cell_type": "markdown",
   "id": "1c4742a1-ee63-4428-b650-ec1ee5071c21",
   "metadata": {},
   "source": [
    "# raise"
   ]
  },
  {
   "cell_type": "markdown",
   "id": "de39445d-c86e-4d9a-89c9-9a84c5f1f4dd",
   "metadata": {},
   "source": [
    "Bazen, yazdığımız bir programda, kullanıcının yaptığı bir işlem normal şartlar altında hata vermeyecek olsa bile biz ona ‘Python tarzı’ bir hata mesajı göstermek isteyebiliriz. Böyle bir durumda ihtiyacımız olan şey Python’ın bize sunduğu raise adlı deyimdir. Bu deyim yardımıyla duruma özgü hata mesajları üretebiliriz."
   ]
  },
  {
   "cell_type": "code",
   "execution_count": 23,
   "id": "453f509c-89c6-407f-8a7f-662138aafee7",
   "metadata": {},
   "outputs": [
    {
     "name": "stdin",
     "output_type": "stream",
     "text": [
      "bölünecek sayı:  23\n"
     ]
    },
    {
     "ename": "Exception",
     "evalue": "Bu programda 23 sayısını görmek istemiyorum!",
     "output_type": "error",
     "traceback": [
      "\u001b[1;31m---------------------------------------------------------------------------\u001b[0m",
      "\u001b[1;31mException\u001b[0m                                 Traceback (most recent call last)",
      "Input \u001b[1;32mIn [23]\u001b[0m, in \u001b[0;36m<cell line: 3>\u001b[1;34m()\u001b[0m\n\u001b[0;32m      1\u001b[0m bölünen \u001b[38;5;241m=\u001b[39m \u001b[38;5;28mint\u001b[39m(\u001b[38;5;28minput\u001b[39m(\u001b[38;5;124m\"\u001b[39m\u001b[38;5;124mbölünecek sayı: \u001b[39m\u001b[38;5;124m\"\u001b[39m))\n\u001b[0;32m      3\u001b[0m \u001b[38;5;28;01mif\u001b[39;00m bölünen \u001b[38;5;241m==\u001b[39m \u001b[38;5;241m23\u001b[39m:\n\u001b[1;32m----> 4\u001b[0m     \u001b[38;5;28;01mraise\u001b[39;00m \u001b[38;5;167;01mException\u001b[39;00m(\u001b[38;5;124m\"\u001b[39m\u001b[38;5;124mBu programda 23 sayısını görmek istemiyorum!\u001b[39m\u001b[38;5;124m\"\u001b[39m)\n\u001b[0;32m      6\u001b[0m bölen \u001b[38;5;241m=\u001b[39m \u001b[38;5;28mint\u001b[39m(\u001b[38;5;28minput\u001b[39m(\u001b[38;5;124m\"\u001b[39m\u001b[38;5;124mbölen sayı: \u001b[39m\u001b[38;5;124m\"\u001b[39m))\n\u001b[0;32m      7\u001b[0m \u001b[38;5;28mprint\u001b[39m(bölünen\u001b[38;5;241m/\u001b[39mbölen)\n",
      "\u001b[1;31mException\u001b[0m: Bu programda 23 sayısını görmek istemiyorum!"
     ]
    }
   ],
   "source": [
    "bölünen = int(input(\"bölünecek sayı: \"))\n",
    "\n",
    "if bölünen == 23:\n",
    "    raise Exception(\"Bu programda 23 sayısını görmek istemiyorum!\")\n",
    "\n",
    "bölen = int(input(\"bölen sayı: \"))\n",
    "print(bölünen/bölen)"
   ]
  },
  {
   "cell_type": "code",
   "execution_count": 4,
   "id": "89c58150-233b-49bd-8b72-868ffb0288b2",
   "metadata": {},
   "outputs": [],
   "source": [
    "# Şimdide Exception yerine TypeError yazalım"
   ]
  },
  {
   "cell_type": "code",
   "execution_count": 1,
   "id": "25afac0e-6a6d-4755-8b7a-1e2315f2e846",
   "metadata": {},
   "outputs": [
    {
     "name": "stdin",
     "output_type": "stream",
     "text": [
      "Parolanız:  şakir\n"
     ]
    },
    {
     "ename": "TypeError",
     "evalue": "Parolada Türkçe karakter kullanılamaz!",
     "output_type": "error",
     "traceback": [
      "\u001b[1;31m---------------------------------------------------------------------------\u001b[0m",
      "\u001b[1;31mTypeError\u001b[0m                                 Traceback (most recent call last)",
      "Input \u001b[1;32mIn [1]\u001b[0m, in \u001b[0;36m<cell line: 5>\u001b[1;34m()\u001b[0m\n\u001b[0;32m      5\u001b[0m \u001b[38;5;28;01mfor\u001b[39;00m i \u001b[38;5;129;01min\u001b[39;00m parola:\n\u001b[0;32m      6\u001b[0m     \u001b[38;5;28;01mif\u001b[39;00m i \u001b[38;5;129;01min\u001b[39;00m tr_karakter:\n\u001b[1;32m----> 7\u001b[0m         \u001b[38;5;28;01mraise\u001b[39;00m \u001b[38;5;167;01mTypeError\u001b[39;00m(\u001b[38;5;124m\"\u001b[39m\u001b[38;5;124mParolada Türkçe karakter kullanılamaz!\u001b[39m\u001b[38;5;124m\"\u001b[39m)\n\u001b[0;32m      8\u001b[0m     \u001b[38;5;28;01melse\u001b[39;00m:\n\u001b[0;32m      9\u001b[0m         \u001b[38;5;28;01mpass\u001b[39;00m\n",
      "\u001b[1;31mTypeError\u001b[0m: Parolada Türkçe karakter kullanılamaz!"
     ]
    }
   ],
   "source": [
    "tr_karakter = \"şçğüöıİ\"\n",
    "\n",
    "parola = input(\"Parolanız: \").lower()\n",
    "\n",
    "for i in parola:\n",
    "    if i in tr_karakter:\n",
    "        raise TypeError(\"Parolada Türkçe karakter kullanılamaz!\")\n",
    "    else:\n",
    "        pass\n",
    "\n",
    "print(\"Parola kabul edildi!\")"
   ]
  },
  {
   "cell_type": "code",
   "execution_count": 26,
   "id": "50837444-d456-40c0-b296-9ca94ce0ef52",
   "metadata": {},
   "outputs": [
    {
     "name": "stdin",
     "output_type": "stream",
     "text": [
      "bölünecek sayı:  10\n",
      "bölen sayı:  0\n"
     ]
    },
    {
     "name": "stdout",
     "output_type": "stream",
     "text": [
      "bir sayıyı 0'a bölemezsiniz\n"
     ]
    },
    {
     "ename": "ZeroDivisionError",
     "evalue": "division by zero",
     "output_type": "error",
     "traceback": [
      "\u001b[1;31m---------------------------------------------------------------------------\u001b[0m",
      "\u001b[1;31mZeroDivisionError\u001b[0m                         Traceback (most recent call last)",
      "Input \u001b[1;32mIn [26]\u001b[0m, in \u001b[0;36m<cell line: 3>\u001b[1;34m()\u001b[0m\n\u001b[0;32m      4\u001b[0m     bölünen \u001b[38;5;241m=\u001b[39m \u001b[38;5;28mint\u001b[39m(\u001b[38;5;28minput\u001b[39m(\u001b[38;5;124m\"\u001b[39m\u001b[38;5;124mbölünecek sayı: \u001b[39m\u001b[38;5;124m\"\u001b[39m))\n\u001b[0;32m      5\u001b[0m     bölen \u001b[38;5;241m=\u001b[39m \u001b[38;5;28mint\u001b[39m(\u001b[38;5;28minput\u001b[39m(\u001b[38;5;124m\"\u001b[39m\u001b[38;5;124mbölen sayı: \u001b[39m\u001b[38;5;124m\"\u001b[39m))\n\u001b[1;32m----> 6\u001b[0m     \u001b[38;5;28mprint\u001b[39m(\u001b[43mbölünen\u001b[49m\u001b[38;5;241;43m/\u001b[39;49m\u001b[43mbölen\u001b[49m)\n\u001b[0;32m      7\u001b[0m \u001b[38;5;28;01mexcept\u001b[39;00m \u001b[38;5;167;01mZeroDivisionError\u001b[39;00m:\n\u001b[0;32m      8\u001b[0m     \u001b[38;5;28mprint\u001b[39m(\u001b[38;5;124m\"\u001b[39m\u001b[38;5;124mbir sayıyı 0\u001b[39m\u001b[38;5;124m'\u001b[39m\u001b[38;5;124ma bölemezsiniz\u001b[39m\u001b[38;5;124m\"\u001b[39m)\n",
      "\u001b[1;31mZeroDivisionError\u001b[0m: division by zero"
     ]
    }
   ],
   "source": [
    "# raise deyimini, bir hata mesajına ek olarak bir işlem yapmak \n",
    "# istediğimizde de kullanabiliriz.\n",
    "try:\n",
    "    bölünen = int(input(\"bölünecek sayı: \"))\n",
    "    bölen = int(input(\"bölen sayı: \"))\n",
    "    print(bölünen/bölen)\n",
    "except ZeroDivisionError:\n",
    "    print(\"bir sayıyı 0'a bölemezsiniz\")\n",
    "    raise"
   ]
  },
  {
   "cell_type": "markdown",
   "id": "f49756df-2c17-4491-bbec-97f9f9179bed",
   "metadata": {},
   "source": [
    "# assert"
   ]
  },
  {
   "cell_type": "code",
   "execution_count": 2,
   "id": "fd625a27-2509-43bc-b956-2e6c0f1f79b4",
   "metadata": {},
   "outputs": [
    {
     "name": "stdin",
     "output_type": "stream",
     "text": [
      "Merhaba! Adın ne?  \n"
     ]
    },
    {
     "ename": "AssertionError",
     "evalue": "İsim bölümü boş.",
     "output_type": "error",
     "traceback": [
      "\u001b[1;31m---------------------------------------------------------------------------\u001b[0m",
      "\u001b[1;31mAssertionError\u001b[0m                            Traceback (most recent call last)",
      "Input \u001b[1;32mIn [2]\u001b[0m, in \u001b[0;36m<cell line: 2>\u001b[1;34m()\u001b[0m\n\u001b[0;32m      1\u001b[0m giriş \u001b[38;5;241m=\u001b[39m \u001b[38;5;28minput\u001b[39m(\u001b[38;5;124m\"\u001b[39m\u001b[38;5;124mMerhaba! Adın ne? \u001b[39m\u001b[38;5;124m\"\u001b[39m)\n\u001b[0;32m      2\u001b[0m \u001b[38;5;28;01mif\u001b[39;00m \u001b[38;5;28mlen\u001b[39m(giriş) \u001b[38;5;241m==\u001b[39m \u001b[38;5;241m0\u001b[39m:\n\u001b[1;32m----> 3\u001b[0m     \u001b[38;5;28;01mraise\u001b[39;00m \u001b[38;5;167;01mAssertionError\u001b[39;00m(\u001b[38;5;124m\"\u001b[39m\u001b[38;5;124mİsim bölümü boş.\u001b[39m\u001b[38;5;124m\"\u001b[39m)\n\u001b[0;32m      4\u001b[0m \u001b[38;5;28mprint\u001b[39m(\u001b[38;5;124m\"\u001b[39m\u001b[38;5;124mHoşgeldiniz.\u001b[39m\u001b[38;5;124m\"\u001b[39m)\n",
      "\u001b[1;31mAssertionError\u001b[0m: İsim bölümü boş."
     ]
    }
   ],
   "source": [
    "giriş = input(\"Merhaba! Adın ne? \")\n",
    "if len(giriş) == 0:\n",
    "    raise AssertionError(\"İsim bölümü boş.\")\n",
    "print(\"Hoşgeldiniz.\")"
   ]
  },
  {
   "cell_type": "code",
   "execution_count": 3,
   "id": "d403bdbd-4625-4f9e-a34b-9babb70b1738",
   "metadata": {},
   "outputs": [
    {
     "name": "stdin",
     "output_type": "stream",
     "text": [
      "Merhaba! Adın ne?  \n"
     ]
    },
    {
     "ename": "AssertionError",
     "evalue": "İsim bölümü boş.",
     "output_type": "error",
     "traceback": [
      "\u001b[1;31m---------------------------------------------------------------------------\u001b[0m",
      "\u001b[1;31mAssertionError\u001b[0m                            Traceback (most recent call last)",
      "Input \u001b[1;32mIn [3]\u001b[0m, in \u001b[0;36m<cell line: 2>\u001b[1;34m()\u001b[0m\n\u001b[0;32m      1\u001b[0m giriş \u001b[38;5;241m=\u001b[39m \u001b[38;5;28minput\u001b[39m(\u001b[38;5;124m\"\u001b[39m\u001b[38;5;124mMerhaba! Adın ne? \u001b[39m\u001b[38;5;124m\"\u001b[39m)\n\u001b[1;32m----> 2\u001b[0m \u001b[38;5;28;01massert\u001b[39;00m \u001b[38;5;28mlen\u001b[39m(giriş) \u001b[38;5;241m!=\u001b[39m \u001b[38;5;241m0\u001b[39m , \u001b[38;5;124m\"\u001b[39m\u001b[38;5;124mİsim bölümü boş.\u001b[39m\u001b[38;5;124m\"\u001b[39m\n\u001b[0;32m      3\u001b[0m \u001b[38;5;28mprint\u001b[39m(\u001b[38;5;124m\"\u001b[39m\u001b[38;5;124mHoşgeldiniz.\u001b[39m\u001b[38;5;124m\"\u001b[39m)\n",
      "\u001b[1;31mAssertionError\u001b[0m: İsim bölümü boş."
     ]
    }
   ],
   "source": [
    "giriş = input(\"Merhaba! Adın ne? \")\n",
    "assert len(giriş) != 0 , \"İsim bölümü boş.\"\n",
    "print(\"Hoşgeldiniz.\")"
   ]
  },
  {
   "cell_type": "code",
   "execution_count": null,
   "id": "ae48505d-ce56-4570-9e08-e7ed6e3fcb76",
   "metadata": {},
   "outputs": [],
   "source": []
  }
 ],
 "metadata": {
  "kernelspec": {
   "display_name": "Python 3 (ipykernel)",
   "language": "python",
   "name": "python3"
  },
  "language_info": {
   "codemirror_mode": {
    "name": "ipython",
    "version": 3
   },
   "file_extension": ".py",
   "mimetype": "text/x-python",
   "name": "python",
   "nbconvert_exporter": "python",
   "pygments_lexer": "ipython3",
   "version": "3.9.12"
  }
 },
 "nbformat": 4,
 "nbformat_minor": 5
}
