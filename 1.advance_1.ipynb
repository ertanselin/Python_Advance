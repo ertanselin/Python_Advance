{
 "cells": [
  {
   "cell_type": "markdown",
   "metadata": {},
   "source": [
    "## Functions"
   ]
  },
  {
   "cell_type": "markdown",
   "metadata": {},
   "source": [
    "def function_name(parametreler):\n",
    "    functions_govdesi"
   ]
  },
  {
   "cell_type": "code",
   "execution_count": 2,
   "metadata": {},
   "outputs": [],
   "source": [
    "import sys ## bunu çalıştırdık çünkü alttaki kod hata verdi.\n",
    "## print gömülü, sys gömülü olmadığı için yükledik."
   ]
  },
  {
   "cell_type": "code",
   "execution_count": 3,
   "metadata": {},
   "outputs": [
    {
     "name": "stdout",
     "output_type": "stream",
     "text": [
      "Paşa\tGönül\t2010\tKarayazı\n"
     ]
    }
   ],
   "source": [
    "print(\"Paşa\", \"Gönül\", 2010, \"Karayazı\", sep='\\t', end='\\n', file=sys.stdout, flush=False)\n",
    "## sys.stdout = ekrana yazdır demek.\n",
    "## flush= False, bunları dosyaya kayderdersek 2. dosyayı tut kapatınca kaydet. True dersek her yazdığımızda kaydeder. \n",
    "## sep, end, sys, flush isimli parametredir. Diğrleri isimsiz parametre.\n"
   ]
  },
  {
   "cell_type": "code",
   "execution_count": 4,
   "metadata": {},
   "outputs": [
    {
     "name": "stdout",
     "output_type": "stream",
     "text": [
      "Help on built-in function print in module builtins:\n",
      "\n",
      "print(...)\n",
      "    print(value, ..., sep=' ', end='\\n', file=sys.stdout, flush=False)\n",
      "    \n",
      "    Prints the values to a stream, or to sys.stdout by default.\n",
      "    Optional keyword arguments:\n",
      "    file:  a file-like object (stream); defaults to the current sys.stdout.\n",
      "    sep:   string inserted between values, default a space.\n",
      "    end:   string appended after the last value, default a newline.\n",
      "    flush: whether to forcibly flush the stream.\n",
      "\n"
     ]
    }
   ],
   "source": [
    "help(print)"
   ]
  },
  {
   "cell_type": "code",
   "execution_count": 5,
   "metadata": {},
   "outputs": [],
   "source": [
    "def show_systems_informations():\n",
    "    print(\"\\nSistemde kurulu python'un;\")\n",
    "    print(\"\\tana sürüm numarası :\",sys.version_info_major)       ## ana sürüm\n",
    "    print(\"\\talt sürüm numarası :\",sys.version_info_minor)       ## alt sürüm\n",
    "    print(\"\\tminik sürüm numarası :\",sys.version_info_micro)     ## mikro sürüm\n",
    "\n",
    "    print(\"İşletim sistemi adı :\",sys.platform)"
   ]
  },
  {
   "cell_type": "code",
   "execution_count": 6,
   "metadata": {},
   "outputs": [
    {
     "name": "stdout",
     "output_type": "stream",
     "text": [
      "\n",
      "Sistemde kurulu python'un;\n"
     ]
    },
    {
     "ename": "AttributeError",
     "evalue": "module 'sys' has no attribute 'version_info_major'",
     "output_type": "error",
     "traceback": [
      "\u001b[1;31m---------------------------------------------------------------------------\u001b[0m",
      "\u001b[1;31mAttributeError\u001b[0m                            Traceback (most recent call last)",
      "Cell \u001b[1;32mIn [6], line 1\u001b[0m\n\u001b[1;32m----> 1\u001b[0m show_systems_informations()\n",
      "Cell \u001b[1;32mIn [5], line 3\u001b[0m, in \u001b[0;36mshow_systems_informations\u001b[1;34m()\u001b[0m\n\u001b[0;32m      1\u001b[0m \u001b[39mdef\u001b[39;00m \u001b[39mshow_systems_informations\u001b[39m():\n\u001b[0;32m      2\u001b[0m     \u001b[39mprint\u001b[39m(\u001b[39m\"\u001b[39m\u001b[39m\\n\u001b[39;00m\u001b[39mSistemde kurulu python\u001b[39m\u001b[39m'\u001b[39m\u001b[39mun;\u001b[39m\u001b[39m\"\u001b[39m)\n\u001b[1;32m----> 3\u001b[0m     \u001b[39mprint\u001b[39m(\u001b[39m\"\u001b[39m\u001b[39m\\t\u001b[39;00m\u001b[39mana sürüm numarası :\u001b[39m\u001b[39m\"\u001b[39m,sys\u001b[39m.\u001b[39;49mversion_info_major)       \u001b[39m## ana sürüm\u001b[39;00m\n\u001b[0;32m      4\u001b[0m     \u001b[39mprint\u001b[39m(\u001b[39m\"\u001b[39m\u001b[39m\\t\u001b[39;00m\u001b[39malt sürüm numarası :\u001b[39m\u001b[39m\"\u001b[39m,sys\u001b[39m.\u001b[39mversion_info_minor)       \u001b[39m## alt sürüm\u001b[39;00m\n\u001b[0;32m      5\u001b[0m     \u001b[39mprint\u001b[39m(\u001b[39m\"\u001b[39m\u001b[39m\\t\u001b[39;00m\u001b[39mminik sürüm numarası :\u001b[39m\u001b[39m\"\u001b[39m,sys\u001b[39m.\u001b[39mversion_info_micro)     \u001b[39m## mikro sürüm\u001b[39;00m\n",
      "\u001b[1;31mAttributeError\u001b[0m: module 'sys' has no attribute 'version_info_major'"
     ]
    }
   ],
   "source": [
    "show_systems_informations()     ## BAK"
   ]
  },
  {
   "cell_type": "code",
   "execution_count": null,
   "metadata": {},
   "outputs": [
    {
     "data": {
      "text/plain": [
       "'3.10.6 (tags/v3.10.6:9c7b4bd, Aug  1 2022, 21:53:49) [MSC v.1932 64 bit (AMD64)]'"
      ]
     },
     "execution_count": 29,
     "metadata": {},
     "output_type": "execute_result"
    }
   ],
   "source": [
    "import sys\n",
    "sys.version"
   ]
  },
  {
   "cell_type": "code",
   "execution_count": null,
   "metadata": {},
   "outputs": [],
   "source": [
    "import math"
   ]
  },
  {
   "cell_type": "code",
   "execution_count": null,
   "metadata": {},
   "outputs": [
    {
     "data": {
      "text/plain": [
       "['__doc__',\n",
       " '__loader__',\n",
       " '__name__',\n",
       " '__package__',\n",
       " '__spec__',\n",
       " 'acos',\n",
       " 'acosh',\n",
       " 'asin',\n",
       " 'asinh',\n",
       " 'atan',\n",
       " 'atan2',\n",
       " 'atanh',\n",
       " 'ceil',\n",
       " 'comb',\n",
       " 'copysign',\n",
       " 'cos',\n",
       " 'cosh',\n",
       " 'degrees',\n",
       " 'dist',\n",
       " 'e',\n",
       " 'erf',\n",
       " 'erfc',\n",
       " 'exp',\n",
       " 'expm1',\n",
       " 'fabs',\n",
       " 'factorial',\n",
       " 'floor',\n",
       " 'fmod',\n",
       " 'frexp',\n",
       " 'fsum',\n",
       " 'gamma',\n",
       " 'gcd',\n",
       " 'hypot',\n",
       " 'inf',\n",
       " 'isclose',\n",
       " 'isfinite',\n",
       " 'isinf',\n",
       " 'isnan',\n",
       " 'isqrt',\n",
       " 'lcm',\n",
       " 'ldexp',\n",
       " 'lgamma',\n",
       " 'log',\n",
       " 'log10',\n",
       " 'log1p',\n",
       " 'log2',\n",
       " 'modf',\n",
       " 'nan',\n",
       " 'nextafter',\n",
       " 'perm',\n",
       " 'pi',\n",
       " 'pow',\n",
       " 'prod',\n",
       " 'radians',\n",
       " 'remainder',\n",
       " 'sin',\n",
       " 'sinh',\n",
       " 'sqrt',\n",
       " 'tan',\n",
       " 'tanh',\n",
       " 'tau',\n",
       " 'trunc',\n",
       " 'ulp']"
      ]
     },
     "execution_count": 32,
     "metadata": {},
     "output_type": "execute_result"
    }
   ],
   "source": [
    "dir(math)"
   ]
  },
  {
   "cell_type": "code",
   "execution_count": null,
   "metadata": {},
   "outputs": [
    {
     "data": {
      "text/plain": [
       "120"
      ]
     },
     "execution_count": 33,
     "metadata": {},
     "output_type": "execute_result"
    }
   ],
   "source": [
    "math.factorial(5)       ## matematik fonksiyonlarını kullanmak için başına math. yazmalıyız."
   ]
  },
  {
   "cell_type": "code",
   "execution_count": null,
   "metadata": {},
   "outputs": [],
   "source": [
    "from math import *          ## * in anlamı \"_\" olanlar hariç hepsini çağırır. Bunu yaparsak hepsini kullanabiliriz.\n",
    "\n",
    "## Bu yöntem çok tavsiye edilmez."
   ]
  },
  {
   "cell_type": "code",
   "execution_count": null,
   "metadata": {},
   "outputs": [
    {
     "data": {
      "text/plain": [
       "120"
      ]
     },
     "execution_count": 36,
     "metadata": {},
     "output_type": "execute_result"
    }
   ],
   "source": [
    "factorial(5)"
   ]
  },
  {
   "cell_type": "code",
   "execution_count": null,
   "metadata": {},
   "outputs": [],
   "source": [
    "from math import factorial as f ## Bu şekilde kısa isim kullanabiliriz."
   ]
  },
  {
   "cell_type": "code",
   "execution_count": null,
   "metadata": {},
   "outputs": [
    {
     "data": {
      "text/plain": [
       "120"
      ]
     },
     "execution_count": 39,
     "metadata": {},
     "output_type": "execute_result"
    }
   ],
   "source": [
    "f(5)"
   ]
  },
  {
   "cell_type": "code",
   "execution_count": 7,
   "metadata": {},
   "outputs": [],
   "source": [
    "def fact (x):                               \n",
    "    f = 1\n",
    "    for i in range(2,x+1):\n",
    "        f = f * i\n",
    "    return f"
   ]
  },
  {
   "cell_type": "code",
   "execution_count": null,
   "metadata": {},
   "outputs": [
    {
     "data": {
      "text/plain": [
       "120"
      ]
     },
     "execution_count": 43,
     "metadata": {},
     "output_type": "execute_result"
    }
   ],
   "source": [
    "factorial(5)"
   ]
  },
  {
   "cell_type": "code",
   "execution_count": null,
   "metadata": {},
   "outputs": [
    {
     "data": {
      "text/plain": [
       "120"
      ]
     },
     "execution_count": 45,
     "metadata": {},
     "output_type": "execute_result"
    }
   ],
   "source": [
    "a = f(5)\n",
    "a"
   ]
  },
  {
   "cell_type": "code",
   "execution_count": null,
   "metadata": {},
   "outputs": [
    {
     "data": {
      "text/plain": [
       "120"
      ]
     },
     "execution_count": 46,
     "metadata": {},
     "output_type": "execute_result"
    }
   ],
   "source": [
    "b = factorial(5)\n",
    "b"
   ]
  },
  {
   "cell_type": "code",
   "execution_count": 9,
   "metadata": {},
   "outputs": [
    {
     "data": {
      "text/plain": [
       "120"
      ]
     },
     "execution_count": 9,
     "metadata": {},
     "output_type": "execute_result"
    }
   ],
   "source": [
    "b = fact(5)\n",
    "b"
   ]
  },
  {
   "cell_type": "code",
   "execution_count": 10,
   "metadata": {},
   "outputs": [
    {
     "data": {
      "text/plain": [
       "1"
      ]
     },
     "execution_count": 10,
     "metadata": {},
     "output_type": "execute_result"
    }
   ],
   "source": [
    "fact(0)"
   ]
  },
  {
   "cell_type": "code",
   "execution_count": 16,
   "metadata": {},
   "outputs": [
    {
     "name": "stdout",
     "output_type": "stream",
     "text": [
      "sin değeri: 1.0000032058668369\n"
     ]
    }
   ],
   "source": [
    "x = float(input(\"x değerini gir:\"))     ## derece girmeyiz. radyan gireriz.\n",
    "\n",
    "sin = 0; sign = 1\n",
    "\n",
    "for i in range(1,10,2):\n",
    "    sin = sin + sign * x ** i / fact(i)\n",
    "    sign = sign * (-1)\n",
    "print(\"sin değeri:\", sin)\n",
    "\n",
    "#### Burada 10 tane de aldık. bunu 10 değilde 30 yapsaydık doğru değere daha çok yaklaşmış olurduk."
   ]
  },
  {
   "cell_type": "code",
   "execution_count": 13,
   "metadata": {},
   "outputs": [],
   "source": [
    "import math"
   ]
  },
  {
   "cell_type": "code",
   "execution_count": 14,
   "metadata": {},
   "outputs": [
    {
     "data": {
      "text/plain": [
       "0.9999996829318346"
      ]
     },
     "execution_count": 14,
     "metadata": {},
     "output_type": "execute_result"
    }
   ],
   "source": [
    "math.sin(1.57)"
   ]
  },
  {
   "cell_type": "code",
   "execution_count": 25,
   "metadata": {},
   "outputs": [],
   "source": [
    "def kayit(isim, soyisim, d_tarihi, sehir):\n",
    "    print(\"-\"*30)\n",
    "\n",
    "    \n",
    "    print(\"isim         :\", isim)\n",
    "    print(\"sayisim      :\", soyisim)\n",
    "    print(\"doğum tarihi :\", d_tarihi)\n",
    "    print(\"sehir        :\", sehir)\n",
    "\n",
    "    print(\"-\"*30)"
   ]
  },
  {
   "cell_type": "code",
   "execution_count": 27,
   "metadata": {},
   "outputs": [
    {
     "name": "stdout",
     "output_type": "stream",
     "text": [
      "------------------------------\n",
      "isim         : Şakir\n",
      "sayisim      : Karabiber\n",
      "doğum tarihi : 2005\n",
      "sehir        : Manisa\n",
      "------------------------------\n"
     ]
    }
   ],
   "source": [
    "kayit(isim=\"Şakir\", soyisim = \"Karabiber\", d_tarihi = \"2005\", sehir = \"Manisa\")"
   ]
  },
  {
   "cell_type": "code",
   "execution_count": 26,
   "metadata": {},
   "outputs": [
    {
     "name": "stdout",
     "output_type": "stream",
     "text": [
      "------------------------------\n",
      "isim         : Şakir\n",
      "sayisim      : Karabiber\n",
      "doğum tarihi : 2005\n",
      "sehir        : Manisa\n",
      "------------------------------\n"
     ]
    }
   ],
   "source": [
    "kayit(\"Şakir\", \"Karabiber\", 2005, \"Manisa\" )"
   ]
  },
  {
   "cell_type": "markdown",
   "metadata": {},
   "source": [
    "## Arbitrary No-name Arguments"
   ]
  },
  {
   "cell_type": "code",
   "execution_count": 28,
   "metadata": {},
   "outputs": [
    {
     "name": "stdout",
     "output_type": "stream",
     "text": [
      "A,l,i\n"
     ]
    }
   ],
   "source": [
    "print(*\"Ali\", sep=\",\")"
   ]
  },
  {
   "cell_type": "code",
   "execution_count": 32,
   "metadata": {},
   "outputs": [],
   "source": [
    "def fonksiyon(*args):       ## * koyduğumuz zaman istediğimiz kadar argüman girebiliriz. args 256 değer alabilir.\n",
    "    print(args)"
   ]
  },
  {
   "cell_type": "code",
   "execution_count": 31,
   "metadata": {},
   "outputs": [
    {
     "name": "stdout",
     "output_type": "stream",
     "text": [
      "(1, 2, 3, 4, 5, 6, 7, 8)\n"
     ]
    }
   ],
   "source": [
    "fonksiyon(1,2,3,4,5,6,7,8)"
   ]
  },
  {
   "cell_type": "code",
   "execution_count": 35,
   "metadata": {},
   "outputs": [],
   "source": [
    "def maximum(*args):\n",
    "    x = args[0]\n",
    "\n",
    "    for i in args:\n",
    "        if x < i:\n",
    "            x = i\n",
    "    print(x)"
   ]
  },
  {
   "cell_type": "code",
   "execution_count": 36,
   "metadata": {},
   "outputs": [
    {
     "name": "stdout",
     "output_type": "stream",
     "text": [
      "87\n"
     ]
    }
   ],
   "source": [
    "maximum(1, 5, 8, 9, 25, 87 ,12)"
   ]
  },
  {
   "cell_type": "code",
   "execution_count": 65,
   "metadata": {},
   "outputs": [
    {
     "name": "stdout",
     "output_type": "stream",
     "text": [
      "87\n"
     ]
    }
   ],
   "source": [
    "a = maximum(1, 5, 8, 9, 25, 87 ,12)"
   ]
  },
  {
   "cell_type": "code",
   "execution_count": 67,
   "metadata": {},
   "outputs": [],
   "source": [
    "a ## a'nın bir değeri karşılığı yok çünkü print ile yazdırdık, döndürmedik. "
   ]
  },
  {
   "cell_type": "code",
   "execution_count": 68,
   "metadata": {},
   "outputs": [],
   "source": [
    "def maximum1(*args):\n",
    "    x = args[0]\n",
    "\n",
    "    for i in args:\n",
    "        if x < i:\n",
    "            x = i\n",
    "    return(x)"
   ]
  },
  {
   "cell_type": "code",
   "execution_count": 69,
   "metadata": {},
   "outputs": [],
   "source": [
    "a = maximum1(1, 5, 8, 9, 25, 87 ,12)"
   ]
  },
  {
   "cell_type": "code",
   "execution_count": 71,
   "metadata": {},
   "outputs": [
    {
     "data": {
      "text/plain": [
       "87"
      ]
     },
     "execution_count": 71,
     "metadata": {},
     "output_type": "execute_result"
    }
   ],
   "source": [
    "a       ## Formülde print yerine return kullandık ve bunu değişkene atadığımızda değer aldık yani döndürdük."
   ]
  },
  {
   "cell_type": "code",
   "execution_count": 74,
   "metadata": {},
   "outputs": [],
   "source": [
    "def maximum2(*args):\n",
    "    xax = args[0]\n",
    "\n",
    "    for i in args:\n",
    "        if xax < i:\n",
    "            xax = i\n",
    "    print(xax)"
   ]
  },
  {
   "cell_type": "code",
   "execution_count": 76,
   "metadata": {},
   "outputs": [
    {
     "ename": "NameError",
     "evalue": "name 'xax' is not defined",
     "output_type": "error",
     "traceback": [
      "\u001b[1;31m---------------------------------------------------------------------------\u001b[0m",
      "\u001b[1;31mNameError\u001b[0m                                 Traceback (most recent call last)",
      "Cell \u001b[1;32mIn [76], line 1\u001b[0m\n\u001b[1;32m----> 1\u001b[0m xax\n",
      "\u001b[1;31mNameError\u001b[0m: name 'xax' is not defined"
     ]
    }
   ],
   "source": [
    "xax     ## hata verdi. Çünkü xax i fonksiyonda kullanmamıza rağmen tanımlı değil. Yani global yazmak önemli "
   ]
  },
  {
   "cell_type": "markdown",
   "metadata": {},
   "source": [
    "## Arbitrary Name Arguments"
   ]
  },
  {
   "cell_type": "code",
   "execution_count": 37,
   "metadata": {},
   "outputs": [],
   "source": [
    "def kayit_2(**kwargs):\n",
    "    print(kwargs)"
   ]
  },
  {
   "cell_type": "code",
   "execution_count": 38,
   "metadata": {},
   "outputs": [
    {
     "name": "stdout",
     "output_type": "stream",
     "text": [
      "{'isim': 'Ahmet', 'soyisim': 'Öz', 'meslek': 'Öğretmen', 'sehir': 'Ankara'}\n"
     ]
    }
   ],
   "source": [
    "kayit_2(isim = \"Ahmet\", soyisim = \"Öz\", meslek = \"Öğretmen\", sehir = \"Ankara\")"
   ]
  },
  {
   "cell_type": "code",
   "execution_count": 40,
   "metadata": {},
   "outputs": [],
   "source": [
    "def kayit_3(**kwargs):\n",
    "\n",
    "    for i in kwargs:\n",
    "        print(i, kwargs[i])"
   ]
  },
  {
   "cell_type": "code",
   "execution_count": 41,
   "metadata": {},
   "outputs": [
    {
     "name": "stdout",
     "output_type": "stream",
     "text": [
      "isim Ahmet\n",
      "soyisim Öz\n",
      "meslek Öğretmen\n",
      "sehir Ankara\n"
     ]
    }
   ],
   "source": [
    "kayit_3(isim = \"Ahmet\", soyisim = \"Öz\", meslek = \"Öğretmen\", sehir = \"Ankara\")"
   ]
  },
  {
   "cell_type": "code",
   "execution_count": 45,
   "metadata": {},
   "outputs": [],
   "source": [
    "def kayit_4(**kwargs):\n",
    "\n",
    "    for i in kwargs:\n",
    "        print(f\"{i:10.8} : {kwargs[i]:.10}\")  ## key için 10 tane yer ayır 8 ini kullan. value için sonsuz boşluk var 10 tane kullan dedik."
   ]
  },
  {
   "cell_type": "code",
   "execution_count": 43,
   "metadata": {},
   "outputs": [
    {
     "name": "stdout",
     "output_type": "stream",
     "text": [
      "isim       : Ahmet\n",
      "soyisim    : Öz\n",
      "meslek     : Öğretmen\n",
      "sehir      : Ankara\n"
     ]
    }
   ],
   "source": [
    "kayit_4(isim = \"Ahmet\", soyisim = \"Öz\", meslek = \"Öğretmen\", sehir = \"Ankara\")"
   ]
  },
  {
   "cell_type": "code",
   "execution_count": 47,
   "metadata": {},
   "outputs": [],
   "source": [
    "def kayit_5(**kwargs):\n",
    "\n",
    "    for i,j in kwargs.items():\n",
    "        print(f\"{i:10.8} : {j}\")  "
   ]
  },
  {
   "cell_type": "code",
   "execution_count": 48,
   "metadata": {},
   "outputs": [
    {
     "name": "stdout",
     "output_type": "stream",
     "text": [
      "isim       : Ahmet\n",
      "soyisim    : Öz\n",
      "meslek     : Öğretmen\n",
      "sehir      : Ankara\n"
     ]
    }
   ],
   "source": [
    "kayit_5(isim = \"Ahmet\", soyisim = \"Öz\", meslek = \"Öğretmen\", sehir = \"Ankara\")"
   ]
  },
  {
   "cell_type": "code",
   "execution_count": 64,
   "metadata": {},
   "outputs": [],
   "source": [
    "def karsilik_bul (*args, **kwargs):             ## *args bana liste ver demek, **kwargs dict.\n",
    "    for sozcuk in args:\n",
    "        if sozcuk in kwargs:\n",
    "            print(\"{} = {}\".format(sozcuk, kwargs[sozcuk]))\n",
    "        else:\n",
    "            print(\"{} kelimesi sözlükte yoktur!\".format(sozcuk))\n",
    "sozluk = {\"kitap\" : \"book\",\n",
    "        \"bilgisayar\" : \"computer\",\n",
    "        \"programlama\" : \"programming\",\n",
    "        \"beş\" : \"five\"\n",
    "        }\n",
    "## değişkeni kullanacaksak return ile yazdırmamız lazım. print dersek o değişkeni kullanmayız sadece çıktı olarak verir. \n",
    "## return ile yazarsak artık bunu bir değişkene atamışız gibi işlemlerimizde kullanabiliriz."
   ]
  },
  {
   "cell_type": "code",
   "execution_count": 59,
   "metadata": {},
   "outputs": [
    {
     "name": "stdout",
     "output_type": "stream",
     "text": [
      "kitap = book\n",
      "bilgisayar = computer\n",
      "beş = five\n",
      "Abbas kelimesi sözlükte yoktur!\n"
     ]
    }
   ],
   "source": [
    "karsilik_bul(\"kitap\", \"bilgisayar\", \"beş\", \"Abbas\", **sozluk)"
   ]
  },
  {
   "cell_type": "code",
   "execution_count": 62,
   "metadata": {},
   "outputs": [
    {
     "name": "stdout",
     "output_type": "stream",
     "text": [
      "kitap = book\n"
     ]
    }
   ],
   "source": [
    "karsilik_bul(\"kitap\", kitap = \"book\")"
   ]
  },
  {
   "cell_type": "code",
   "execution_count": null,
   "metadata": {},
   "outputs": [],
   "source": []
  },
  {
   "cell_type": "code",
   "execution_count": null,
   "metadata": {},
   "outputs": [],
   "source": []
  }
 ],
 "metadata": {
  "kernelspec": {
   "display_name": "Python 3.10.6 64-bit",
   "language": "python",
   "name": "python3"
  },
  "language_info": {
   "codemirror_mode": {
    "name": "ipython",
    "version": 3
   },
   "file_extension": ".py",
   "mimetype": "text/x-python",
   "name": "python",
   "nbconvert_exporter": "python",
   "pygments_lexer": "ipython3",
   "version": "3.10.6"
  },
  "orig_nbformat": 4,
  "vscode": {
   "interpreter": {
    "hash": "ca9bf153d0424cfea38306709b7a768ab3002a88da7a98d34b83fa44f9719c2d"
   }
  }
 },
 "nbformat": 4,
 "nbformat_minor": 2
}
