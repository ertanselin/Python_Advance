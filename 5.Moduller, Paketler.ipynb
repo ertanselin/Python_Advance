{
 "cells": [
  {
   "cell_type": "markdown",
   "id": "9f5a8015-037b-47df-b50e-38e7d499744d",
   "metadata": {},
   "source": [
    "# <font color='red'>Moduller"
   ]
  },
  {
   "cell_type": "markdown",
   "id": "8336fd2d-b84e-4186-936f-84437a9d3193",
   "metadata": {},
   "source": [
    "\n",
    "Pythonda her dosya bir modül olarak adlandırılır. \n",
    "Modüller, bazı işlevleri kolaylıkla yerine getirmemizi sağlayan birtakım fonksiyonları ve nitelikleri içinde barındıran araçlardır.  \n",
    "\n",
    "Python’ın fonksiyon sistemi nasıl bize bir işlevselliği aynı dosya içinde tekrar tekrar kullanma imkanı veriyorsa, modül sistemi de bir fonksiyonu farklı dosyalar ve programlar içinde tekrar tekrar kullanma imkanı verir."
   ]
  },
  {
   "cell_type": "code",
   "execution_count": null,
   "id": "da48cfd5-5ec2-4d32-bec8-4bf537701b28",
   "metadata": {},
   "outputs": [],
   "source": [
    "import random\n",
    "liste = [random.randint(0, 10000) for i in range(10)]\n",
    "liste"
   ]
  },
  {
   "cell_type": "markdown",
   "id": "0e450c97-5a19-4443-a1a8-459354df8809",
   "metadata": {},
   "source": [
    "Python’da iki farklı fonksiyon türü olduğundan söz etmiştik:\n",
    "\n",
    "       - Kendi tanımladığımız fonksiyonlar\n",
    "       - Gömülü (‘built-in’) fonksiyonlar\n",
    "\n",
    "Aynı şekilde modüller de iki farklı başlık altında incelenebilir:\n",
    "\n",
    "       - Kendi tanımladığımız modüller\n",
    "       - Hazır modüller\n",
    "       \n",
    "Hazır modüller, Python geliştiricilerinin veya bizim dışımızdaki Python programcılarının yazıp hizmetimize sunduğu modüllerdir. Hazır modüller de kendi içinde ikiye ayrılabilir:\n",
    "\n",
    "        - Standart Kütüphane Modülleri\n",
    "        - Üçüncü Şahıs Modülleri\n",
    "        \n",
    "Standart Kütüphane Modülleri, doğrudan Python geliştiricileri tarafından yazılıp dile kaynaştırılmış modüllerdir. Bu yönüyle bu modüller gömülü fonksiyonlara çok benzer. Tıpkı gömülü fonksiyonlarda olduğu gibi, Standart Kütüphane Modülleri de her an emrimize amadedir. Biz bunları istediğimiz her an, herhangi bir ek yazılım kurmak zorunda kalmadan, kendi programlarımız içinde kullanabiliriz. Örnek sys, random, math,os \n",
    "\n",
    "        "
   ]
  },
  {
   "cell_type": "code",
   "execution_count": null,
   "id": "c3e04c9a-1988-4b46-8a2c-f932a03fad40",
   "metadata": {},
   "outputs": [],
   "source": [
    "import os\n",
    "os.name"
   ]
  },
  {
   "cell_type": "code",
   "execution_count": null,
   "id": "b3484591-656f-466e-b5e1-cfd05bc88ee6",
   "metadata": {},
   "outputs": [],
   "source": [
    "pwd()"
   ]
  },
  {
   "cell_type": "code",
   "execution_count": null,
   "id": "4d465ff0-b604-4ed5-88e0-b66e975b0499",
   "metadata": {},
   "outputs": [],
   "source": [
    "os.getcwd()"
   ]
  },
  {
   "cell_type": "code",
   "execution_count": null,
   "id": "72ed3eb7-ceca-41da-a787-e8b2ff1ce671",
   "metadata": {},
   "outputs": [],
   "source": [
    "os.makedirs('DATA')"
   ]
  },
  {
   "cell_type": "code",
   "execution_count": null,
   "id": "3b96ef78-34c8-4afd-af9d-3f3d3090395b",
   "metadata": {},
   "outputs": [],
   "source": [
    "os.sep  # Windows dizin ayracı "
   ]
  },
  {
   "cell_type": "code",
   "execution_count": null,
   "id": "85017467-b893-4c5b-bb0c-c5d9bd609a2a",
   "metadata": {},
   "outputs": [],
   "source": [
    "os.stat(\"deco.txt\")"
   ]
  },
  {
   "cell_type": "code",
   "execution_count": null,
   "id": "1270eb9e-4c7f-4fdc-9de7-5f5178ae3f60",
   "metadata": {},
   "outputs": [],
   "source": [
    "os.path.abspath(\"deco.txt\") #Dosyanın tam yolu"
   ]
  },
  {
   "cell_type": "code",
   "execution_count": null,
   "id": "fa48e0aa-32e2-4e07-813b-f010e35f5fd9",
   "metadata": {},
   "outputs": [],
   "source": [
    "import subprocess as su  # Harici program alıştırmak için"
   ]
  },
  {
   "cell_type": "code",
   "execution_count": null,
   "id": "4827a637-679b-4099-921c-9471a59a1985",
   "metadata": {},
   "outputs": [],
   "source": [
    "su.call('notepad.exe')"
   ]
  },
  {
   "cell_type": "code",
   "execution_count": null,
   "id": "9a6e6482-2e38-412b-be34-5531c26a50e3",
   "metadata": {},
   "outputs": [],
   "source": [
    "os.system('notepad.exe');"
   ]
  },
  {
   "cell_type": "code",
   "execution_count": null,
   "id": "81831e30-55fd-41da-a1b5-cb034135476f",
   "metadata": {},
   "outputs": [],
   "source": [
    "import webbrowser as we"
   ]
  },
  {
   "cell_type": "code",
   "execution_count": null,
   "id": "7b20d375-aab7-465d-8cd2-9cb4e491516b",
   "metadata": {},
   "outputs": [],
   "source": [
    "we.open('www.techproeducation.com')"
   ]
  },
  {
   "cell_type": "code",
   "execution_count": null,
   "id": "880c5f6e-8845-4f61-80c3-e3b330889ed6",
   "metadata": {},
   "outputs": [],
   "source": [
    "dir(we)"
   ]
  },
  {
   "cell_type": "code",
   "execution_count": null,
   "id": "f469ad77-0fc6-46e3-ab91-d973a5e51cb1",
   "metadata": {},
   "outputs": [],
   "source": [
    "from webbrowser import *  # Burada _ ile başlayanlar hariç\n",
    "# Çok uygn değil, çünkü buradaki fonks. eğer daha önceden kullanılmış ise \n",
    "# değerler değişir. Ancak lokal olarak def ile kullanamazsınız."
   ]
  },
  {
   "cell_type": "code",
   "execution_count": null,
   "id": "60cb1e17-780f-4009-8527-dc3897d93400",
   "metadata": {},
   "outputs": [],
   "source": [
    "os.__file__"
   ]
  },
  {
   "cell_type": "code",
   "execution_count": null,
   "id": "d2de90d3-5e2f-4b62-9f71-659c8f78018f",
   "metadata": {},
   "outputs": [],
   "source": [
    "import webbrowser\n",
    "webbrowser.__file__"
   ]
  },
  {
   "cell_type": "code",
   "execution_count": null,
   "id": "6d9c4712-9297-4512-a8e1-19fae0f00961",
   "metadata": {},
   "outputs": [],
   "source": [
    "import sys"
   ]
  },
  {
   "cell_type": "code",
   "execution_count": null,
   "id": "3af46c97-97f8-4a09-97ef-ca2e62fb48ec",
   "metadata": {},
   "outputs": [],
   "source": [
    "sys.path.append(r'C:\\Users\\DELL\\ders_pthon\\fonksiyonlar\\deneme_sil.py')"
   ]
  },
  {
   "cell_type": "code",
   "execution_count": null,
   "id": "48462686-fbad-4a67-99ab-0a2c5ce18145",
   "metadata": {},
   "outputs": [],
   "source": [
    "sys.path"
   ]
  },
  {
   "cell_type": "code",
   "execution_count": null,
   "id": "86c8dd21-dc68-4895-bd99-e5cfdcaee052",
   "metadata": {},
   "outputs": [],
   "source": [
    "import deneme_silinecek"
   ]
  },
  {
   "cell_type": "code",
   "execution_count": null,
   "id": "d9f2d6ba-509d-4983-b787-1c70953b07a1",
   "metadata": {},
   "outputs": [],
   "source": [
    "deneme_silinecek.faktoriyel(15)"
   ]
  },
  {
   "cell_type": "code",
   "execution_count": 92,
   "id": "b3c4e6ea-4817-41b4-bcb9-589c08a6c5b4",
   "metadata": {},
   "outputs": [
    {
     "data": {
      "text/plain": [
       "'C:\\\\Users\\\\DELL\\\\anaconda3\\\\Lib\\\\site-packages'"
      ]
     },
     "execution_count": 92,
     "metadata": {},
     "output_type": "execute_result"
    }
   ],
   "source": [
    "from distutils import sysconfig # python kütütphaneleri\n",
    "sysconfig.get_python_lib()"
   ]
  },
  {
   "cell_type": "code",
   "execution_count": null,
   "id": "b39fa21a-b6d9-4b5a-a6b0-c661e693035e",
   "metadata": {},
   "outputs": [],
   "source": []
  },
  {
   "cell_type": "markdown",
   "id": "6ec44fb8-d610-4136-bfa6-2d0ccf13af23",
   "metadata": {},
   "source": [
    "## Modül oluştrma"
   ]
  },
  {
   "cell_type": "code",
   "execution_count": null,
   "id": "e55acaa3-9089-4f35-989a-45bba10c11fc",
   "metadata": {},
   "outputs": [],
   "source": [
    "import deneme_sil"
   ]
  },
  {
   "cell_type": "code",
   "execution_count": null,
   "id": "d69fbf7b-afed-4cdb-aa82-77bd915eeffe",
   "metadata": {},
   "outputs": [],
   "source": [
    "help(deneme_sil)"
   ]
  },
  {
   "cell_type": "code",
   "execution_count": null,
   "id": "bb2185a0-4f60-4020-9c71-dbaee4cec681",
   "metadata": {},
   "outputs": [],
   "source": [
    "deneme_sil.__file__"
   ]
  },
  {
   "cell_type": "code",
   "execution_count": null,
   "id": "f41a4b31-2259-4d49-9ec5-1a82957bbf7b",
   "metadata": {},
   "outputs": [],
   "source": [
    "dir(deneme_sil)"
   ]
  },
  {
   "cell_type": "code",
   "execution_count": null,
   "id": "08a33c27-4a2f-4843-956b-70c51ed890db",
   "metadata": {},
   "outputs": [],
   "source": [
    "# Değişiklik ten sonra yeniden import\n",
    "import importlib\n",
    "importlib.reload(deneme_sil)"
   ]
  },
  {
   "cell_type": "code",
   "execution_count": null,
   "id": "310c614a-1077-49ea-a635-98aebcf2b326",
   "metadata": {},
   "outputs": [],
   "source": [
    "dir(deneme_sil)"
   ]
  },
  {
   "cell_type": "code",
   "execution_count": null,
   "id": "ca90fc7f-af20-426e-85e3-cd1dbd6a3b62",
   "metadata": {},
   "outputs": [],
   "source": [
    "deneme_sil.__cached__"
   ]
  },
  {
   "cell_type": "code",
   "execution_count": 45,
   "id": "b07cca6d-3c1b-4ad5-9a9f-0d0c9fc3375c",
   "metadata": {},
   "outputs": [],
   "source": [
    "import sozluk"
   ]
  },
  {
   "cell_type": "code",
   "execution_count": 46,
   "id": "8224ad74-e16d-48bd-b609-ba6eb7028b98",
   "metadata": {},
   "outputs": [
    {
     "data": {
      "text/plain": [
       "['ara', 'ekle', 'sil']"
      ]
     },
     "execution_count": 46,
     "metadata": {},
     "output_type": "execute_result"
    }
   ],
   "source": [
    "dir(sozluk)  # Normalde bütün fonksionlar yazılır ancak biz değiştirdik.\n",
    "             # def __dir__():"
   ]
  },
  {
   "cell_type": "code",
   "execution_count": 47,
   "id": "2bdb3152-4ea0-4e50-91d7-34630dcecf36",
   "metadata": {},
   "outputs": [
    {
     "data": {
      "text/plain": [
       "'C:\\\\Users\\\\DELL\\\\ders_pthon\\\\moduller, paketler\\\\sozluk.py'"
      ]
     },
     "execution_count": 47,
     "metadata": {},
     "output_type": "execute_result"
    }
   ],
   "source": [
    "sozluk.__file__"
   ]
  },
  {
   "cell_type": "code",
   "execution_count": 48,
   "id": "ce5c61e5-d8a8-4835-81a7-84007f3f4975",
   "metadata": {},
   "outputs": [
    {
     "name": "stdout",
     "output_type": "stream",
     "text": [
      "Help on module sozluk:\n",
      "\n",
      "NAME\n",
      "    sozluk\n",
      "\n",
      "DESCRIPTION\n",
      "    Bu program modul olşturmak üzere \n",
      "    deneme olarak yapılmıştır.\n",
      "\n",
      "FUNCTIONS\n",
      "    ara(sözcük)\n",
      "    \n",
      "    ekle(sözcük, anlam)\n",
      "    \n",
      "    sil(sözcük)\n",
      "\n",
      "FILE\n",
      "    c:\\users\\dell\\ders_pthon\\moduller, paketler\\sozluk.py\n",
      "\n",
      "\n"
     ]
    }
   ],
   "source": [
    "help(sozluk)"
   ]
  },
  {
   "cell_type": "code",
   "execution_count": 84,
   "id": "105fe8f2-0adc-4d7b-85de-d827158dc98f",
   "metadata": {},
   "outputs": [
    {
     "data": {
      "text/plain": [
       "'book'"
      ]
     },
     "execution_count": 84,
     "metadata": {},
     "output_type": "execute_result"
    }
   ],
   "source": [
    "sozluk.ara(\"kitap\")"
   ]
  },
  {
   "cell_type": "code",
   "execution_count": 76,
   "id": "596ca152-bfff-4d13-b416-8a899f4d8cb5",
   "metadata": {},
   "outputs": [
    {
     "data": {
      "text/plain": [
       "'silgi kelimesi sözlükte yok!'"
      ]
     },
     "execution_count": 76,
     "metadata": {},
     "output_type": "execute_result"
    }
   ],
   "source": [
    "sozluk.ara(\"silgi\")"
   ]
  },
  {
   "cell_type": "code",
   "execution_count": 77,
   "id": "a49bf27d-ca7b-4a50-82c6-01b3c17dc0f8",
   "metadata": {},
   "outputs": [
    {
     "name": "stdout",
     "output_type": "stream",
     "text": [
      "silgi kelimesi sözlüğe eklendi!\n"
     ]
    }
   ],
   "source": [
    "sozluk.ekle(\"silgi\",\"rubber\")"
   ]
  },
  {
   "cell_type": "code",
   "execution_count": 82,
   "id": "dbaaa3a7-2c2f-401b-a74a-f48f3f24152d",
   "metadata": {},
   "outputs": [
    {
     "name": "stdout",
     "output_type": "stream",
     "text": [
      "kitap kelimesi sözlükten silindi!\n"
     ]
    }
   ],
   "source": [
    "sozluk.sil(\"kitap\")"
   ]
  },
  {
   "cell_type": "code",
   "execution_count": 87,
   "id": "24d52319-7464-4cff-bcd1-199e6ac41429",
   "metadata": {},
   "outputs": [
    {
     "data": {
      "text/plain": [
       "<module 'sozluk' from 'C:\\\\Users\\\\DELL\\\\ders_pthon\\\\moduller, paketler\\\\sozluk.py'>"
      ]
     },
     "execution_count": 87,
     "metadata": {},
     "output_type": "execute_result"
    }
   ],
   "source": [
    "# Değişiklik ten sonra yeniden import\n",
    "import importlib\n",
    "importlib.reload(sozluk)"
   ]
  },
  {
   "cell_type": "code",
   "execution_count": 89,
   "id": "c4cf0567-8c25-4861-be35-1f5952fffdd2",
   "metadata": {},
   "outputs": [
    {
     "data": {
      "text/plain": [
       "<module 'donusum' from 'C:\\\\Users\\\\DELL\\\\ders_pthon\\\\moduller, paketler\\\\donusum.py'>"
      ]
     },
     "execution_count": 89,
     "metadata": {},
     "output_type": "execute_result"
    }
   ],
   "source": [
    "import donusum\n",
    "importlib.reload(donusum)"
   ]
  },
  {
   "cell_type": "code",
   "execution_count": 90,
   "id": "3c1de2ad-e81b-4d66-9e7b-3f8f819dd68a",
   "metadata": {},
   "outputs": [
    {
     "data": {
      "text/plain": [
       "212.0"
      ]
     },
     "execution_count": 90,
     "metadata": {},
     "output_type": "execute_result"
    }
   ],
   "source": [
    "import donusum\n",
    "donusum.Santigrat_F(100)"
   ]
  },
  {
   "cell_type": "code",
   "execution_count": 91,
   "id": "76f61f17-b528-4dee-9af7-195bb38dc0b6",
   "metadata": {},
   "outputs": [
    {
     "name": "stdout",
     "output_type": "stream",
     "text": [
      " Bu fonksiyon ile °C den °F'e veya\n",
      "°F den °C ye birim dnüştürebilirsiniz.\n",
      "\n",
      "Mesela:\n",
      "donusm.Santigrat(100) \n",
      "bize 100°C değerinin °F değerinin döndürür.\n",
      "\n",
      "Created on Sun Oct 23 12:14:31 2022\n",
      "@author: Öğrenci\n",
      "\n"
     ]
    }
   ],
   "source": [
    "print(donusum.__doc__)"
   ]
  },
  {
   "cell_type": "code",
   "execution_count": 39,
   "id": "1fccdff1-28dd-4059-b472-10882e8ed302",
   "metadata": {},
   "outputs": [
    {
     "data": {
      "text/plain": [
       "'C:\\\\Users\\\\DELL\\\\ders_pthon\\\\moduller, paketler\\\\__pycache__\\\\donusum.cpython-39.pyc'"
      ]
     },
     "execution_count": 39,
     "metadata": {},
     "output_type": "execute_result"
    }
   ],
   "source": [
    "donusum.__cached__"
   ]
  },
  {
   "cell_type": "markdown",
   "id": "2bee5f14-c30e-49bf-b6a1-1f96bd842316",
   "metadata": {},
   "source": [
    "Python için yazılmış üçüncü şahıs modüllerine çeşitli kaynaklardan ulaşabilirsiniz. Bu tür modülleri bulabileceğiniz en geniş kaynak https://pypi.org/ adresidir. Burada 60.000’in üzerinde modüle ulaşabilirsiniz.\n",
    "\n",
    "Peki bu modülleri nasıl kuracağız?\n",
    "\n",
    "Eğer bir modül https://pypi.org/ adresinde ise, bu modülü sistem komut satırında şu şekilde kurabilirsiniz:\n",
    "\n",
    "pip3 install modül_adı"
   ]
  },
  {
   "cell_type": "code",
   "execution_count": 41,
   "id": "fb3cdea6-774b-4fad-89a5-70c99adab4c3",
   "metadata": {},
   "outputs": [
    {
     "name": "stdout",
     "output_type": "stream",
     "text": [
      "{'__package__', '__doc__', '__spec__', '__name__', '__loader__'}\n"
     ]
    }
   ],
   "source": [
    "import os, sys, random, math\n",
    "\n",
    "set_os = set(dir(os))\n",
    "set_sys = set(dir(sys))\n",
    "set_random = set(dir(random))\n",
    "set_math=set(dir(math))\n",
    "\n",
    "print(set_os & set_sys & set_random & set_math)"
   ]
  },
  {
   "cell_type": "code",
   "execution_count": 43,
   "id": "93d4a01e-1fdb-4bc3-92d4-df4f5ddd5cec",
   "metadata": {},
   "outputs": [
    {
     "data": {
      "text/plain": [
       "63"
      ]
     },
     "execution_count": 43,
     "metadata": {},
     "output_type": "execute_result"
    }
   ],
   "source": [
    "len(set_random)"
   ]
  },
  {
   "cell_type": "code",
   "execution_count": 44,
   "id": "83d1d7bb-5f7c-4b49-9515-06cb67603ae7",
   "metadata": {},
   "outputs": [
    {
     "data": {
      "text/plain": [
       "['_ORIGIN',\n",
       " '__class__',\n",
       " '__delattr__',\n",
       " '__dict__',\n",
       " '__dir__',\n",
       " '__doc__',\n",
       " '__eq__',\n",
       " '__format__',\n",
       " '__ge__',\n",
       " '__getattribute__',\n",
       " '__gt__',\n",
       " '__hash__',\n",
       " '__init__',\n",
       " '__init_subclass__',\n",
       " '__le__',\n",
       " '__lt__',\n",
       " '__module__',\n",
       " '__ne__',\n",
       " '__new__',\n",
       " '__reduce__',\n",
       " '__reduce_ex__',\n",
       " '__repr__',\n",
       " '__setattr__',\n",
       " '__sizeof__',\n",
       " '__str__',\n",
       " '__subclasshook__',\n",
       " '__weakref__',\n",
       " 'create_module',\n",
       " 'exec_module',\n",
       " 'find_module',\n",
       " 'find_spec',\n",
       " 'get_code',\n",
       " 'get_source',\n",
       " 'is_package',\n",
       " 'load_module',\n",
       " 'module_repr']"
      ]
     },
     "execution_count": 44,
     "metadata": {},
     "output_type": "execute_result"
    }
   ],
   "source": [
    "a=math.__loader__\n",
    "dir(a)"
   ]
  },
  {
   "cell_type": "markdown",
   "id": "46aca8f1-436e-4df4-a44a-3692bf6b05b5",
   "metadata": {},
   "source": [
    "### Modül içine başka modül import etme"
   ]
  },
  {
   "cell_type": "code",
   "execution_count": 7,
   "id": "bc3b98f3-3f8b-49f8-8a72-099e4c8a7910",
   "metadata": {},
   "outputs": [],
   "source": [
    "# Modülün içerisine eğer başka bir modül import ederseniz \n",
    "#__import('modül_ismi')\n",
    "\n",
    "def faktoriyel(x):\n",
    "    f = 1\n",
    "    for i in range(2,x+1):\n",
    "        f = f*i\n",
    "    return f \n",
    "\n",
    "def iki(x):\n",
    "\treturn __import__('math').factorial(x)"
   ]
  },
  {
   "cell_type": "code",
   "execution_count": null,
   "id": "4aaae5e9-b27d-4c50-b940-76fb639fdcb1",
   "metadata": {},
   "outputs": [],
   "source": []
  },
  {
   "cell_type": "markdown",
   "id": "bdc46daa-0540-433a-94c7-4841fa98620b",
   "metadata": {},
   "source": [
    "### Modüle if __name__ == '__main__' ekleme"
   ]
  },
  {
   "cell_type": "markdown",
   "id": "05967498-0d88-4547-b39d-d1925b948912",
   "metadata": {},
   "source": [
    "    * Bir modülü bağımsız olarak çalıştırabiliriz. \n",
    "         Ancak alıştıran kodlar import ederken de çalışır.\n",
    "    * Programın import edilirken çalışmaması için name==main eklenir.\n",
    "    * Bir program bağımsız olarak çalıştırılırsa __name__ değeri __main__ olur. \n",
    "    * Bir program bağımsız çalışmazsa name değeri modülün adı oluur."
   ]
  },
  {
   "cell_type": "code",
   "execution_count": null,
   "id": "8f6ebb9d-2f86-4409-ae1f-1455a865c016",
   "metadata": {},
   "outputs": [],
   "source": [
    "\"\"\" Bu program modul olşturmak üzere \n",
    "deneme  olarak yapılmıştır. \"\"\"\n",
    "\n",
    "def __dir__():\n",
    "\treturn ['ara','ekle','sil']\n",
    "\n",
    "def ara(sözcük):\n",
    "    hata = \"{} kelimesi sözlükte yok!\"\n",
    "    #return sözlük.get(sözcük, hata.format(sözcük))\n",
    "    print(sözlük.get(sözcük))\n",
    "\t\n",
    "\"\"\"Ara ile ilgili açıklama\"\"\"\n",
    "\n",
    "def ekle(sözcük, anlam):\n",
    "    mesaj = \"{} kelimesi sözlüğe eklendi!\"\n",
    "    sözlük[sözcük] = anlam\n",
    "    print(mesaj.format(sözcük))\n",
    "\t\n",
    "def sil(sözcük):\n",
    "    try:\n",
    "        sözlük.pop(sözcük)\n",
    "    except KeyError as err:\n",
    "        print(err, \"kelimesi bulunamadı!\")\n",
    "    else:\n",
    "        print(\"{} kelimesi sözlükten silindi!\".format(sözcük))\n",
    "\n",
    "\t\t\n",
    "\t\t\n",
    "sözlük = {\"kitap\"      : \"book\",\n",
    "          \"bilgisayar\" : \"computer\",\n",
    "          \"programlama\": \"programming\",\n",
    "\t\t  \"five\"       : \"five\"}\n",
    "\n",
    "\n",
    "if __name__ == '__main__':\n",
    "    no = input('Yapmak istediğiniz işlemin numarasını girin: ')\n",
    "    print('1. Sözlükte kelime ara')\n",
    "    print('2. Sözlüğe kelime ekle')\n",
    "    print('3. Sözlükten kelime sil')\n",
    "\n",
    "    if no == '1':\n",
    "        sözcük = input('Aradığınız sözcük: ')\n",
    "        ara(sözcük)\n",
    "\n",
    "    elif no == '2':\n",
    "        sözcük = input('Ekleyeceğiniz sözcük: ')\n",
    "        anlam = input('Eklediğiniz sözcüğün anlamı: ')\n",
    "        ekle(sözcük, anlam)\n",
    "\n",
    "    elif no == '3':\n",
    "        sözcük = input('Sileceğiniz sözcük: ')\n",
    "        sil(sözcük)\n",
    "\n",
    "    else:\n",
    "        print('Yanlış işlem')\n",
    "\t\t\n",
    "\"\"\"\n",
    "no = input('Yapmak istediğiniz işlemin numarasını girin: ')\n",
    "print('1. Sözlükte kelime ara')\n",
    "print('2. Sözlüğe kelime ekle')\n",
    "print('3. Sözlükten kelime sil')\n",
    "\n",
    "if no == '1':\n",
    "\tsözcük = input('Aradığınız sözcük: ')\n",
    "\tara(sözcük)\n",
    "\n",
    "elif no == '2':\n",
    "    sözcük = input('Ekleyeceğiniz sözcük: ')\n",
    "    anlam = input('Eklediğiniz sözcüğün anlamı: ')\n",
    "    ekle(sözcük, anlam)\n",
    "\n",
    "elif no == '3':\n",
    "    sözcük = input('Sileceğiniz sözcük: ')\n",
    "    sil(sözcük)\n",
    "\t\n",
    "else:\n",
    "    print('Yanlış işlem')\n",
    "\"\"\""
   ]
  },
  {
   "cell_type": "code",
   "execution_count": 113,
   "id": "b73552fb-95af-4f8b-a7d8-c685ef40955b",
   "metadata": {},
   "outputs": [
    {
     "data": {
      "text/plain": [
       "<module 'sozluk' from 'C:\\\\Users\\\\DELL\\\\ders_pthon\\\\moduller, paketler\\\\sozluk.py'>"
      ]
     },
     "execution_count": 113,
     "metadata": {},
     "output_type": "execute_result"
    }
   ],
   "source": [
    "import importlib\n",
    "importlib.reload(sozluk)"
   ]
  },
  {
   "cell_type": "code",
   "execution_count": 105,
   "id": "9958754f-6889-4a1f-97cc-573e531841a1",
   "metadata": {},
   "outputs": [
    {
     "name": "stdout",
     "output_type": "stream",
     "text": [
      "Help on module donusum:\n",
      "\n",
      "NAME\n",
      "    donusum\n",
      "\n",
      "DESCRIPTION\n",
      "    Bu fonksiyon ile °C den °F'e veya\n",
      "    °F den °C ye birim dnüştürebilirsiniz.\n",
      "    \n",
      "    Mesela:\n",
      "    donusm.Santigrat(100) \n",
      "    bize 100°C değerinin °F değerinin döndürür.\n",
      "    \n",
      "    Created on Sun Oct 23 12:14:31 2022\n",
      "    @author: Öğrenci\n",
      "\n",
      "FUNCTIONS\n",
      "    Fahrenheit_C(F)\n",
      "    \n",
      "    Santigrat_F(C)\n",
      "\n",
      "FILE\n",
      "    c:\\users\\dell\\ders_pthon\\moduller, paketler\\donusum.py\n",
      "\n",
      "\n"
     ]
    }
   ],
   "source": [
    "help(donusum)"
   ]
  },
  {
   "cell_type": "code",
   "execution_count": 11,
   "id": "2207daf6-5ec9-4537-87ff-be22e35c88bd",
   "metadata": {},
   "outputs": [
    {
     "name": "stdout",
     "output_type": "stream",
     "text": [
      "Help on module sozluk:\n",
      "\n",
      "NAME\n",
      "    sozluk\n",
      "\n",
      "DESCRIPTION\n",
      "    Bu program modul olşturmak üzere \n",
      "    deneme olarak yapılmıştır.\n",
      "\n",
      "FUNCTIONS\n",
      "    ara(sözcük)\n",
      "    \n",
      "    ekle(sözcük, anlam)\n",
      "    \n",
      "    sil(sözcük)\n",
      "\n",
      "FILE\n",
      "    c:\\users\\dell\\ders_pthon\\moduller, paketler\\sozluk.py\n",
      "\n",
      "\n"
     ]
    }
   ],
   "source": [
    "import sozluk\n",
    "help(sozluk)"
   ]
  },
  {
   "cell_type": "code",
   "execution_count": 110,
   "id": "e0fb53de-7f35-4cfe-a712-efcc5f83f25c",
   "metadata": {},
   "outputs": [
    {
     "name": "stdout",
     "output_type": "stream",
     "text": [
      " Bu program modul olşturmak üzere \n",
      "deneme olarak yapılmıştır. \n"
     ]
    }
   ],
   "source": [
    "print(sozluk.__doc__)"
   ]
  },
  {
   "cell_type": "markdown",
   "id": "d9c1ea3a-06fa-4ce2-8091-8c064c4ba65d",
   "metadata": {},
   "source": [
    "# <font color='red'>Decoratörler"
   ]
  },
  {
   "cell_type": "code",
   "execution_count": 111,
   "id": "c38683bf-443a-4f91-8327-b7f0ce4b25e4",
   "metadata": {},
   "outputs": [],
   "source": [
    "##########################################\n",
    "#~~~~~~~~~~~~~~~~~~~~~~~~~~~~~~~~~~~~~~~~#\n",
    "#                                        #  \n",
    "#                                        #\n",
    "#~~~~~~~~~~~~~~~~~~~~~~~~~~~~~~~~~~~~~~~~#\n",
    "##########################################"
   ]
  },
  {
   "cell_type": "code",
   "execution_count": 12,
   "id": "b1c7b25f-d6c7-4487-98dc-14a534a96b73",
   "metadata": {},
   "outputs": [],
   "source": [
    "def sus_yap(f):    \n",
    "    def wrapper(*args):\n",
    "        print(\"##########################################\")\n",
    "        print(\"#~~~~~~~~~~~~~~~~~~~~~~~~~~~~~~~~~~~~~~~~#\")\n",
    "        print(\"#                                        #\")\n",
    "        \n",
    "        f(*args)              \n",
    "        \n",
    "        print(\"#                                        #\")\n",
    "        print(\"#~~~~~~~~~~~~~~~~~~~~~~~~~~~~~~~~~~~~~~~~#\")\n",
    "        print(\"##########################################\")\n",
    "    return wrapper"
   ]
  },
  {
   "cell_type": "code",
   "execution_count": 13,
   "id": "458c97aa-7a2e-431e-b416-278362fef7a6",
   "metadata": {},
   "outputs": [],
   "source": [
    "# fonksion dekoratörleri, class dekoratörleri"
   ]
  },
  {
   "cell_type": "code",
   "execution_count": 14,
   "id": "c5b4f632-0a9b-4e21-a4a4-b50037c70311",
   "metadata": {},
   "outputs": [],
   "source": [
    "@sus_yap\n",
    "def den(f):\n",
    "    print(\"#{:^40}#\".format(f))"
   ]
  },
  {
   "cell_type": "code",
   "execution_count": 15,
   "id": "572c890c-d9a3-4cbe-ab1d-949418e3d8c6",
   "metadata": {},
   "outputs": [
    {
     "name": "stdout",
     "output_type": "stream",
     "text": [
      "##########################################\n",
      "#~~~~~~~~~~~~~~~~~~~~~~~~~~~~~~~~~~~~~~~~#\n",
      "#                                        #\n",
      "#             Keramet Subaşı             #\n",
      "#                                        #\n",
      "#~~~~~~~~~~~~~~~~~~~~~~~~~~~~~~~~~~~~~~~~#\n",
      "##########################################\n"
     ]
    }
   ],
   "source": [
    "den(\"Keramet Subaşı\")"
   ]
  },
  {
   "cell_type": "code",
   "execution_count": 16,
   "id": "206bf256-2cf8-416a-856d-85cb8e0cfc0c",
   "metadata": {},
   "outputs": [
    {
     "name": "stdout",
     "output_type": "stream",
     "text": [
      "##########################################\n",
      "#~~~~~~~~~~~~~~~~~~~~~~~~~~~~~~~~~~~~~~~~#\n",
      "#                                        #\n",
      "#            Hasan Gül Sever             #\n",
      "#                                        #\n",
      "#~~~~~~~~~~~~~~~~~~~~~~~~~~~~~~~~~~~~~~~~#\n",
      "##########################################\n"
     ]
    }
   ],
   "source": [
    "den(\"Hasan Gül Sever\")"
   ]
  },
  {
   "cell_type": "code",
   "execution_count": 17,
   "id": "7e26be6f-d229-4636-b13b-4713caf28f73",
   "metadata": {},
   "outputs": [],
   "source": [
    "def sre_olc(f):\n",
    "    import time\n",
    "    def wrapper(*args):\n",
    "        basl=time.time()\n",
    "                \n",
    "        f(*args)\n",
    "        \n",
    "        bitis=time.time()\n",
    "        print(\"Başlangıç zamanı {}\".format(basl))\n",
    "        print(\"Bitiş zamanı   {}\".format(bitis))\n",
    "        print(bitis-basl)\n",
    "    return wrapper"
   ]
  },
  {
   "cell_type": "code",
   "execution_count": 18,
   "id": "d4c689b6-1e75-48b6-a26c-fb9108cb9ad9",
   "metadata": {},
   "outputs": [],
   "source": [
    "@sre_olc\n",
    "# Faktoriyel hesaplayan fonksiyon Özyinelemeli (Recursive) Fonksiyonlar¶\n",
    "def faktoriyel(x):\n",
    "    f=1\n",
    "    if x==0:\n",
    "        f=1 \n",
    "    else:\n",
    "        for i in range(1,x+1):\n",
    "            f=f*i \n",
    "    return f"
   ]
  },
  {
   "cell_type": "code",
   "execution_count": 19,
   "id": "f233cb92-d1b0-4c90-9a50-d260627da79a",
   "metadata": {},
   "outputs": [
    {
     "name": "stdout",
     "output_type": "stream",
     "text": [
      "Başlangıç zamanı 1666712498.3664103\n",
      "Bitiş zamanı   1666712498.3664103\n",
      "0.0\n"
     ]
    }
   ],
   "source": [
    "faktoriyel(225)"
   ]
  },
  {
   "cell_type": "code",
   "execution_count": 20,
   "id": "5c2d6cc0-a624-4ff5-9b94-3b3f57e8ca6a",
   "metadata": {},
   "outputs": [
    {
     "name": "stdout",
     "output_type": "stream",
     "text": [
      "Başlangıç zamanı 1666712509.644024\n",
      "Bitiş zamanı   1666712509.644024\n",
      "0.0\n"
     ]
    }
   ],
   "source": [
    "        import time\n",
    "        import math\n",
    "        basl=time.time()\n",
    "                \n",
    "        math.factorial(225)\n",
    "        \n",
    "        bitis=time.time()\n",
    "        print(\"Başlangıç zamanı {}\".format(basl))\n",
    "        print(\"Bitiş zamanı   {}\".format(bitis))\n",
    "        print(bitis-basl)"
   ]
  },
  {
   "cell_type": "code",
   "execution_count": 22,
   "id": "86ad68e1-e5cc-4d18-9fe6-54b67e6affcc",
   "metadata": {},
   "outputs": [],
   "source": [
    "@sre_olc\n",
    "def yeni():\n",
    "    print(\"Selam\")\n",
    "    return "
   ]
  },
  {
   "cell_type": "code",
   "execution_count": 23,
   "id": "929b8dfe-9627-447e-b258-14ef2a323814",
   "metadata": {},
   "outputs": [
    {
     "name": "stdout",
     "output_type": "stream",
     "text": [
      "Selam\n",
      "Başlangıç zamanı 1666712537.1163905\n",
      "Bitiş zamanı   1666712537.1163905\n",
      "0.0\n"
     ]
    }
   ],
   "source": [
    "yeni()"
   ]
  },
  {
   "cell_type": "code",
   "execution_count": 24,
   "id": "2d25acde-4091-4c4c-aa05-53a02126f0cc",
   "metadata": {},
   "outputs": [],
   "source": [
    "@sus_yap\n",
    "@sre_olc\n",
    "def yeni(f):\n",
    "    print(\"#{:^40}#\".format(f))\n",
    "    return "
   ]
  },
  {
   "cell_type": "code",
   "execution_count": 25,
   "id": "d9efc177-13e2-440d-9bb7-2292d7e3fae5",
   "metadata": {},
   "outputs": [
    {
     "name": "stdout",
     "output_type": "stream",
     "text": [
      "##########################################\n",
      "#~~~~~~~~~~~~~~~~~~~~~~~~~~~~~~~~~~~~~~~~#\n",
      "#                                        #\n",
      "#                 Selam                  #\n",
      "Başlangıç zamanı 1666712549.1513429\n",
      "Bitiş zamanı   1666712549.1523407\n",
      "0.000997781753540039\n",
      "#                                        #\n",
      "#~~~~~~~~~~~~~~~~~~~~~~~~~~~~~~~~~~~~~~~~#\n",
      "##########################################\n"
     ]
    }
   ],
   "source": [
    "yeni(\"Selam\")"
   ]
  },
  {
   "cell_type": "code",
   "execution_count": 26,
   "id": "df14a6da-9c02-40f9-901c-b390bcea3646",
   "metadata": {},
   "outputs": [],
   "source": [
    "@sre_olc\n",
    "@sus_yap\n",
    "def yeni(f):\n",
    "    print(\"#{:^40}#\".format(f))\n",
    "    return "
   ]
  },
  {
   "cell_type": "code",
   "execution_count": 27,
   "id": "8925c45e-ad29-47ba-b4dd-9bab067723af",
   "metadata": {},
   "outputs": [
    {
     "name": "stdout",
     "output_type": "stream",
     "text": [
      "##########################################\n",
      "#~~~~~~~~~~~~~~~~~~~~~~~~~~~~~~~~~~~~~~~~#\n",
      "#                                        #\n",
      "#                 Selami                 #\n",
      "#                                        #\n",
      "#~~~~~~~~~~~~~~~~~~~~~~~~~~~~~~~~~~~~~~~~#\n",
      "##########################################\n",
      "Başlangıç zamanı 1666712564.9815948\n",
      "Bitiş zamanı   1666712564.9815948\n",
      "0.0\n"
     ]
    }
   ],
   "source": [
    "yeni(\"Selami\")"
   ]
  },
  {
   "cell_type": "markdown",
   "id": "69da596a-ecda-4105-b208-dabf53e62fee",
   "metadata": {},
   "source": [
    "# <font color='red'>Paketler"
   ]
  },
  {
   "cell_type": "markdown",
   "id": "d95ee16b-46fc-426a-a59d-8c081d02a6cb",
   "metadata": {},
   "source": [
    "Python’da bir dizin yapısı içinde bir araya getirilen, birbiriyle bağlantılı modüllere paket adı verilir. Dolayısıyla paketler modüllerden oluşur.\n",
    "\n",
    "Mesela Python’la web programları yazmak için kullanılan en gözde araçlardan biri olan **django** web çatısı, aslında birtakım üçüncü şahıs modüllerinin bir paket yapısı içinde bir araya getirilmiş halinden başka bir şey değildir. Aynı şekilde Python’la Android ve iOS üzerinde çalışabilecek programlar yazmak isterseniz **kivy** adlı bir başka Python paketini öğrenmeniz gerekir. Python programlama dilini kullanarak grafik arayüzlü yazılımlar geliştirmemizi sağlayan **tkinter** ise standart kütüphanede bulunan pek çok paketten yalnızca bir tanesidir.\n",
    "\n",
    "Her paket bir modüldür, ancak her modül bir paket değildir.\n",
    "\n",
    "Mesela standart kütüphanede bulunan sqlite3, Sqlite veritabanları üzerinde çalışmamıza imkan tanıyan çeşitli modülleri içinde barındıran bir Python paketidir. \n",
    "\n",
    "Standart paketler lib klasörü altındadır.\n",
    "\n",
    "Paketler de çoğunlukla bir birleriyle ilişkili birden fazla modül bulnur.\n",
    "\n",
    "Tek bir dosyadan oluştuğu ve bir dizin yapısı içinde yer almadığı için bir modülden içe aktarma işlemi gerçekleştirmek son derece kolaydır. Paketlerden içe aktarma yaparken uymamız gereken kurallar ise haliyle biraz daha karmaşıktır.\n",
    "\n",
    "İkincisi, bütün paketler aynı zamanda birer modüldür, ancak bütün modüller birer paket değildir. Örneğin venv paketinden bahsederken ‘venv modülü’ demek yanlış olmaz. Ancak os modülünden bahsederken ‘os paketi’ demek biraz abes kaçacaktır.\n",
    "\n",
    "Üçüncüsü, paketlerin __path__ adlı özel bir niteliği bulunur. Modüllerde ise bu nitelik bulunmaz. Örneğin:"
   ]
  },
  {
   "cell_type": "code",
   "execution_count": 1,
   "id": "906ea919-d5f5-4d47-b88a-ec6c554a5913",
   "metadata": {},
   "outputs": [
    {
     "ename": "AttributeError",
     "evalue": "module 'os' has no attribute '__path__'",
     "output_type": "error",
     "traceback": [
      "\u001b[1;31m---------------------------------------------------------------------------\u001b[0m",
      "\u001b[1;31mAttributeError\u001b[0m                            Traceback (most recent call last)",
      "Input \u001b[1;32mIn [1]\u001b[0m, in \u001b[0;36m<cell line: 2>\u001b[1;34m()\u001b[0m\n\u001b[0;32m      1\u001b[0m \u001b[38;5;28;01mimport\u001b[39;00m \u001b[38;5;21;01mos\u001b[39;00m  \u001b[38;5;66;03m# Modül olduğu için path niteliği yok\u001b[39;00m\n\u001b[1;32m----> 2\u001b[0m \u001b[43mos\u001b[49m\u001b[38;5;241;43m.\u001b[39;49m\u001b[43m__path__\u001b[49m\n",
      "\u001b[1;31mAttributeError\u001b[0m: module 'os' has no attribute '__path__'"
     ]
    }
   ],
   "source": [
    "import os  # Modül olduğu için path niteliği yok\n",
    "os.__path__"
   ]
  },
  {
   "cell_type": "code",
   "execution_count": 29,
   "id": "9e4ff402-5935-4475-a6ec-d5e9f6c1524c",
   "metadata": {},
   "outputs": [
    {
     "data": {
      "text/plain": [
       "['C:\\\\Users\\\\DELL\\\\anaconda3\\\\lib\\\\json']"
      ]
     },
     "execution_count": 29,
     "metadata": {},
     "output_type": "execute_result"
    }
   ],
   "source": [
    "import json    # json pakettir. Java Script Object Notation\n",
    "json.__path__"
   ]
  },
  {
   "cell_type": "markdown",
   "id": "65882d86-4a0e-4130-8eba-6789ae968d57",
   "metadata": {},
   "source": [
    "### Paket Türleri"
   ]
  },
  {
   "cell_type": "markdown",
   "id": "fd3601ca-a622-4ba3-95bb-4ac509ef482e",
   "metadata": {},
   "source": [
    "Paketleri, kaynaklarına göre ikiye ayırabiliriz:\n",
    "\n",
    "    * Standart Paketler\n",
    "    * Üçüncü Şahıs Paketleri"
   ]
  },
  {
   "cell_type": "markdown",
   "id": "7edb2bb8-31c7-4e4e-be32-b7546f271ee8",
   "metadata": {},
   "source": [
    "Standart paketler, \n",
    "\n",
    "Python’ın standart kütüphanesinde bulunan paketlerdir. Tıpkı gömülü fonksiyonlar ve standart modüller gibi, standart paketler de dilin bir parçası olduklarından, bunlara erişebilmek için herhangi bir ek yazılım indirip kurmamıza gerek kalmaz; bu paketler her an emrimize amadedir. Standart paketlere Python kurulum dizini içindeki Lib klasöründen erişebilirsiniz. Bir standart paketin tam olarak hangi konumda bulunduğunu öğrenmek için ise ilgili paketin __path__ niteliğini sorgulayabilirsiniz:"
   ]
  },
  {
   "cell_type": "code",
   "execution_count": 30,
   "id": "3e85e334-8a96-4256-bc1a-37f5a44931a8",
   "metadata": {},
   "outputs": [],
   "source": [
    "import sqlite3  # Database"
   ]
  },
  {
   "cell_type": "code",
   "execution_count": 31,
   "id": "d9edc686-8c22-4fc5-921b-52fce3e43855",
   "metadata": {},
   "outputs": [
    {
     "data": {
      "text/plain": [
       "['C:\\\\Users\\\\DELL\\\\anaconda3\\\\lib\\\\sqlite3']"
      ]
     },
     "execution_count": 31,
     "metadata": {},
     "output_type": "execute_result"
    }
   ],
   "source": [
    "sqlite3.__path__    # Standart paket, çünkü path cevaplanıyor. "
   ]
  },
  {
   "cell_type": "markdown",
   "id": "71233260-89b2-4d5a-b26b-ee9920bcab20",
   "metadata": {},
   "source": [
    "Mesela sqlite3 paketi "
   ]
  },
  {
   "attachments": {
    "9239ab63-9aa6-4b06-8e1b-1dd32d0a3f3a.png": {
     "image/png": "[encoded data removed]"
    }
   },
   "cell_type": "markdown",
   "id": "c80a82ed-e397-42a0-a052-b51dd977472a",
   "metadata": {},
   "source": [
    "![image.png](attachment:9239ab63-9aa6-4b06-8e1b-1dd32d0a3f3a.png)"
   ]
  },
  {
   "cell_type": "code",
   "execution_count": 32,
   "id": "ef5e61e9-4a31-492a-b250-b27e7f0daaae",
   "metadata": {},
   "outputs": [
    {
     "data": {
      "text/plain": [
       "['Binary',\n",
       " 'Connection',\n",
       " 'Cursor',\n",
       " 'DataError',\n",
       " 'DatabaseError',\n",
       " 'Date',\n",
       " 'DateFromTicks',\n",
       " 'Error',\n",
       " 'IntegrityError',\n",
       " 'InterfaceError',\n",
       " 'InternalError',\n",
       " 'NotSupportedError',\n",
       " 'OperationalError',\n",
       " 'OptimizedUnicode',\n",
       " 'PARSE_COLNAMES',\n",
       " 'PARSE_DECLTYPES',\n",
       " 'PrepareProtocol',\n",
       " 'ProgrammingError',\n",
       " 'Row',\n",
       " 'SQLITE_ALTER_TABLE',\n",
       " 'SQLITE_ANALYZE',\n",
       " 'SQLITE_ATTACH',\n",
       " 'SQLITE_CREATE_INDEX',\n",
       " 'SQLITE_CREATE_TABLE',\n",
       " 'SQLITE_CREATE_TEMP_INDEX',\n",
       " 'SQLITE_CREATE_TEMP_TABLE',\n",
       " 'SQLITE_CREATE_TEMP_TRIGGER',\n",
       " 'SQLITE_CREATE_TEMP_VIEW',\n",
       " 'SQLITE_CREATE_TRIGGER',\n",
       " 'SQLITE_CREATE_VIEW',\n",
       " 'SQLITE_CREATE_VTABLE',\n",
       " 'SQLITE_DELETE',\n",
       " 'SQLITE_DENY',\n",
       " 'SQLITE_DETACH',\n",
       " 'SQLITE_DONE',\n",
       " 'SQLITE_DROP_INDEX',\n",
       " 'SQLITE_DROP_TABLE',\n",
       " 'SQLITE_DROP_TEMP_INDEX',\n",
       " 'SQLITE_DROP_TEMP_TABLE',\n",
       " 'SQLITE_DROP_TEMP_TRIGGER',\n",
       " 'SQLITE_DROP_TEMP_VIEW',\n",
       " 'SQLITE_DROP_TRIGGER',\n",
       " 'SQLITE_DROP_VIEW',\n",
       " 'SQLITE_DROP_VTABLE',\n",
       " 'SQLITE_FUNCTION',\n",
       " 'SQLITE_IGNORE',\n",
       " 'SQLITE_INSERT',\n",
       " 'SQLITE_OK',\n",
       " 'SQLITE_PRAGMA',\n",
       " 'SQLITE_READ',\n",
       " 'SQLITE_RECURSIVE',\n",
       " 'SQLITE_REINDEX',\n",
       " 'SQLITE_SAVEPOINT',\n",
       " 'SQLITE_SELECT',\n",
       " 'SQLITE_TRANSACTION',\n",
       " 'SQLITE_UPDATE',\n",
       " 'Time',\n",
       " 'TimeFromTicks',\n",
       " 'Timestamp',\n",
       " 'TimestampFromTicks',\n",
       " 'Warning',\n",
       " '__builtins__',\n",
       " '__cached__',\n",
       " '__doc__',\n",
       " '__file__',\n",
       " '__loader__',\n",
       " '__name__',\n",
       " '__package__',\n",
       " '__path__',\n",
       " '__spec__',\n",
       " 'adapt',\n",
       " 'adapters',\n",
       " 'apilevel',\n",
       " 'collections',\n",
       " 'complete_statement',\n",
       " 'connect',\n",
       " 'converters',\n",
       " 'datetime',\n",
       " 'dbapi2',\n",
       " 'enable_callback_tracebacks',\n",
       " 'enable_shared_cache',\n",
       " 'paramstyle',\n",
       " 'register_adapter',\n",
       " 'register_converter',\n",
       " 'sqlite_version',\n",
       " 'sqlite_version_info',\n",
       " 'threadsafety',\n",
       " 'time',\n",
       " 'version',\n",
       " 'version_info']"
      ]
     },
     "execution_count": 32,
     "metadata": {},
     "output_type": "execute_result"
    }
   ],
   "source": [
    "dir(sqlite3)"
   ]
  },
  {
   "cell_type": "code",
   "execution_count": 33,
   "id": "2be3a064-c746-4211-a77e-b45063e86b96",
   "metadata": {},
   "outputs": [
    {
     "data": {
      "text/plain": [
       "['__builtins__',\n",
       " '__cached__',\n",
       " '__doc__',\n",
       " '__file__',\n",
       " '__loader__',\n",
       " '__name__',\n",
       " '__package__',\n",
       " '__path__',\n",
       " '__spec__',\n",
       " 'error',\n",
       " 'parse',\n",
       " 'request',\n",
       " 'response']"
      ]
     },
     "execution_count": 33,
     "metadata": {},
     "output_type": "execute_result"
    }
   ],
   "source": [
    "import urllib\n",
    "dir(urllib)"
   ]
  },
  {
   "cell_type": "code",
   "execution_count": 34,
   "id": "93bae1f3-d0de-4947-9d18-f09cd9bdb6f6",
   "metadata": {},
   "outputs": [
    {
     "data": {
      "text/plain": [
       "'sqlite3'"
      ]
     },
     "execution_count": 34,
     "metadata": {},
     "output_type": "execute_result"
    }
   ],
   "source": [
    "#paket\n",
    "sqlite3.__package__"
   ]
  },
  {
   "cell_type": "code",
   "execution_count": 35,
   "id": "798924c5-3116-4b5b-b99d-64788b711e59",
   "metadata": {},
   "outputs": [
    {
     "data": {
      "text/plain": [
       "''"
      ]
     },
     "execution_count": 35,
     "metadata": {},
     "output_type": "execute_result"
    }
   ],
   "source": [
    "#modül\n",
    "import os\n",
    "os.__package__"
   ]
  },
  {
   "cell_type": "markdown",
   "id": "de9fc081-c891-4f98-8801-a12b78d55f53",
   "metadata": {},
   "source": [
    "Üçüncü Şahıs Paketler\n",
    "\n",
    "Python’da standart paketlerin dışında bir de üçüncü şahıs paketleri vardır. Bunlar Python geliştiricileri haricindeki kişilerce yazılıp kullanımımıza sunulmuş araçlardır. Bu paketler, standart paketlerin aksine dilin bir parçası olmadığından, bu paketleri kullanabilmek için öncelikle bunları bilgisayarımıza kurmamız gerekir. Mesela django, kivy ve ilk derslerimizden birinde bahsettiğimiz cx_freeze birer üçüncü şahıs paketidir."
   ]
  },
  {
   "cell_type": "markdown",
   "id": "fc966b95-3e7a-4dbc-8b4f-1fec290a9717",
   "metadata": {},
   "source": [
    "Üçüncü şahıs modülleri https://pypi.org adresinden ve burada 60.000’in üzerinde üçüncü şahıs Python modülüne ulaşılabilir. Üçüncü şahıs modülleri, aslında birer pakettir. Zira üçüncü şahıs modülleri çoğunlukla birer paket biçiminde sunulur. Dolayısıyla üçüncü şahıs modüllerine nereden ve nasıl ulaşıyorsak, üçüncü şahıs paketlerine de aynı yerden ve aynı şekilde ulaşabiliriz. Ayrıca bir üçüncü şahıs paketini kurmadan önce, ilgili paketin yardım dosyalarını veya websitesini incelemekte de fayda var. Çünkü bazı üçüncü şahıs modüllerini kurabilmek için birtakım özel gereksinimleri yerine getirmeniz gerekiyor olabilir. Bu tür bilgilere de ancak ilgili paketi geliştiren kişi veya ekibin websitesinden ulaşabilirsiniz.\n",
    "\n",
    "Paketleri şu komuutla kurabiliriz."
   ]
  },
  {
   "cell_type": "code",
   "execution_count": null,
   "id": "c9d88f06-7bea-498b-aca6-573a45d52411",
   "metadata": {},
   "outputs": [],
   "source": [
    "!pip3 install kivy\n"
   ]
  },
  {
   "cell_type": "code",
   "execution_count": 39,
   "id": "2707069b-98be-43ba-949c-2c7df5476c8c",
   "metadata": {},
   "outputs": [],
   "source": [
    "import kivy"
   ]
  },
  {
   "cell_type": "code",
   "execution_count": 40,
   "id": "929c5330-db9c-4824-b7a2-102805f6afee",
   "metadata": {},
   "outputs": [
    {
     "data": {
      "text/plain": [
       "'2.1.0'"
      ]
     },
     "execution_count": 40,
     "metadata": {},
     "output_type": "execute_result"
    }
   ],
   "source": [
    "kivy.__version__"
   ]
  },
  {
   "cell_type": "code",
   "execution_count": null,
   "id": "627840d9-9fa8-4cb6-97d7-0fe17e5dae69",
   "metadata": {},
   "outputs": [],
   "source": [
    "# linux için  sudo pip3 install paket_adi "
   ]
  },
  {
   "cell_type": "markdown",
   "id": "902f0c90-787d-4e9c-a156-d16c13c9bcb1",
   "metadata": {},
   "source": [
    "Bir üçüncü şahıs paketini pip3 komutuyla kurmak yerine elle kurmayı da tercih edebilirsiniz. Örnek olarak bu defa django paketini alalım. Bu paketin en son sürümünü https://github.com/django/django/archive/master.tar.gz adresinden indirebilirsiniz. Ayrıca arzu ederseniz https://www.djangoproject.com adresine uğrayarak bu modülün resmi websitesine de gözatabilirsiniz."
   ]
  },
  {
   "cell_type": "markdown",
   "id": "6525ed5c-0acc-408e-b227-03c7ee5d7124",
   "metadata": {},
   "source": [
    "Mesela Django paketini açıp django-master adlı dizinin içine girdiğinizde, orada setup.py adlı bir dosya göreceksiniz. İşte pip3 komutu yerine, bu dosyayı kullanarak da bu paketi bilgisayarımıza kurabiliriz.\n",
    "\n",
    "Dikkatlice bakın:\n",
    "\n",
    "python3 setup.py install"
   ]
  },
  {
   "cell_type": "code",
   "execution_count": 13,
   "id": "97a47419-aff1-4e71-9b37-2e416d22c789",
   "metadata": {},
   "outputs": [],
   "source": [
    "import sqlite3.test"
   ]
  },
  {
   "cell_type": "code",
   "execution_count": 21,
   "id": "fb1052f9-ff67-4de1-a896-3d1fbe7ec378",
   "metadata": {},
   "outputs": [],
   "source": [
    "import keras.api"
   ]
  },
  {
   "cell_type": "code",
   "execution_count": 37,
   "id": "2fca5da9-f37d-4207-8ead-a66743436c6c",
   "metadata": {},
   "outputs": [
    {
     "data": {
      "text/plain": [
       "<module 'keras.api.keras' from 'C:\\\\Users\\\\DELL\\\\anaconda3\\\\lib\\\\site-packages\\\\keras\\\\api\\\\keras\\\\__init__.py'>"
      ]
     },
     "execution_count": 37,
     "metadata": {},
     "output_type": "execute_result"
    }
   ],
   "source": [
    "keras.api.keras"
   ]
  },
  {
   "cell_type": "code",
   "execution_count": 122,
   "id": "012b81b3-3d22-475b-a6e4-265b921f8387",
   "metadata": {},
   "outputs": [],
   "source": [
    "import urllib"
   ]
  },
  {
   "cell_type": "code",
   "execution_count": 123,
   "id": "05af772c-8bc6-42ea-b456-775066fbe3a1",
   "metadata": {},
   "outputs": [
    {
     "data": {
      "text/plain": [
       "<http.client.HTTPResponse at 0x1b4ee422c10>"
      ]
     },
     "execution_count": 123,
     "metadata": {},
     "output_type": "execute_result"
    }
   ],
   "source": [
    "urllib.request.urlopen('https://google.com/')"
   ]
  },
  {
   "cell_type": "markdown",
   "id": "e6a888d6-f9ac-4b32-9228-aeb82732f37a",
   "metadata": {},
   "source": [
    "### Kendi Oluşturduğumuz Paketler"
   ]
  },
  {
   "cell_type": "markdown",
   "id": "9b60c96d-aab4-4f82-b409-c0578f97e517",
   "metadata": {},
   "source": [
    "Kendi oluşturduğumuz paketler, adı üzerinde, kendi kendimize yazıp meydana getirdiğimiz paketlerdir. Bu paketleri iyice geliştirdikten ve başkaları için de yararlı olabilecek hale getirdikten sonra, istersek https://pypi.org adresindeki üçüncü şahıs paket deposuna yükleyebiliriz. Böylece kendi geliştirdiğimiz paketler de, üçüncü şahıs Python paketleri arasına girmiş olur…"
   ]
  },
  {
   "cell_type": "markdown",
   "id": "37574e1d-e62c-4bc0-a9c4-04f1701426a8",
   "metadata": {},
   "source": [
    "Python’da bir paket oluşturmak son derece kolaydır. Program kodlarını içeren .py dosyasını bir klasör içine koyduğunuz anda, o klasörün adını taşıyan bir paket meydana getirmiş olursunuz.\n",
    "\n",
    "Mesela bir sipariş takip programı yazdığımızı düşünelim. Ana klasörümüzün adını siparistakip koyalım. Bu klasör içinde de komut.py, veritabani.py ve siparis.py adlı modüller olsun. Yani şöyle bir dosya-dizin yapısı oluşturalım:\n",
    "\n",
    "    + siparistakip\n",
    "        |__ siparis.py\n",
    "        |__ komut.py\n",
    "        |__ veritabani.py\n",
    "\n",
    "İşte bu şekilde basit bir dosya-dizin yapısı oluşturduğumuzda, siparistakip adlı bir Python paketi meydana getirmiş oluyoruz"
   ]
  },
  {
   "cell_type": "code",
   "execution_count": 1,
   "id": "972dbd52-dc1a-4d48-bb96-02ee7cdd5e67",
   "metadata": {},
   "outputs": [],
   "source": [
    "import paket_deneme_silinecek"
   ]
  },
  {
   "cell_type": "code",
   "execution_count": 2,
   "id": "39204d92-4c09-4c5e-af1b-19b422dce455",
   "metadata": {},
   "outputs": [
    {
     "data": {
      "text/plain": [
       "'paket_deneme_silinecek'"
      ]
     },
     "execution_count": 2,
     "metadata": {},
     "output_type": "execute_result"
    }
   ],
   "source": [
    "paket_deneme_silinecek.__package__"
   ]
  },
  {
   "cell_type": "code",
   "execution_count": 4,
   "id": "5742f673-1061-4057-9fc9-cd0082fce966",
   "metadata": {},
   "outputs": [
    {
     "data": {
      "text/plain": [
       "_NamespacePath(['C:\\\\Users\\\\DELL\\\\ders_pthon\\\\moduller, paketler\\\\paket_deneme_silinecek', 'C:\\\\Users\\\\DELL\\\\ders_pthon\\\\moduller, paketler\\\\paket_deneme_silinecek'])"
      ]
     },
     "execution_count": 4,
     "metadata": {},
     "output_type": "execute_result"
    }
   ],
   "source": [
    "paket_deneme_silinecek.__path__"
   ]
  },
  {
   "cell_type": "code",
   "execution_count": 5,
   "id": "aa8a0fc3-fa08-4384-987b-ce88fa191f5d",
   "metadata": {},
   "outputs": [
    {
     "data": {
      "text/plain": [
       "['__doc__',\n",
       " '__file__',\n",
       " '__loader__',\n",
       " '__name__',\n",
       " '__package__',\n",
       " '__path__',\n",
       " '__spec__']"
      ]
     },
     "execution_count": 5,
     "metadata": {},
     "output_type": "execute_result"
    }
   ],
   "source": [
    "dir(paket_deneme_silinecek)"
   ]
  },
  {
   "cell_type": "code",
   "execution_count": 6,
   "id": "35ed6c40-c1de-475b-afd6-d688e52fe220",
   "metadata": {},
   "outputs": [
    {
     "data": {
      "text/plain": [
       "ModuleSpec(name='paket_deneme_silinecek', loader=<_frozen_importlib_external._NamespaceLoader object at 0x000002031077DB50>, submodule_search_locations=_NamespacePath(['C:\\\\Users\\\\DELL\\\\ders_pthon\\\\moduller, paketler\\\\paket_deneme_silinecek', 'C:\\\\Users\\\\DELL\\\\ders_pthon\\\\moduller, paketler\\\\paket_deneme_silinecek']))"
      ]
     },
     "execution_count": 6,
     "metadata": {},
     "output_type": "execute_result"
    }
   ],
   "source": [
    "paket_deneme_silinecek.__spec__"
   ]
  },
  {
   "cell_type": "code",
   "execution_count": null,
   "id": "80676058-dfcc-449c-9bfd-4243c22a8bf2",
   "metadata": {},
   "outputs": [],
   "source": []
  }
 ],
 "metadata": {
  "kernelspec": {
   "display_name": "Python 3 (ipykernel)",
   "language": "python",
   "name": "python3"
  },
  "language_info": {
   "codemirror_mode": {
    "name": "ipython",
    "version": 3
   },
   "file_extension": ".py",
   "mimetype": "text/x-python",
   "name": "python",
   "nbconvert_exporter": "python",
   "pygments_lexer": "ipython3",
   "version": "3.9.12"
  }
 },
 "nbformat": 4,
 "nbformat_minor": 5
}
