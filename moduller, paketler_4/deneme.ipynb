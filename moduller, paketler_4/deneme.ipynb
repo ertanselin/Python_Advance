{
 "cells": [
  {
   "cell_type": "code",
   "execution_count": 1,
   "id": "efd75bc9-57c0-4012-9701-2568daf551b4",
   "metadata": {},
   "outputs": [],
   "source": [
    "#Her bir ayın kaç gün çektiğini tanımlıyoruz\n",
    "ocak = mart = mayıs = temmuz = agustos = ekim = aralik = 31\n",
    "nisan = haziran = eylül = kasim = 30\n",
    "subat = 28"
   ]
  },
  {
   "cell_type": "code",
   "execution_count": 2,
   "id": "483c9d87-8b6a-4d51-9d2f-26ee30560b98",
   "metadata": {},
   "outputs": [
    {
     "data": {
      "text/plain": [
       "28"
      ]
     },
     "execution_count": 2,
     "metadata": {},
     "output_type": "execute_result"
    }
   ],
   "source": [
    "subat"
   ]
  },
  {
   "cell_type": "code",
   "execution_count": 3,
   "id": "80cb9059-1f37-4c96-8499-ba11fd46ed95",
   "metadata": {},
   "outputs": [
    {
     "name": "stdin",
     "output_type": "stream",
     "text": [
      "Hangi aya ait faturayı hesaplamak istersiniz?\n",
      "(Lütfen ay adını tamamı küçük harf olacak şekilde giriniz)\n",
      " subat\n"
     ]
    }
   ],
   "source": [
    "dönem = input(\"\"\"Hangi aya ait faturayı hesaplamak istersiniz?\n",
    "(Lütfen ay adını tamamı küçük harf olacak şekilde giriniz)\\n\"\"\")"
   ]
  },
  {
   "cell_type": "code",
   "execution_count": 5,
   "id": "24d97693-b1f6-4ab4-84be-f9512c74faed",
   "metadata": {},
   "outputs": [
    {
     "data": {
      "text/plain": [
       "'subat'"
      ]
     },
     "execution_count": 5,
     "metadata": {},
     "output_type": "execute_result"
    }
   ],
   "source": [
    "dönem"
   ]
  },
  {
   "cell_type": "code",
   "execution_count": 7,
   "id": "398aee3c-bd91-4271-b63b-47176fccb38a",
   "metadata": {},
   "outputs": [
    {
     "data": {
      "text/plain": [
       "False"
      ]
     },
     "execution_count": 7,
     "metadata": {},
     "output_type": "execute_result"
    }
   ],
   "source": [
    "dönem == subat"
   ]
  },
  {
   "cell_type": "code",
   "execution_count": 8,
   "id": "5f38ec52-f996-4bbb-b6fe-b857b95cc518",
   "metadata": {},
   "outputs": [],
   "source": [
    "ay=eval(dönem) "
   ]
  },
  {
   "cell_type": "code",
   "execution_count": 9,
   "id": "1a548951-ace5-45de-b199-756e3ef98067",
   "metadata": {},
   "outputs": [
    {
     "name": "stdin",
     "output_type": "stream",
     "text": [
      "Hangi aya ait faturayı hesaplamak istersiniz?\n",
      "(Lütfen ay adını tamamı küçük harf olacak şekilde giriniz)\n",
      " subat\n"
     ]
    }
   ],
   "source": [
    "ay = eval(input(\"\"\"Hangi aya ait faturayı hesaplamak istersiniz?\n",
    "(Lütfen ay adını tamamı küçük harf olacak şekilde giriniz)\\n\"\"\"))"
   ]
  },
  {
   "cell_type": "code",
   "execution_count": 10,
   "id": "b4d332aa-b0be-4832-b82b-9277e7b4acb2",
   "metadata": {},
   "outputs": [
    {
     "data": {
      "text/plain": [
       "28"
      ]
     },
     "execution_count": 10,
     "metadata": {},
     "output_type": "execute_result"
    }
   ],
   "source": [
    "ay"
   ]
  },
  {
   "cell_type": "code",
   "execution_count": 15,
   "id": "4dfc9a5f-99be-47fd-a57e-7ab30a886886",
   "metadata": {},
   "outputs": [],
   "source": [
    "exec(\"develeoper11=10\")"
   ]
  },
  {
   "cell_type": "code",
   "execution_count": 17,
   "id": "1e254d76-5460-456a-9305-f28ec600eed6",
   "metadata": {},
   "outputs": [
    {
     "data": {
      "text/plain": [
       "10"
      ]
     },
     "execution_count": 17,
     "metadata": {},
     "output_type": "execute_result"
    }
   ],
   "source": [
    "develeoper11"
   ]
  },
  {
   "cell_type": "code",
   "execution_count": 18,
   "id": "5fb4ac0d-56e5-4a7e-8995-f6a7f2eef012",
   "metadata": {},
   "outputs": [
    {
     "name": "stdout",
     "output_type": "stream",
     "text": [
      "Hasan Efendi\n"
     ]
    }
   ],
   "source": [
    "exec(\"print('Hasan Efendi')\")"
   ]
  },
  {
   "cell_type": "code",
   "execution_count": 20,
   "id": "d264b948-8fdb-40b4-b79e-ce807e0578d4",
   "metadata": {},
   "outputs": [
    {
     "name": "stdin",
     "output_type": "stream",
     "text": [
      "Hasan Efendi 55\n"
     ]
    }
   ],
   "source": [
    "a=exec(\"input('Hasan Efendi')\")"
   ]
  },
  {
   "cell_type": "code",
   "execution_count": 21,
   "id": "bbfa9326-f3f1-453a-8ec8-b65c482d6565",
   "metadata": {},
   "outputs": [],
   "source": [
    "a"
   ]
  },
  {
   "cell_type": "code",
   "execution_count": 22,
   "id": "6a126f4d-7bcf-45b3-a186-b2d59d69aa94",
   "metadata": {},
   "outputs": [],
   "source": [
    "import string"
   ]
  },
  {
   "cell_type": "code",
   "execution_count": 23,
   "id": "21b7a639-d635-4dae-a1ac-5d4a2f5c2a73",
   "metadata": {},
   "outputs": [
    {
     "data": {
      "text/plain": [
       "['Formatter',\n",
       " 'Template',\n",
       " '_ChainMap',\n",
       " '__all__',\n",
       " '__builtins__',\n",
       " '__cached__',\n",
       " '__doc__',\n",
       " '__file__',\n",
       " '__loader__',\n",
       " '__name__',\n",
       " '__package__',\n",
       " '__spec__',\n",
       " '_re',\n",
       " '_sentinel_dict',\n",
       " '_string',\n",
       " 'ascii_letters',\n",
       " 'ascii_lowercase',\n",
       " 'ascii_uppercase',\n",
       " 'capwords',\n",
       " 'digits',\n",
       " 'hexdigits',\n",
       " 'octdigits',\n",
       " 'printable',\n",
       " 'punctuation',\n",
       " 'whitespace']"
      ]
     },
     "execution_count": 23,
     "metadata": {},
     "output_type": "execute_result"
    }
   ],
   "source": [
    "dir(string)"
   ]
  },
  {
   "cell_type": "code",
   "execution_count": 25,
   "id": "a659c675-0d1f-4565-ba94-9f25e4d827ba",
   "metadata": {},
   "outputs": [
    {
     "name": "stdout",
     "output_type": "stream",
     "text": [
      "A collection of string constants.\n",
      "\n",
      "Public module variables:\n",
      "\n",
      "whitespace -- a string containing all ASCII whitespace\n",
      "ascii_lowercase -- a string containing all ASCII lowercase letters\n",
      "ascii_uppercase -- a string containing all ASCII uppercase letters\n",
      "ascii_letters -- a string containing all ASCII letters\n",
      "digits -- a string containing all ASCII decimal digits\n",
      "hexdigits -- a string containing all ASCII hexadecimal digits\n",
      "octdigits -- a string containing all ASCII octal digits\n",
      "punctuation -- a string containing all ASCII punctuation characters\n",
      "printable -- a string containing all ASCII characters considered printable\n",
      "\n",
      "\n"
     ]
    }
   ],
   "source": [
    "print(string.__doc__)"
   ]
  },
  {
   "cell_type": "code",
   "execution_count": 26,
   "id": "57bc9ffd-3fc6-494d-a9dd-02b87b902342",
   "metadata": {},
   "outputs": [
    {
     "name": "stdout",
     "output_type": "stream",
     "text": [
      "['Abdurrahim bey (1).pdf', 'Abdurrahim bey.pdf', 'Abdurrahim Bolukbasi-011.pdf', 'Abdurrahim hoca.pdf', 'Beginning Programming with Python for Dummies (John Paul Mueller) (z-lib.org) (1).pdf', 'Beginning Programming with Python for Dummies (John Paul Mueller) (z-lib.org).pdf', 'Introduction to Machine Learning with Python A Guide for Data Scientists (Andreas C. Müller, Sarah Guido) (z-lib.org).pdf']\n"
     ]
    }
   ],
   "source": [
    "import os\n",
    "dosyalar=[]\n",
    "for d in os.listdir(\"C:/Users/DELL/Downloads\"):\n",
    "    if d.endswith(\".pdf\"):\n",
    "        dosyalar.append(d)\n",
    "print(dosyalar)"
   ]
  },
  {
   "cell_type": "code",
   "execution_count": 27,
   "id": "deaf0d43-06ed-4225-b9c5-aef1d3cc9d49",
   "metadata": {},
   "outputs": [
    {
     "data": {
      "text/plain": [
       "['DirEntry',\n",
       " 'F_OK',\n",
       " 'GenericAlias',\n",
       " 'Mapping',\n",
       " 'MutableMapping',\n",
       " 'O_APPEND',\n",
       " 'O_BINARY',\n",
       " 'O_CREAT',\n",
       " 'O_EXCL',\n",
       " 'O_NOINHERIT',\n",
       " 'O_RANDOM',\n",
       " 'O_RDONLY',\n",
       " 'O_RDWR',\n",
       " 'O_SEQUENTIAL',\n",
       " 'O_SHORT_LIVED',\n",
       " 'O_TEMPORARY',\n",
       " 'O_TEXT',\n",
       " 'O_TRUNC',\n",
       " 'O_WRONLY',\n",
       " 'P_DETACH',\n",
       " 'P_NOWAIT',\n",
       " 'P_NOWAITO',\n",
       " 'P_OVERLAY',\n",
       " 'P_WAIT',\n",
       " 'PathLike',\n",
       " 'R_OK',\n",
       " 'SEEK_CUR',\n",
       " 'SEEK_END',\n",
       " 'SEEK_SET',\n",
       " 'TMP_MAX',\n",
       " 'W_OK',\n",
       " 'X_OK',\n",
       " '_AddedDllDirectory',\n",
       " '_Environ',\n",
       " '__all__',\n",
       " '__builtins__',\n",
       " '__cached__',\n",
       " '__doc__',\n",
       " '__file__',\n",
       " '__loader__',\n",
       " '__name__',\n",
       " '__package__',\n",
       " '__spec__',\n",
       " '_check_methods',\n",
       " '_execvpe',\n",
       " '_exists',\n",
       " '_exit',\n",
       " '_fspath',\n",
       " '_get_exports_list',\n",
       " '_walk',\n",
       " '_wrap_close',\n",
       " 'abc',\n",
       " 'abort',\n",
       " 'access',\n",
       " 'add_dll_directory',\n",
       " 'altsep',\n",
       " 'chdir',\n",
       " 'chmod',\n",
       " 'close',\n",
       " 'closerange',\n",
       " 'cpu_count',\n",
       " 'curdir',\n",
       " 'defpath',\n",
       " 'device_encoding',\n",
       " 'devnull',\n",
       " 'dup',\n",
       " 'dup2',\n",
       " 'environ',\n",
       " 'error',\n",
       " 'execl',\n",
       " 'execle',\n",
       " 'execlp',\n",
       " 'execlpe',\n",
       " 'execv',\n",
       " 'execve',\n",
       " 'execvp',\n",
       " 'execvpe',\n",
       " 'extsep',\n",
       " 'fdopen',\n",
       " 'fsdecode',\n",
       " 'fsencode',\n",
       " 'fspath',\n",
       " 'fstat',\n",
       " 'fsync',\n",
       " 'ftruncate',\n",
       " 'get_exec_path',\n",
       " 'get_handle_inheritable',\n",
       " 'get_inheritable',\n",
       " 'get_terminal_size',\n",
       " 'getcwd',\n",
       " 'getcwdb',\n",
       " 'getenv',\n",
       " 'getlogin',\n",
       " 'getpid',\n",
       " 'getppid',\n",
       " 'isatty',\n",
       " 'kill',\n",
       " 'linesep',\n",
       " 'link',\n",
       " 'listdir',\n",
       " 'lseek',\n",
       " 'lstat',\n",
       " 'makedirs',\n",
       " 'mkdir',\n",
       " 'name',\n",
       " 'open',\n",
       " 'pardir',\n",
       " 'path',\n",
       " 'pathsep',\n",
       " 'pipe',\n",
       " 'popen',\n",
       " 'putenv',\n",
       " 'read',\n",
       " 'readlink',\n",
       " 'remove',\n",
       " 'removedirs',\n",
       " 'rename',\n",
       " 'renames',\n",
       " 'replace',\n",
       " 'rmdir',\n",
       " 'scandir',\n",
       " 'sep',\n",
       " 'set_handle_inheritable',\n",
       " 'set_inheritable',\n",
       " 'spawnl',\n",
       " 'spawnle',\n",
       " 'spawnv',\n",
       " 'spawnve',\n",
       " 'st',\n",
       " 'startfile',\n",
       " 'stat',\n",
       " 'stat_result',\n",
       " 'statvfs_result',\n",
       " 'strerror',\n",
       " 'supports_bytes_environ',\n",
       " 'supports_dir_fd',\n",
       " 'supports_effective_ids',\n",
       " 'supports_fd',\n",
       " 'supports_follow_symlinks',\n",
       " 'symlink',\n",
       " 'sys',\n",
       " 'system',\n",
       " 'terminal_size',\n",
       " 'times',\n",
       " 'times_result',\n",
       " 'truncate',\n",
       " 'umask',\n",
       " 'uname_result',\n",
       " 'unlink',\n",
       " 'unsetenv',\n",
       " 'urandom',\n",
       " 'utime',\n",
       " 'waitpid',\n",
       " 'waitstatus_to_exitcode',\n",
       " 'walk',\n",
       " 'write']"
      ]
     },
     "execution_count": 27,
     "metadata": {},
     "output_type": "execute_result"
    }
   ],
   "source": []
  },
  {
   "cell_type": "code",
   "execution_count": 28,
   "id": "0bf24c30-e26b-4087-accd-1253b06816c8",
   "metadata": {},
   "outputs": [
    {
     "data": {
      "text/plain": [
       "0"
      ]
     },
     "execution_count": 28,
     "metadata": {},
     "output_type": "execute_result"
    }
   ],
   "source": [
    "os.system('notepad.exe')"
   ]
  },
  {
   "cell_type": "code",
   "execution_count": 29,
   "id": "5734e3ab-6281-41c9-b625-8811b243d6f6",
   "metadata": {},
   "outputs": [
    {
     "data": {
      "text/plain": [
       "'DELL'"
      ]
     },
     "execution_count": 29,
     "metadata": {},
     "output_type": "execute_result"
    }
   ],
   "source": [
    "os.environ['USERNAME']"
   ]
  },
  {
   "cell_type": "code",
   "execution_count": 30,
   "id": "83494128-6b14-422c-a254-6b3b86f1cb62",
   "metadata": {},
   "outputs": [
    {
     "data": {
      "text/plain": [
       "'\\\\Users\\\\DELL'"
      ]
     },
     "execution_count": 30,
     "metadata": {},
     "output_type": "execute_result"
    }
   ],
   "source": [
    "os.environ['HOMEPATH']"
   ]
  },
  {
   "cell_type": "code",
   "execution_count": 32,
   "id": "5aaa3c20-865d-4c62-8539-3ea73e10aa03",
   "metadata": {},
   "outputs": [
    {
     "data": {
      "text/plain": [
       "'C:\\\\Users\\\\DELL\\\\anaconda3\\\\python.exe'"
      ]
     },
     "execution_count": 32,
     "metadata": {},
     "output_type": "execute_result"
    }
   ],
   "source": [
    "import sys\n",
    "sys.executable"
   ]
  },
  {
   "cell_type": "code",
   "execution_count": 33,
   "id": "673bee8e-05dc-4867-84f3-1203b479274e",
   "metadata": {},
   "outputs": [],
   "source": [
    "import locale"
   ]
  },
  {
   "cell_type": "code",
   "execution_count": 34,
   "id": "9fb8f055-5c08-4731-b936-bd3d3e4d0221",
   "metadata": {},
   "outputs": [
    {
     "data": {
      "text/plain": [
       "['CHAR_MAX',\n",
       " 'Error',\n",
       " 'LC_ALL',\n",
       " 'LC_COLLATE',\n",
       " 'LC_CTYPE',\n",
       " 'LC_MONETARY',\n",
       " 'LC_NUMERIC',\n",
       " 'LC_TIME',\n",
       " '__all__',\n",
       " '__builtins__',\n",
       " '__cached__',\n",
       " '__doc__',\n",
       " '__file__',\n",
       " '__loader__',\n",
       " '__name__',\n",
       " '__package__',\n",
       " '__spec__',\n",
       " '_append_modifier',\n",
       " '_build_localename',\n",
       " '_builtin_str',\n",
       " '_collections_abc',\n",
       " '_format',\n",
       " '_group',\n",
       " '_grouping_intervals',\n",
       " '_localeconv',\n",
       " '_override_localeconv',\n",
       " '_parse_localename',\n",
       " '_percent_re',\n",
       " '_print_locale',\n",
       " '_replace_encoding',\n",
       " '_setlocale',\n",
       " '_strcoll',\n",
       " '_strip_padding',\n",
       " '_strxfrm',\n",
       " '_test',\n",
       " 'atof',\n",
       " 'atoi',\n",
       " 'currency',\n",
       " 'delocalize',\n",
       " 'encodings',\n",
       " 'format',\n",
       " 'format_string',\n",
       " 'functools',\n",
       " 'getdefaultlocale',\n",
       " 'getlocale',\n",
       " 'getpreferredencoding',\n",
       " 'k',\n",
       " 'locale_alias',\n",
       " 'locale_encoding_alias',\n",
       " 'localeconv',\n",
       " 'normalize',\n",
       " 're',\n",
       " 'resetlocale',\n",
       " 'setlocale',\n",
       " 'str',\n",
       " 'strcoll',\n",
       " 'strxfrm',\n",
       " 'sys',\n",
       " 'v',\n",
       " 'windows_locale']"
      ]
     },
     "execution_count": 34,
     "metadata": {},
     "output_type": "execute_result"
    }
   ],
   "source": [
    "dir(locale)"
   ]
  },
  {
   "cell_type": "code",
   "execution_count": 39,
   "id": "32310a01-8199-4623-acd4-204612665297",
   "metadata": {},
   "outputs": [
    {
     "data": {
      "text/plain": [
       "True"
      ]
     },
     "execution_count": 39,
     "metadata": {},
     "output_type": "execute_result"
    }
   ],
   "source": [
    "0%2==0"
   ]
  },
  {
   "cell_type": "code",
   "execution_count": 40,
   "id": "b26e60a9-eff5-4de1-8b3d-ee35ca49d03d",
   "metadata": {},
   "outputs": [
    {
     "data": {
      "text/plain": [
       "'C:\\\\Users\\\\DELL\\\\ders_pthon\\\\fonksiyonlar'"
      ]
     },
     "execution_count": 40,
     "metadata": {},
     "output_type": "execute_result"
    }
   ],
   "source": [
    "pwd"
   ]
  },
  {
   "cell_type": "code",
   "execution_count": 51,
   "id": "520ba432-180a-4d79-8428-724fc70c1ee2",
   "metadata": {},
   "outputs": [],
   "source": [
    "def file_chr_n(dosya, karakter):\n",
    "    sonuc = 0\n",
    "\n",
    "    if type(dosya) == str:\n",
    "        print(type(dosya))\n",
    "        f=open(dosya, \"r\")\n",
    "        veri = f.read()\n",
    "        for i in veri:\n",
    "            if i == karakter:\n",
    "                sonuc += 1\n",
    "    else:\n",
    "        veri = dosya.read()    # .eğer dosa açıksa buraya gelyior.\n",
    "        print(type(dosya))\n",
    "        for i in veri:\n",
    "            if i == karakter:\n",
    "                sonuc += 1\n",
    "        f.close()\n",
    "\n",
    "    return sonuc"
   ]
  },
  {
   "cell_type": "code",
   "execution_count": 48,
   "id": "0f186615-82d6-46c1-8a1c-4c7de9b4f101",
   "metadata": {},
   "outputs": [
    {
     "name": "stdout",
     "output_type": "stream",
     "text": [
      "<class 'str'>\n"
     ]
    },
    {
     "data": {
      "text/plain": [
       "3"
      ]
     },
     "execution_count": 48,
     "metadata": {},
     "output_type": "execute_result"
    }
   ],
   "source": [
    "file_chr_n(\"deneme.txt\", \"b\")"
   ]
  },
  {
   "cell_type": "code",
   "execution_count": 52,
   "id": "8d6beaa8-737d-4c76-a82c-d9f01adea241",
   "metadata": {},
   "outputs": [
    {
     "name": "stdout",
     "output_type": "stream",
     "text": [
      "<class 'str'>\n"
     ]
    },
    {
     "data": {
      "text/plain": [
       "3"
      ]
     },
     "execution_count": 52,
     "metadata": {},
     "output_type": "execute_result"
    }
   ],
   "source": [
    "file_chr_n(\"deneme.txt\", \"b\")"
   ]
  },
  {
   "cell_type": "code",
   "execution_count": 55,
   "id": "054f02f6-2d9f-4831-af95-1bc707de5aa3",
   "metadata": {},
   "outputs": [
    {
     "name": "stdout",
     "output_type": "stream",
     "text": [
      "<class 'str'>\n"
     ]
    },
    {
     "data": {
      "text/plain": [
       "0"
      ]
     },
     "execution_count": 55,
     "metadata": {},
     "output_type": "execute_result"
    }
   ],
   "source": [
    "file_chr_n(\"deneme.txt\", \"40\")"
   ]
  },
  {
   "cell_type": "code",
   "execution_count": 67,
   "id": "55d07e03-d2ef-4107-af92-13df61f6f0b2",
   "metadata": {},
   "outputs": [
    {
     "ename": "TypeError",
     "evalue": "'<' not supported between instances of 'NoneType' and 'NoneType'",
     "output_type": "error",
     "traceback": [
      "\u001b[1;31m---------------------------------------------------------------------------\u001b[0m",
      "\u001b[1;31mTypeError\u001b[0m                                 Traceback (most recent call last)",
      "Input \u001b[1;32mIn [67]\u001b[0m, in \u001b[0;36m<cell line: 8>\u001b[1;34m()\u001b[0m\n\u001b[0;32m      2\u001b[0m çevrim \u001b[38;5;241m=\u001b[39m {i: harfler\u001b[38;5;241m.\u001b[39mindex(i) \u001b[38;5;28;01mfor\u001b[39;00m i \u001b[38;5;129;01min\u001b[39;00m harfler}\n\u001b[0;32m      4\u001b[0m isimler \u001b[38;5;241m=\u001b[39m [\u001b[38;5;124m'\u001b[39m\u001b[38;5;124mahmet\u001b[39m\u001b[38;5;124m'\u001b[39m, \u001b[38;5;124m'\u001b[39m\u001b[38;5;124mcan\u001b[39m\u001b[38;5;124m'\u001b[39m, \u001b[38;5;124m'\u001b[39m\u001b[38;5;124miskender\u001b[39m\u001b[38;5;124m'\u001b[39m, \u001b[38;5;124m'\u001b[39m\u001b[38;5;124mcigdem\u001b[39m\u001b[38;5;124m'\u001b[39m,\n\u001b[0;32m      5\u001b[0m            \u001b[38;5;124m'\u001b[39m\u001b[38;5;124mismet\u001b[39m\u001b[38;5;124m'\u001b[39m, \u001b[38;5;124m'\u001b[39m\u001b[38;5;124mismail\u001b[39m\u001b[38;5;124m'\u001b[39m, \u001b[38;5;124m'\u001b[39m\u001b[38;5;124mismit\u001b[39m\u001b[38;5;124m'\u001b[39m, \u001b[38;5;124m'\u001b[39m\u001b[38;5;124mçiğdem\u001b[39m\u001b[38;5;124m'\u001b[39m,\n\u001b[0;32m      6\u001b[0m            \u001b[38;5;124m'\u001b[39m\u001b[38;5;124mismıt\u001b[39m\u001b[38;5;124m'\u001b[39m, \u001b[38;5;124m'\u001b[39m\u001b[38;5;124mışık\u001b[39m\u001b[38;5;124m'\u001b[39m, \u001b[38;5;124m'\u001b[39m\u001b[38;5;124mşule\u001b[39m\u001b[38;5;124m'\u001b[39m,\u001b[38;5;124m'\u001b[39m\u001b[38;5;124mıiıi\u001b[39m\u001b[38;5;124m'\u001b[39m]\n\u001b[1;32m----> 8\u001b[0m \u001b[38;5;28mprint\u001b[39m(\u001b[38;5;241m*\u001b[39m\u001b[38;5;28;43msorted\u001b[39;49m\u001b[43m(\u001b[49m\u001b[43misimler\u001b[49m\u001b[43m,\u001b[49m\u001b[43m \u001b[49m\u001b[43mkey\u001b[49m\u001b[38;5;241;43m=\u001b[39;49m\u001b[43mçevrim\u001b[49m\u001b[38;5;241;43m.\u001b[39;49m\u001b[43mget\u001b[49m\u001b[43m)\u001b[49m,sep\u001b[38;5;241m=\u001b[39m\u001b[38;5;124m'\u001b[39m\u001b[38;5;130;01m\\n\u001b[39;00m\u001b[38;5;124m'\u001b[39m)\n",
      "\u001b[1;31mTypeError\u001b[0m: '<' not supported between instances of 'NoneType' and 'NoneType'"
     ]
    }
   ],
   "source": [
    "harfler = \"abcçdefgğhıijklmnoöprsştuüvyz\"\n",
    "çevrim = {i: harfler.index(i) for i in harfler}\n",
    "\n",
    "isimler = ['ahmet', 'can', 'iskender', 'cigdem',\n",
    "           'ismet', 'ismail', 'ismit', 'çiğdem',\n",
    "           'ismıt', 'ışık', 'şule','ıiıi']\n",
    "\n",
    "print(*sorted(isimler, key=çevrim.get),sep='\\n')"
   ]
  },
  {
   "cell_type": "code",
   "execution_count": 60,
   "id": "ef0f7e97-f8c9-4996-8088-c02ccdc15026",
   "metadata": {},
   "outputs": [],
   "source": [
    "x=\"akçe\"\n",
    "harfler = \"abcçdefgğhıijklmnoöprsştuüvyz\"\n",
    "çevrim = {i: harfler.index(i) for i in harfler}\n",
    "key=lambda x: çevrim.get(x[0])"
   ]
  },
  {
   "cell_type": "code",
   "execution_count": 62,
   "id": "9a6e4f7f-be9f-4767-9a5e-b665c40ef6e9",
   "metadata": {},
   "outputs": [
    {
     "data": {
      "text/plain": [
       "0"
      ]
     },
     "execution_count": 62,
     "metadata": {},
     "output_type": "execute_result"
    }
   ],
   "source": [
    "key(x)"
   ]
  },
  {
   "cell_type": "code",
   "execution_count": 65,
   "id": "0c83bb8e-db9b-43dc-a6fe-d6e7362a758c",
   "metadata": {},
   "outputs": [
    {
     "name": "stdout",
     "output_type": "stream",
     "text": [
      "ı\ti\tm\ts\tt\n"
     ]
    }
   ],
   "source": [
    "print(*sorted(\"ismıt\", key=çevrim.get),sep='\\t')"
   ]
  },
  {
   "cell_type": "code",
   "execution_count": 77,
   "id": "7deeb67c-a8b1-4d63-89dd-518f187c0754",
   "metadata": {},
   "outputs": [],
   "source": [
    "def kap_fonk():\n",
    "    non_local_degisken = 5\n",
    "\n",
    "    def ic_fonk():\n",
    "        non_local_degisken =2\n",
    "        print(non_local_degisken)\n",
    "    return ic_fonk"
   ]
  },
  {
   "cell_type": "code",
   "execution_count": 78,
   "id": "714cc06d-dfad-4051-8e05-43a46a506928",
   "metadata": {},
   "outputs": [
    {
     "name": "stdout",
     "output_type": "stream",
     "text": [
      "2\n"
     ]
    }
   ],
   "source": [
    "y = kap_fonk()\n",
    "y()"
   ]
  },
  {
   "cell_type": "code",
   "execution_count": null,
   "id": "e67aeeee-42d3-471d-b667-db479b802a28",
   "metadata": {},
   "outputs": [],
   "source": []
  }
 ],
 "metadata": {
  "kernelspec": {
   "display_name": "Python 3 (ipykernel)",
   "language": "python",
   "name": "python3"
  },
  "language_info": {
   "codemirror_mode": {
    "name": "ipython",
    "version": 3
   },
   "file_extension": ".py",
   "mimetype": "text/x-python",
   "name": "python",
   "nbconvert_exporter": "python",
   "pygments_lexer": "ipython3",
   "version": "3.9.12"
  }
 },
 "nbformat": 4,
 "nbformat_minor": 5
}
