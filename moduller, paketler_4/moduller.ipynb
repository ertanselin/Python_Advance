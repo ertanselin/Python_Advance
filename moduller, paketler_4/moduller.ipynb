{
 "cells": [
  {
   "cell_type": "markdown",
   "id": "d1da177e-324e-47b1-86e3-2dcca243e612",
   "metadata": {},
   "source": [
    "# Modüller"
   ]
  },
  {
   "cell_type": "code",
   "execution_count": 5,
   "id": "0e13eb33-f4f9-4d23-9999-e8e07fa0e92d",
   "metadata": {},
   "outputs": [
    {
     "data": {
      "text/plain": [
       "[1422, 965, 5019, 3919, 8240, 2554, 1710, 8917, 7755, 2826]"
      ]
     },
     "execution_count": 5,
     "metadata": {},
     "output_type": "execute_result"
    }
   ],
   "source": [
    "import random\n",
    "liste=[random.randint(0,10000) for i in range(10)]\n",
    "liste"
   ]
  },
  {
   "cell_type": "code",
   "execution_count": 6,
   "id": "97c02edd-a491-40a0-8e30-b3a5912856f1",
   "metadata": {},
   "outputs": [],
   "source": [
    "from random import randint"
   ]
  },
  {
   "cell_type": "code",
   "execution_count": 7,
   "id": "fee11ac7-b698-44d3-a928-93d72541b002",
   "metadata": {},
   "outputs": [
    {
     "data": {
      "text/plain": [
       "[5176, 1103, 519, 3786, 6897, 11, 1366, 8698, 6576, 4108]"
      ]
     },
     "execution_count": 7,
     "metadata": {},
     "output_type": "execute_result"
    }
   ],
   "source": [
    "liste=[randint(0,10000) for i in range(10)]\n",
    "liste"
   ]
  },
  {
   "cell_type": "code",
   "execution_count": 8,
   "id": "52c90b27-83b2-4347-b8cf-7defd2013046",
   "metadata": {},
   "outputs": [],
   "source": [
    "from random import *"
   ]
  },
  {
   "cell_type": "code",
   "execution_count": 9,
   "id": "230938fd-a1eb-4a43-bcb3-0395497b9098",
   "metadata": {},
   "outputs": [
    {
     "data": {
      "text/plain": [
       "['__call__',\n",
       " '__class__',\n",
       " '__delattr__',\n",
       " '__dir__',\n",
       " '__doc__',\n",
       " '__eq__',\n",
       " '__format__',\n",
       " '__ge__',\n",
       " '__getattribute__',\n",
       " '__gt__',\n",
       " '__hash__',\n",
       " '__init__',\n",
       " '__init_subclass__',\n",
       " '__le__',\n",
       " '__lt__',\n",
       " '__module__',\n",
       " '__name__',\n",
       " '__ne__',\n",
       " '__new__',\n",
       " '__qualname__',\n",
       " '__reduce__',\n",
       " '__reduce_ex__',\n",
       " '__repr__',\n",
       " '__self__',\n",
       " '__setattr__',\n",
       " '__sizeof__',\n",
       " '__str__',\n",
       " '__subclasshook__',\n",
       " '__text_signature__']"
      ]
     },
     "execution_count": 9,
     "metadata": {},
     "output_type": "execute_result"
    }
   ],
   "source": [
    "dir(random)"
   ]
  },
  {
   "cell_type": "code",
   "execution_count": 1,
   "id": "61cb682b-f5fa-4546-bf50-596abf72fa0f",
   "metadata": {},
   "outputs": [],
   "source": [
    "import math"
   ]
  },
  {
   "cell_type": "code",
   "execution_count": null,
   "id": "3b2554d5-a417-4d5d-9f6c-875aeb3bd075",
   "metadata": {},
   "outputs": [],
   "source": [
    "math.factorial(500000)"
   ]
  },
  {
   "cell_type": "code",
   "execution_count": 4,
   "id": "8f99ab2b-8fd0-4ff6-b481-06627d20bf1f",
   "metadata": {},
   "outputs": [
    {
     "data": {
      "text/plain": [
       "['__doc__',\n",
       " '__loader__',\n",
       " '__name__',\n",
       " '__package__',\n",
       " '__spec__',\n",
       " 'acos',\n",
       " 'acosh',\n",
       " 'asin',\n",
       " 'asinh',\n",
       " 'atan',\n",
       " 'atan2',\n",
       " 'atanh',\n",
       " 'ceil',\n",
       " 'comb',\n",
       " 'copysign',\n",
       " 'cos',\n",
       " 'cosh',\n",
       " 'degrees',\n",
       " 'dist',\n",
       " 'e',\n",
       " 'erf',\n",
       " 'erfc',\n",
       " 'exp',\n",
       " 'expm1',\n",
       " 'fabs',\n",
       " 'factorial',\n",
       " 'floor',\n",
       " 'fmod',\n",
       " 'frexp',\n",
       " 'fsum',\n",
       " 'gamma',\n",
       " 'gcd',\n",
       " 'hypot',\n",
       " 'inf',\n",
       " 'isclose',\n",
       " 'isfinite',\n",
       " 'isinf',\n",
       " 'isnan',\n",
       " 'isqrt',\n",
       " 'lcm',\n",
       " 'ldexp',\n",
       " 'lgamma',\n",
       " 'log',\n",
       " 'log10',\n",
       " 'log1p',\n",
       " 'log2',\n",
       " 'modf',\n",
       " 'nan',\n",
       " 'nextafter',\n",
       " 'perm',\n",
       " 'pi',\n",
       " 'pow',\n",
       " 'prod',\n",
       " 'radians',\n",
       " 'remainder',\n",
       " 'sin',\n",
       " 'sinh',\n",
       " 'sqrt',\n",
       " 'tan',\n",
       " 'tanh',\n",
       " 'tau',\n",
       " 'trunc',\n",
       " 'ulp']"
      ]
     },
     "execution_count": 4,
     "metadata": {},
     "output_type": "execute_result"
    }
   ],
   "source": [
    "dir(math)"
   ]
  },
  {
   "cell_type": "code",
   "execution_count": 6,
   "id": "dc8d56f6-9cce-41f9-ac80-ece30eeafd3b",
   "metadata": {},
   "outputs": [
    {
     "data": {
      "text/plain": [
       "'math'"
      ]
     },
     "execution_count": 6,
     "metadata": {},
     "output_type": "execute_result"
    }
   ],
   "source": [
    "math.__name__"
   ]
  },
  {
   "cell_type": "code",
   "execution_count": 7,
   "id": "5c73da8a-b5e4-4b77-a5ea-930bb0d6ddc8",
   "metadata": {},
   "outputs": [],
   "source": [
    "import os"
   ]
  },
  {
   "cell_type": "code",
   "execution_count": 8,
   "id": "d6314c68-aea4-474c-9e8c-bad4752be39a",
   "metadata": {},
   "outputs": [
    {
     "data": {
      "text/plain": [
       "'nt'"
      ]
     },
     "execution_count": 8,
     "metadata": {},
     "output_type": "execute_result"
    }
   ],
   "source": [
    "os.name"
   ]
  },
  {
   "cell_type": "code",
   "execution_count": 9,
   "id": "9a127873-f4db-48d0-a9ac-7c60196f645a",
   "metadata": {},
   "outputs": [
    {
     "data": {
      "text/plain": [
       "'C:\\\\Users\\\\DELL\\\\ders_pthon\\\\moduller, paketler'"
      ]
     },
     "execution_count": 9,
     "metadata": {},
     "output_type": "execute_result"
    }
   ],
   "source": [
    "pwd()"
   ]
  },
  {
   "cell_type": "code",
   "execution_count": 10,
   "id": "ff4e991d-1144-4aba-b210-d0a39e3ac933",
   "metadata": {},
   "outputs": [
    {
     "data": {
      "text/plain": [
       "'C:\\\\Users\\\\DELL\\\\ders_pthon\\\\moduller, paketler'"
      ]
     },
     "execution_count": 10,
     "metadata": {},
     "output_type": "execute_result"
    }
   ],
   "source": [
    "os.getcwd()"
   ]
  },
  {
   "cell_type": "code",
   "execution_count": 11,
   "id": "a48feb27-0039-45e8-b191-8c739f790353",
   "metadata": {},
   "outputs": [],
   "source": [
    "os.makedirs('DENEME')"
   ]
  },
  {
   "cell_type": "code",
   "execution_count": 13,
   "id": "41e8c5c2-5f22-42ec-a035-b6632a582ba4",
   "metadata": {},
   "outputs": [
    {
     "data": {
      "text/plain": [
       "'\\\\'"
      ]
     },
     "execution_count": 13,
     "metadata": {},
     "output_type": "execute_result"
    }
   ],
   "source": [
    "os.sep"
   ]
  },
  {
   "cell_type": "code",
   "execution_count": 14,
   "id": "47cfa6e9-1b19-457c-a361-0d30f8b4c2d9",
   "metadata": {},
   "outputs": [
    {
     "data": {
      "text/plain": [
       "os.stat_result(st_mode=33206, st_ino=10696049115902149, st_dev=2188824751, st_nlink=1, st_uid=0, st_gid=0, st_size=353, st_atime=1666550261, st_mtime=1666550255, st_ctime=1666550255)"
      ]
     },
     "execution_count": 14,
     "metadata": {},
     "output_type": "execute_result"
    }
   ],
   "source": [
    "os.stat(\"donusum.py\")"
   ]
  },
  {
   "cell_type": "code",
   "execution_count": 16,
   "id": "82e66699-81d2-49a6-a2e9-d4099fd3d068",
   "metadata": {},
   "outputs": [],
   "source": [
    "import subprocess "
   ]
  },
  {
   "cell_type": "code",
   "execution_count": 18,
   "id": "7b3142c7-709e-4eaa-9d87-833224585e40",
   "metadata": {},
   "outputs": [],
   "source": [
    "subprocess.call('notepad.exe');"
   ]
  },
  {
   "cell_type": "code",
   "execution_count": 19,
   "id": "76fa7e03-391a-46b5-a6a7-2aa3b03294f5",
   "metadata": {},
   "outputs": [
    {
     "data": {
      "text/plain": [
       "0"
      ]
     },
     "execution_count": 19,
     "metadata": {},
     "output_type": "execute_result"
    }
   ],
   "source": [
    "os.system('notepad.exe')"
   ]
  },
  {
   "cell_type": "code",
   "execution_count": 20,
   "id": "aa32ecb1-ccfc-4db2-8083-a8c372536104",
   "metadata": {},
   "outputs": [],
   "source": [
    "import webbrowser as web"
   ]
  },
  {
   "cell_type": "code",
   "execution_count": 24,
   "id": "23bc37e5-2003-4978-8b53-e95db1cadf6f",
   "metadata": {},
   "outputs": [
    {
     "data": {
      "text/plain": [
       "True"
      ]
     },
     "execution_count": 24,
     "metadata": {},
     "output_type": "execute_result"
    }
   ],
   "source": [
    "web.open('www.techproeducation.com')"
   ]
  },
  {
   "cell_type": "code",
   "execution_count": 25,
   "id": "cd30525d-b503-42d2-87c8-01dee7816a13",
   "metadata": {},
   "outputs": [
    {
     "data": {
      "text/plain": [
       "['BackgroundBrowser',\n",
       " 'BaseBrowser',\n",
       " 'Chrome',\n",
       " 'Chromium',\n",
       " 'Elinks',\n",
       " 'Error',\n",
       " 'Galeon',\n",
       " 'GenericBrowser',\n",
       " 'Grail',\n",
       " 'Konqueror',\n",
       " 'Mozilla',\n",
       " 'Netscape',\n",
       " 'Opera',\n",
       " 'UnixBrowser',\n",
       " 'WindowsDefault',\n",
       " '__all__',\n",
       " '__builtins__',\n",
       " '__cached__',\n",
       " '__doc__',\n",
       " '__file__',\n",
       " '__loader__',\n",
       " '__name__',\n",
       " '__package__',\n",
       " '__spec__',\n",
       " '_browsers',\n",
       " '_lock',\n",
       " '_os_preferred_browser',\n",
       " '_synthesize',\n",
       " '_tryorder',\n",
       " 'get',\n",
       " 'main',\n",
       " 'open',\n",
       " 'open_new',\n",
       " 'open_new_tab',\n",
       " 'os',\n",
       " 'register',\n",
       " 'register_X_browsers',\n",
       " 'register_standard_browsers',\n",
       " 'shlex',\n",
       " 'shutil',\n",
       " 'subprocess',\n",
       " 'sys',\n",
       " 'threading']"
      ]
     },
     "execution_count": 25,
     "metadata": {},
     "output_type": "execute_result"
    }
   ],
   "source": [
    "dir(web)"
   ]
  },
  {
   "cell_type": "code",
   "execution_count": 26,
   "id": "1b8c54f9-e66d-4ac2-a866-bed68351fc19",
   "metadata": {},
   "outputs": [
    {
     "data": {
      "text/plain": [
       "'C:\\\\Users\\\\DELL\\\\anaconda3\\\\lib\\\\os.py'"
      ]
     },
     "execution_count": 26,
     "metadata": {},
     "output_type": "execute_result"
    }
   ],
   "source": [
    "os.__file__"
   ]
  },
  {
   "cell_type": "code",
   "execution_count": 30,
   "id": "8a39f3fb-1a5d-46df-ae3c-b28e15688ed5",
   "metadata": {},
   "outputs": [],
   "source": [
    "import deneme_silinecek as den"
   ]
  },
  {
   "cell_type": "code",
   "execution_count": 29,
   "id": "755728a7-a366-4916-8abc-b0c43b839afb",
   "metadata": {},
   "outputs": [
    {
     "data": {
      "text/plain": [
       "['__builtins__',\n",
       " '__cached__',\n",
       " '__doc__',\n",
       " '__file__',\n",
       " '__loader__',\n",
       " '__name__',\n",
       " '__package__',\n",
       " '__spec__',\n",
       " 'faktoriyel',\n",
       " 'iki']"
      ]
     },
     "execution_count": 29,
     "metadata": {},
     "output_type": "execute_result"
    }
   ],
   "source": [
    "dir(deneme_silinecek)"
   ]
  },
  {
   "cell_type": "code",
   "execution_count": 31,
   "id": "6c9e83bf-09a5-4808-b9f4-a715a8f40d9d",
   "metadata": {},
   "outputs": [
    {
     "data": {
      "text/plain": [
       "1307674368000"
      ]
     },
     "execution_count": 31,
     "metadata": {},
     "output_type": "execute_result"
    }
   ],
   "source": [
    "den.faktoriyel(15)"
   ]
  },
  {
   "cell_type": "code",
   "execution_count": 33,
   "id": "a86e5be4-3190-4e3b-8860-40fbbc5e5092",
   "metadata": {},
   "outputs": [],
   "source": [
    "from deneme_silinecek import faktoriyel as f"
   ]
  },
  {
   "cell_type": "code",
   "execution_count": 34,
   "id": "50218a33-ba1a-40d5-a969-0880dc46498d",
   "metadata": {},
   "outputs": [
    {
     "data": {
      "text/plain": [
       "120"
      ]
     },
     "execution_count": 34,
     "metadata": {},
     "output_type": "execute_result"
    }
   ],
   "source": [
    "f(5)"
   ]
  },
  {
   "cell_type": "code",
   "execution_count": 35,
   "id": "e44fb354-68e2-400d-ba5b-898f9cff05a8",
   "metadata": {},
   "outputs": [
    {
     "data": {
      "text/plain": [
       "'C:\\\\Users\\\\DELL\\\\ders_pthon\\\\moduller, paketler\\\\deneme_silinecek.py'"
      ]
     },
     "execution_count": 35,
     "metadata": {},
     "output_type": "execute_result"
    }
   ],
   "source": [
    "deneme_silinecek.__file__"
   ]
  },
  {
   "cell_type": "code",
   "execution_count": 37,
   "id": "079ed8e9-11f7-47aa-b02f-589e16d0b8bf",
   "metadata": {},
   "outputs": [],
   "source": [
    "import sys"
   ]
  },
  {
   "cell_type": "code",
   "execution_count": 38,
   "id": "c2edcbee-373e-4df3-bfd3-b06fe19bd5ec",
   "metadata": {},
   "outputs": [
    {
     "data": {
      "text/plain": [
       "['C:\\\\Users\\\\DELL\\\\ders_pthon\\\\moduller, paketler',\n",
       " 'C:\\\\Users\\\\DELL\\\\anaconda3\\\\python39.zip',\n",
       " 'C:\\\\Users\\\\DELL\\\\anaconda3\\\\DLLs',\n",
       " 'C:\\\\Users\\\\DELL\\\\anaconda3\\\\lib',\n",
       " 'C:\\\\Users\\\\DELL\\\\anaconda3',\n",
       " '',\n",
       " 'C:\\\\Users\\\\DELL\\\\AppData\\\\Roaming\\\\Python\\\\Python39\\\\site-packages',\n",
       " 'C:\\\\Users\\\\DELL\\\\anaconda3\\\\lib\\\\site-packages',\n",
       " 'C:\\\\Users\\\\DELL\\\\anaconda3\\\\lib\\\\site-packages\\\\django-4.1.2-py3.9.egg',\n",
       " 'C:\\\\Users\\\\DELL\\\\anaconda3\\\\lib\\\\site-packages\\\\win32',\n",
       " 'C:\\\\Users\\\\DELL\\\\anaconda3\\\\lib\\\\site-packages\\\\win32\\\\lib',\n",
       " 'C:\\\\Users\\\\DELL\\\\anaconda3\\\\lib\\\\site-packages\\\\Pythonwin']"
      ]
     },
     "execution_count": 38,
     "metadata": {},
     "output_type": "execute_result"
    }
   ],
   "source": [
    "sys.path"
   ]
  },
  {
   "cell_type": "code",
   "execution_count": 39,
   "id": "177bb006-3f99-492c-85c4-4cd5db6ed66a",
   "metadata": {},
   "outputs": [],
   "source": [
    "from distutils import sysconfig"
   ]
  },
  {
   "cell_type": "code",
   "execution_count": 41,
   "id": "bad0f029-6614-44d3-86d9-52fb8598268a",
   "metadata": {},
   "outputs": [
    {
     "data": {
      "text/plain": [
       "'C:\\\\Users\\\\DELL\\\\anaconda3\\\\Lib\\\\site-packages'"
      ]
     },
     "execution_count": 41,
     "metadata": {},
     "output_type": "execute_result"
    }
   ],
   "source": [
    "sysconfig.get_python_lib()"
   ]
  },
  {
   "cell_type": "code",
   "execution_count": 42,
   "id": "d4a05a83-6dc0-4782-814c-3dfe0f526360",
   "metadata": {},
   "outputs": [],
   "source": [
    "import importlib"
   ]
  },
  {
   "cell_type": "code",
   "execution_count": 43,
   "id": "30c758e9-9f5b-4a12-8ede-226f27e87055",
   "metadata": {},
   "outputs": [
    {
     "data": {
      "text/plain": [
       "['_RELOADING',\n",
       " '__all__',\n",
       " '__builtins__',\n",
       " '__cached__',\n",
       " '__doc__',\n",
       " '__file__',\n",
       " '__import__',\n",
       " '__loader__',\n",
       " '__name__',\n",
       " '__package__',\n",
       " '__path__',\n",
       " '__spec__',\n",
       " '_bootstrap',\n",
       " '_bootstrap_external',\n",
       " '_common',\n",
       " '_imp',\n",
       " '_pack_uint32',\n",
       " '_unpack_uint32',\n",
       " 'abc',\n",
       " 'find_loader',\n",
       " 'import_module',\n",
       " 'invalidate_caches',\n",
       " 'machinery',\n",
       " 'reload',\n",
       " 'resources',\n",
       " 'sys',\n",
       " 'types',\n",
       " 'util',\n",
       " 'warnings']"
      ]
     },
     "execution_count": 43,
     "metadata": {},
     "output_type": "execute_result"
    }
   ],
   "source": [
    "dir(importlib)"
   ]
  },
  {
   "cell_type": "code",
   "execution_count": null,
   "id": "df65c4e4-5836-4211-9b53-d2e14b05f697",
   "metadata": {},
   "outputs": [],
   "source": [
    "importlib.reload()"
   ]
  },
  {
   "cell_type": "code",
   "execution_count": 44,
   "id": "126caf12-83a2-4250-8fe3-ee06181d50d6",
   "metadata": {},
   "outputs": [],
   "source": [
    "import sozluk"
   ]
  },
  {
   "cell_type": "code",
   "execution_count": 45,
   "id": "8053e67f-f65f-4bf7-8f31-28e51e82fb29",
   "metadata": {},
   "outputs": [
    {
     "data": {
      "text/plain": [
       "['ara', 'ekle', 'sil']"
      ]
     },
     "execution_count": 45,
     "metadata": {},
     "output_type": "execute_result"
    }
   ],
   "source": [
    "dir(sozluk)"
   ]
  },
  {
   "cell_type": "code",
   "execution_count": 46,
   "id": "1eba88a0-cfab-4b12-961b-b13279ba7e70",
   "metadata": {},
   "outputs": [
    {
     "data": {
      "text/plain": [
       "'book'"
      ]
     },
     "execution_count": 46,
     "metadata": {},
     "output_type": "execute_result"
    }
   ],
   "source": [
    "sozluk.ara(\"kitap\")"
   ]
  },
  {
   "cell_type": "code",
   "execution_count": 47,
   "id": "d6b1a463-5dde-4998-a8b6-8b9a202ff157",
   "metadata": {},
   "outputs": [
    {
     "data": {
      "text/plain": [
       "'silgi kelimesi sözlükte yok!'"
      ]
     },
     "execution_count": 47,
     "metadata": {},
     "output_type": "execute_result"
    }
   ],
   "source": [
    "sozluk.ara(\"silgi\")"
   ]
  },
  {
   "cell_type": "code",
   "execution_count": 54,
   "id": "f5fd0f3f-6ec8-4272-a5cf-06038d4ef75b",
   "metadata": {},
   "outputs": [
    {
     "name": "stdout",
     "output_type": "stream",
     "text": [
      "silgi kelimesi sözlüğe eklendi!\n"
     ]
    }
   ],
   "source": [
    "sozluk.ekle(\"silgi\",\"rubber\")"
   ]
  },
  {
   "cell_type": "code",
   "execution_count": 53,
   "id": "bd53a705-e0b3-4d3f-bc4b-b9a2b5f54ba6",
   "metadata": {},
   "outputs": [
    {
     "data": {
      "text/plain": [
       "'silgi kelimesi sözlükte yok!'"
      ]
     },
     "execution_count": 53,
     "metadata": {},
     "output_type": "execute_result"
    }
   ],
   "source": [
    "sozluk.ara(\"silgi\")"
   ]
  },
  {
   "cell_type": "code",
   "execution_count": 55,
   "id": "4658ae9e-e9cd-4a09-8a85-505ecdb47560",
   "metadata": {},
   "outputs": [
    {
     "data": {
      "text/plain": [
       "<module 'sozluk' from 'C:\\\\Users\\\\DELL\\\\ders_pthon\\\\moduller, paketler\\\\sozluk.py'>"
      ]
     },
     "execution_count": 55,
     "metadata": {},
     "output_type": "execute_result"
    }
   ],
   "source": [
    "importlib.reload(sozluk)"
   ]
  },
  {
   "cell_type": "code",
   "execution_count": 51,
   "id": "07395096-4e81-4228-9ad2-7483a30b209b",
   "metadata": {},
   "outputs": [
    {
     "name": "stdout",
     "output_type": "stream",
     "text": [
      "'silgi' kelimesi bulunamadı!\n"
     ]
    }
   ],
   "source": [
    "sozluk.sil(\"silgi\")"
   ]
  },
  {
   "cell_type": "code",
   "execution_count": 52,
   "id": "8e08849e-88e0-4013-a087-25027685ce69",
   "metadata": {},
   "outputs": [],
   "source": [
    "sözlük = {\"kitap\"      : \"book\",\n",
    "          \"bilgisayar\" : \"computer\",\n",
    "          \"programlama\": \"programming\",\n",
    "\t\t  \"five\"       : \"five\"}"
   ]
  },
  {
   "cell_type": "code",
   "execution_count": 56,
   "id": "fb053688-bb9f-4f6d-9d16-d90033ebb32b",
   "metadata": {},
   "outputs": [],
   "source": [
    "import donusum"
   ]
  },
  {
   "cell_type": "code",
   "execution_count": 57,
   "id": "a7fd8ba3-7450-4a69-9acb-631bcff45f4f",
   "metadata": {},
   "outputs": [
    {
     "data": {
      "text/plain": [
       "['Fahrenheit_C',\n",
       " 'Santigrat_F',\n",
       " '__builtins__',\n",
       " '__cached__',\n",
       " '__doc__',\n",
       " '__file__',\n",
       " '__loader__',\n",
       " '__name__',\n",
       " '__package__',\n",
       " '__spec__']"
      ]
     },
     "execution_count": 57,
     "metadata": {},
     "output_type": "execute_result"
    }
   ],
   "source": [
    "dir(donusum)"
   ]
  },
  {
   "cell_type": "code",
   "execution_count": 58,
   "id": "58dc04ed-251d-459a-bfb1-5e565f48b6c0",
   "metadata": {},
   "outputs": [
    {
     "data": {
      "text/plain": [
       "212.0"
      ]
     },
     "execution_count": 58,
     "metadata": {},
     "output_type": "execute_result"
    }
   ],
   "source": [
    "donusum.Santigrat_F(100)"
   ]
  },
  {
   "cell_type": "code",
   "execution_count": null,
   "id": "d32769a2-e1bd-483b-92da-6881a049a473",
   "metadata": {},
   "outputs": [],
   "source": [
    "#https://pypi.org/"
   ]
  },
  {
   "cell_type": "code",
   "execution_count": null,
   "id": "e8afd0f0-68cb-4111-8370-99a527547cd8",
   "metadata": {},
   "outputs": [],
   "source": [
    "# !!pip3 install modül_adi"
   ]
  },
  {
   "cell_type": "code",
   "execution_count": 59,
   "id": "bdfab26f-75a9-45b6-870e-ca5daa7bf8f0",
   "metadata": {},
   "outputs": [
    {
     "name": "stderr",
     "output_type": "stream",
     "text": [
      "WARNING: Ignoring invalid distribution -cikit-learn (c:\\users\\dell\\anaconda3\\lib\\site-packages)\n",
      "WARNING: Ignoring invalid distribution -cikit-learn (c:\\users\\dell\\anaconda3\\lib\\site-packages)\n",
      "WARNING: Ignoring invalid distribution -cikit-learn (c:\\users\\dell\\anaconda3\\lib\\site-packages)\n",
      "WARNING: Ignoring invalid distribution -cikit-learn (c:\\users\\dell\\anaconda3\\lib\\site-packages)\n",
      "WARNING: Ignoring invalid distribution -cikit-learn (c:\\users\\dell\\anaconda3\\lib\\site-packages)\n",
      "WARNING: Ignoring invalid distribution -cikit-learn (c:\\users\\dell\\anaconda3\\lib\\site-packages)\n"
     ]
    },
    {
     "name": "stdout",
     "output_type": "stream",
     "text": [
      "Requirement already satisfied: django in c:\\users\\dell\\anaconda3\\lib\\site-packages (4.1.2)\n",
      "Requirement already satisfied: tzdata in c:\\users\\dell\\anaconda3\\lib\\site-packages (from django) (2022.2)\n",
      "Requirement already satisfied: sqlparse>=0.2.2 in c:\\users\\dell\\anaconda3\\lib\\site-packages (from django) (0.4.3)\n",
      "Requirement already satisfied: asgiref<4,>=3.5.2 in c:\\users\\dell\\anaconda3\\lib\\site-packages (from django) (3.5.2)\n"
     ]
    }
   ],
   "source": [
    "!pip3 install django"
   ]
  },
  {
   "cell_type": "code",
   "execution_count": 60,
   "id": "e44eb3f7-287f-47dd-b84f-3f71d1dba79c",
   "metadata": {},
   "outputs": [],
   "source": [
    "import django "
   ]
  },
  {
   "cell_type": "code",
   "execution_count": 61,
   "id": "87e0ca38-7dcc-4f14-b46a-39e145907a46",
   "metadata": {},
   "outputs": [
    {
     "data": {
      "text/plain": [
       "['VERSION',\n",
       " '__builtins__',\n",
       " '__cached__',\n",
       " '__doc__',\n",
       " '__file__',\n",
       " '__loader__',\n",
       " '__name__',\n",
       " '__package__',\n",
       " '__path__',\n",
       " '__spec__',\n",
       " '__version__',\n",
       " 'get_version',\n",
       " 'setup',\n",
       " 'utils']"
      ]
     },
     "execution_count": 61,
     "metadata": {},
     "output_type": "execute_result"
    }
   ],
   "source": [
    "dir(django)"
   ]
  },
  {
   "cell_type": "code",
   "execution_count": null,
   "id": "e1f15b60-92e4-4001-a009-500f6a4ae2b9",
   "metadata": {},
   "outputs": [],
   "source": []
  }
 ],
 "metadata": {
  "kernelspec": {
   "display_name": "Python 3 (ipykernel)",
   "language": "python",
   "name": "python3"
  },
  "language_info": {
   "codemirror_mode": {
    "name": "ipython",
    "version": 3
   },
   "file_extension": ".py",
   "mimetype": "text/x-python",
   "name": "python",
   "nbconvert_exporter": "python",
   "pygments_lexer": "ipython3",
   "version": "3.9.12"
  }
 },
 "nbformat": 4,
 "nbformat_minor": 5
}
