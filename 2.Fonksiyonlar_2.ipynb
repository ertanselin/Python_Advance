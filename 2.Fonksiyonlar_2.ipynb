{
 "cells": [
  {
   "cell_type": "markdown",
   "id": "3dfb93a7-2ca9-4b82-b872-cb7e4525f0ce",
   "metadata": {},
   "source": [
    "# Fonksiyonlar"
   ]
  },
  {
   "cell_type": "code",
   "execution_count": 5,
   "id": "e347f471-63cf-4d59-b9b9-0e69424d878e",
   "metadata": {},
   "outputs": [],
   "source": [
    "def fonksion_adi(parametreler):\n",
    "    fonksion_govdesi"
   ]
  },
  {
   "cell_type": "code",
   "execution_count": 8,
   "id": "5b0a888b-e55d-4dc0-8d65-a4d13e34bc26",
   "metadata": {},
   "outputs": [
    {
     "name": "stdout",
     "output_type": "stream",
     "text": [
      "Paşa\tGönül\t2010\tKarayazı\n"
     ]
    }
   ],
   "source": [
    "print(\"Paşa\",\"Gönül\",2010,\"Karayazı\",sep='\\t',end='\\n',file=sys.stdout,flush=False)"
   ]
  },
  {
   "cell_type": "code",
   "execution_count": 7,
   "id": "918e911a-ca18-413c-a047-c21b9507e3ae",
   "metadata": {},
   "outputs": [],
   "source": [
    "import sys"
   ]
  },
  {
   "cell_type": "code",
   "execution_count": 9,
   "id": "54f6bbb3-1546-4783-b699-a2c057bd40f3",
   "metadata": {},
   "outputs": [
    {
     "name": "stdout",
     "output_type": "stream",
     "text": [
      "Help on built-in function print in module builtins:\n",
      "\n",
      "print(...)\n",
      "    print(value, ..., sep=' ', end='\\n', file=sys.stdout, flush=False)\n",
      "    \n",
      "    Prints the values to a stream, or to sys.stdout by default.\n",
      "    Optional keyword arguments:\n",
      "    file:  a file-like object (stream); defaults to the current sys.stdout.\n",
      "    sep:   string inserted between values, default a space.\n",
      "    end:   string appended after the last value, default a newline.\n",
      "    flush: whether to forcibly flush the stream.\n",
      "\n"
     ]
    }
   ],
   "source": [
    "help(print)"
   ]
  },
  {
   "cell_type": "code",
   "execution_count": 15,
   "id": "86cd0de5-10c6-49fb-a869-58cea610e4ef",
   "metadata": {},
   "outputs": [],
   "source": [
    "def sistem_bilgilerini_goster():\n",
    "    import sys\n",
    "    print(\"\\nSistemde kurul python'un;\")\n",
    "    print(\"\\tana sürüm nuumarası :\",sys.version_info.major)\n",
    "    print(\"\\talt sürüm nuumarası :\",sys.version_info.minor)\n",
    "    print(\"\\tminik sürüm nuumarası :\",sys.version_info.micro)\n",
    "    \n",
    "    print(\"İşletim isstem adı:\",sys.platform)"
   ]
  },
  {
   "cell_type": "code",
   "execution_count": 16,
   "id": "8b8fbde9-9212-42dc-a7f7-2086ff2ebedd",
   "metadata": {},
   "outputs": [
    {
     "name": "stdout",
     "output_type": "stream",
     "text": [
      "\n",
      "Sistemde kurul python'un;\n",
      "\tana sürüm nuumarası : 3\n",
      "\talt sürüm nuumarası : 9\n",
      "\tminik sürüm nuumarası : 12\n",
      "İşletim isstem adı: win32\n"
     ]
    }
   ],
   "source": [
    "sistem_bilgilerini_goster()"
   ]
  },
  {
   "cell_type": "code",
   "execution_count": 18,
   "id": "de5386ca-3ef7-47c2-9dde-74d7bb3309e7",
   "metadata": {},
   "outputs": [
    {
     "data": {
      "text/plain": [
       "'3.9.12 (main, Apr  4 2022, 05:22:27) [MSC v.1916 64 bit (AMD64)]'"
      ]
     },
     "execution_count": 18,
     "metadata": {},
     "output_type": "execute_result"
    }
   ],
   "source": [
    "import sys\n",
    "sys.version"
   ]
  },
  {
   "cell_type": "code",
   "execution_count": 28,
   "id": "0685b323-8108-41fe-9f89-a359b07b8b36",
   "metadata": {},
   "outputs": [
    {
     "data": {
      "text/plain": [
       "14.101419947171719"
      ]
     },
     "execution_count": 28,
     "metadata": {},
     "output_type": "execute_result"
    }
   ],
   "source": [
    "tan(1.5)"
   ]
  },
  {
   "cell_type": "code",
   "execution_count": 19,
   "id": "c2909f54-8a3e-4c54-8b54-20ce7317ba74",
   "metadata": {},
   "outputs": [],
   "source": [
    "import math"
   ]
  },
  {
   "cell_type": "code",
   "execution_count": 20,
   "id": "232ce02f-4c67-4e97-8821-f79f43d5ea0f",
   "metadata": {},
   "outputs": [
    {
     "data": {
      "text/plain": [
       "['__doc__',\n",
       " '__loader__',\n",
       " '__name__',\n",
       " '__package__',\n",
       " '__spec__',\n",
       " 'acos',\n",
       " 'acosh',\n",
       " 'asin',\n",
       " 'asinh',\n",
       " 'atan',\n",
       " 'atan2',\n",
       " 'atanh',\n",
       " 'ceil',\n",
       " 'comb',\n",
       " 'copysign',\n",
       " 'cos',\n",
       " 'cosh',\n",
       " 'degrees',\n",
       " 'dist',\n",
       " 'e',\n",
       " 'erf',\n",
       " 'erfc',\n",
       " 'exp',\n",
       " 'expm1',\n",
       " 'fabs',\n",
       " 'factorial',\n",
       " 'floor',\n",
       " 'fmod',\n",
       " 'frexp',\n",
       " 'fsum',\n",
       " 'gamma',\n",
       " 'gcd',\n",
       " 'hypot',\n",
       " 'inf',\n",
       " 'isclose',\n",
       " 'isfinite',\n",
       " 'isinf',\n",
       " 'isnan',\n",
       " 'isqrt',\n",
       " 'lcm',\n",
       " 'ldexp',\n",
       " 'lgamma',\n",
       " 'log',\n",
       " 'log10',\n",
       " 'log1p',\n",
       " 'log2',\n",
       " 'modf',\n",
       " 'nan',\n",
       " 'nextafter',\n",
       " 'perm',\n",
       " 'pi',\n",
       " 'pow',\n",
       " 'prod',\n",
       " 'radians',\n",
       " 'remainder',\n",
       " 'sin',\n",
       " 'sinh',\n",
       " 'sqrt',\n",
       " 'tan',\n",
       " 'tanh',\n",
       " 'tau',\n",
       " 'trunc',\n",
       " 'ulp']"
      ]
     },
     "execution_count": 20,
     "metadata": {},
     "output_type": "execute_result"
    }
   ],
   "source": [
    "dir(math)"
   ]
  },
  {
   "cell_type": "code",
   "execution_count": 21,
   "id": "238422c2-ea6a-421d-b5f6-62d458ce75ab",
   "metadata": {},
   "outputs": [
    {
     "data": {
      "text/plain": [
       "120"
      ]
     },
     "execution_count": 21,
     "metadata": {},
     "output_type": "execute_result"
    }
   ],
   "source": [
    "math.factorial(5)"
   ]
  },
  {
   "cell_type": "code",
   "execution_count": 23,
   "id": "c8e51f5d-0ee5-41d8-a41c-c207e374e50e",
   "metadata": {},
   "outputs": [],
   "source": [
    "from math import *"
   ]
  },
  {
   "cell_type": "code",
   "execution_count": 24,
   "id": "9259334c-08e6-4004-8015-b625038fb8fb",
   "metadata": {},
   "outputs": [
    {
     "data": {
      "text/plain": [
       "120"
      ]
     },
     "execution_count": 24,
     "metadata": {},
     "output_type": "execute_result"
    }
   ],
   "source": [
    "factorial(5)"
   ]
  },
  {
   "cell_type": "code",
   "execution_count": 25,
   "id": "4ff44340-c762-454a-8ceb-fad694276f5a",
   "metadata": {},
   "outputs": [
    {
     "data": {
      "text/plain": [
       "14.101419947171719"
      ]
     },
     "execution_count": 25,
     "metadata": {},
     "output_type": "execute_result"
    }
   ],
   "source": [
    "tan(1.5)"
   ]
  },
  {
   "cell_type": "code",
   "execution_count": 26,
   "id": "ee4b8bd4-4402-428b-a073-b1a18ca203fc",
   "metadata": {},
   "outputs": [],
   "source": [
    "from math import factorial as f"
   ]
  },
  {
   "cell_type": "code",
   "execution_count": 27,
   "id": "981b26a2-982e-4086-827b-80f2751b7817",
   "metadata": {},
   "outputs": [
    {
     "data": {
      "text/plain": [
       "120"
      ]
     },
     "execution_count": 27,
     "metadata": {},
     "output_type": "execute_result"
    }
   ],
   "source": [
    "f(5)"
   ]
  },
  {
   "cell_type": "code",
   "execution_count": 29,
   "id": "ce42e76a-e297-4fbb-815c-e52b7cc4fd5e",
   "metadata": {},
   "outputs": [],
   "source": [
    "def faktoriyel(x):\n",
    "    f=1\n",
    "    for i in range(2,x+1):\n",
    "        f = f*i\n",
    "    print(f)"
   ]
  },
  {
   "cell_type": "code",
   "execution_count": 30,
   "id": "7a70db53-0b06-4ac7-882c-4fee98fc9ddb",
   "metadata": {},
   "outputs": [
    {
     "name": "stdout",
     "output_type": "stream",
     "text": [
      "120\n"
     ]
    }
   ],
   "source": [
    "faktoriyel(5)"
   ]
  },
  {
   "cell_type": "code",
   "execution_count": 31,
   "id": "03c98d16-e775-4ebe-8a32-f25b31568955",
   "metadata": {},
   "outputs": [
    {
     "data": {
      "text/plain": [
       "120"
      ]
     },
     "execution_count": 31,
     "metadata": {},
     "output_type": "execute_result"
    }
   ],
   "source": [
    "a=f(5)\n",
    "a"
   ]
  },
  {
   "cell_type": "code",
   "execution_count": 34,
   "id": "c9087b58-cb31-4de8-acc1-c6dce9bb6d0f",
   "metadata": {},
   "outputs": [
    {
     "name": "stdout",
     "output_type": "stream",
     "text": [
      "120\n"
     ]
    }
   ],
   "source": [
    "b=faktoriyel(5)"
   ]
  },
  {
   "cell_type": "code",
   "execution_count": 36,
   "id": "0d37b180-5c29-4c5f-82f7-f0fe98035423",
   "metadata": {},
   "outputs": [],
   "source": [
    "def faktoriyel(x):\n",
    "    f=1\n",
    "    for i in range(2,x+1):\n",
    "        f = f*i\n",
    "    return f"
   ]
  },
  {
   "cell_type": "code",
   "execution_count": 40,
   "id": "e8718673-81b5-48ba-ae3a-5213f072b79b",
   "metadata": {},
   "outputs": [
    {
     "data": {
      "text/plain": [
       "1"
      ]
     },
     "execution_count": 40,
     "metadata": {},
     "output_type": "execute_result"
    }
   ],
   "source": [
    "faktoriyel(0)"
   ]
  },
  {
   "cell_type": "code",
   "execution_count": 38,
   "id": "b8179af7-eb6e-4c80-b8b1-3688443710fd",
   "metadata": {},
   "outputs": [
    {
     "data": {
      "text/plain": [
       "120"
      ]
     },
     "execution_count": 38,
     "metadata": {},
     "output_type": "execute_result"
    }
   ],
   "source": [
    "b"
   ]
  },
  {
   "cell_type": "code",
   "execution_count": null,
   "id": "2aa157b4-49ef-4447-a96c-ad6e013cf51f",
   "metadata": {},
   "outputs": [],
   "source": []
  },
  {
   "attachments": {
    "36ab3f92-1f19-48c0-887f-cd26cda76b96.png": {
     "image/png": "[encoded data removed]"
    }
   },
   "cell_type": "markdown",
   "id": "08d64ea8-300e-4b85-97ae-56063e8ce38b",
   "metadata": {},
   "source": [
    "![image.png](attachment:36ab3f92-1f19-48c0-887f-cd26cda76b96.png)"
   ]
  },
  {
   "attachments": {
    "4e847d84-7c26-436e-869d-a3d2cefed9b3.png": {
     "image/png": "[encoded data removed]"
    }
   },
   "cell_type": "markdown",
   "id": "95838639-a6ef-4b3d-89ed-2745d118df58",
   "metadata": {},
   "source": [
    "![image.png](attachment:4e847d84-7c26-436e-869d-a3d2cefed9b3.png)"
   ]
  },
  {
   "cell_type": "code",
   "execution_count": 41,
   "id": "069dfe6d-4eb3-479e-97c3-f4fcbd56b342",
   "metadata": {},
   "outputs": [
    {
     "name": "stdin",
     "output_type": "stream",
     "text": [
      "x değerini gir : 1.57\n"
     ]
    },
    {
     "name": "stdout",
     "output_type": "stream",
     "text": [
      "Sinus =  1.0000032058668369\n"
     ]
    }
   ],
   "source": [
    "x=float(input(\"x değerini gir :\"))\n",
    "sinus = 0; isaret =1\n",
    "for i in range(1,10,2):\n",
    "    sinus = sinus +isaret*x**i/faktoriyel(i)\n",
    "    isaret=isaret*(-1)\n",
    "print(\"Sinus = \",sinus)"
   ]
  },
  {
   "cell_type": "code",
   "execution_count": 43,
   "id": "d94953fb-138f-490b-a3f1-1d724014c264",
   "metadata": {},
   "outputs": [
    {
     "data": {
      "text/plain": [
       "0.9999996829318346"
      ]
     },
     "execution_count": 43,
     "metadata": {},
     "output_type": "execute_result"
    }
   ],
   "source": [
    "math.sin(1.57)"
   ]
  },
  {
   "cell_type": "code",
   "execution_count": 44,
   "id": "f58b9caf-59fb-4fa3-ae4c-327b473aac34",
   "metadata": {},
   "outputs": [],
   "source": [
    "def kayit(isim, soyisim,d_tar, sehir):\n",
    "    print(\"-\"*30)\n",
    "    \n",
    "    print(\"isim      :\", isim)\n",
    "    print(\"soyisim   :\",soyisim)\n",
    "    print(\"d_tar     :\", d_tar)\n",
    "    print(\"sehir     :\",sehir)\n",
    "    \n",
    "    print(\"-\"*30)"
   ]
  },
  {
   "cell_type": "code",
   "execution_count": 46,
   "id": "b0797fbf-660a-456d-afc8-1a640633ca36",
   "metadata": {},
   "outputs": [
    {
     "name": "stdout",
     "output_type": "stream",
     "text": [
      "------------------------------\n",
      "isim      : Şakir\n",
      "soyisim   : Karabiber\n",
      "d_tar     : 2005\n",
      "sehir     : Manisa\n",
      "------------------------------\n"
     ]
    }
   ],
   "source": [
    "kayit(\"Şakir\",\"Karabiber\",2005, \"Manisa\")"
   ]
  },
  {
   "cell_type": "code",
   "execution_count": 47,
   "id": "58ad40a0-f7b3-4cc8-97a9-1d618d41cb4f",
   "metadata": {},
   "outputs": [
    {
     "ename": "TypeError",
     "evalue": "kayit() missing 1 required positional argument: 'sehir'",
     "output_type": "error",
     "traceback": [
      "\u001b[1;31m---------------------------------------------------------------------------\u001b[0m",
      "\u001b[1;31mTypeError\u001b[0m                                 Traceback (most recent call last)",
      "Input \u001b[1;32mIn [47]\u001b[0m, in \u001b[0;36m<cell line: 1>\u001b[1;34m()\u001b[0m\n\u001b[1;32m----> 1\u001b[0m \u001b[43mkayit\u001b[49m\u001b[43m(\u001b[49m\u001b[38;5;124;43m\"\u001b[39;49m\u001b[38;5;124;43mŞakir\u001b[39;49m\u001b[38;5;124;43m\"\u001b[39;49m\u001b[43m,\u001b[49m\u001b[38;5;124;43m\"\u001b[39;49m\u001b[38;5;124;43mKarabiber\u001b[39;49m\u001b[38;5;124;43m\"\u001b[39;49m\u001b[43m,\u001b[49m\u001b[38;5;124;43m\"\u001b[39;49m\u001b[38;5;124;43mManisa\u001b[39;49m\u001b[38;5;124;43m\"\u001b[39;49m\u001b[43m)\u001b[49m\n",
      "\u001b[1;31mTypeError\u001b[0m: kayit() missing 1 required positional argument: 'sehir'"
     ]
    }
   ],
   "source": [
    "kayit(\"Şakir\",\"Karabiber\",\"Manisa\")"
   ]
  },
  {
   "cell_type": "code",
   "execution_count": 48,
   "id": "fd1a0d81-5119-4a6b-bf11-e33cdf012471",
   "metadata": {},
   "outputs": [
    {
     "name": "stdout",
     "output_type": "stream",
     "text": [
      "------------------------------\n",
      "isim      : Şakir\n",
      "soyisim   : Karabiber\n",
      "d_tar     : 2005\n",
      "sehir     : Manisa\n",
      "------------------------------\n"
     ]
    }
   ],
   "source": [
    "kayit(isim=\"Şakir\",soyisim=\"Karabiber\",d_tar =2005,sehir= \"Manisa\")"
   ]
  },
  {
   "cell_type": "code",
   "execution_count": 51,
   "id": "59e40c18-c613-48a0-b3a3-94bd8e435bb6",
   "metadata": {
    "collapsed": true,
    "jupyter": {
     "outputs_hidden": true
    },
    "tags": []
   },
   "outputs": [
    {
     "name": "stdout",
     "output_type": "stream",
     "text": [
      "------------------------------\n",
      "isim      : Manisa\n",
      "soyisim   : Şakir\n",
      "d_tar     : 2005\n",
      "sehir     : Karabiber\n",
      "------------------------------\n"
     ]
    }
   ],
   "source": [
    "kayit(\"Manisa\",\"Şakir\",2005,\"Karabiber\")"
   ]
  },
  {
   "cell_type": "code",
   "execution_count": 50,
   "id": "972b8b8f-77e1-45fe-8977-98bd80997b2d",
   "metadata": {},
   "outputs": [
    {
     "ename": "SyntaxError",
     "evalue": "positional argument follows keyword argument (3767319484.py, line 1)",
     "output_type": "error",
     "traceback": [
      "\u001b[1;36m  Input \u001b[1;32mIn [50]\u001b[1;36m\u001b[0m\n\u001b[1;33m    kayit(isim=\"Şakir\",\"Karabiber\",2005,\"Manisa\")\u001b[0m\n\u001b[1;37m                                                ^\u001b[0m\n\u001b[1;31mSyntaxError\u001b[0m\u001b[1;31m:\u001b[0m positional argument follows keyword argument\n"
     ]
    }
   ],
   "source": [
    "kayit(isim=\"Şakir\",\"Karabiber\",2005,\"Manisa\")"
   ]
  },
  {
   "cell_type": "code",
   "execution_count": 56,
   "id": "e3220da3-8831-4828-b9f7-bb34157f6737",
   "metadata": {},
   "outputs": [],
   "source": [
    "def kayit(d_tar, sehir, isim=\"Yeter\",soyisim = \"Yok\"):\n",
    "    print(\"-\"*30)\n",
    "    \n",
    "    print(\"isim      :\", isim)\n",
    "    print(\"soyisim   :\",soyisim)\n",
    "    print(\"d_tar     :\", d_tar)\n",
    "    print(\"sehir     :\",sehir)\n",
    "    \n",
    "    print(\"-\"*30)"
   ]
  },
  {
   "cell_type": "code",
   "execution_count": 58,
   "id": "78b70693-3b90-4fad-ad56-ecafbaa20dd1",
   "metadata": {},
   "outputs": [
    {
     "name": "stdout",
     "output_type": "stream",
     "text": [
      "------------------------------\n",
      "isim      : Şahin\n",
      "soyisim   : Yok\n",
      "d_tar     : 2005\n",
      "sehir     : Rize\n",
      "------------------------------\n"
     ]
    }
   ],
   "source": [
    "kayit(2005,\"Rize\",\"Şahin\",)"
   ]
  },
  {
   "cell_type": "markdown",
   "id": "ba63a4dc-1940-400a-bb42-0f0f0af54b09",
   "metadata": {},
   "source": [
    "## Rastgele isimsiz parametre"
   ]
  },
  {
   "cell_type": "code",
   "execution_count": 59,
   "id": "0728d559-b4dc-4643-a8d1-dd146921d411",
   "metadata": {},
   "outputs": [
    {
     "name": "stdout",
     "output_type": "stream",
     "text": [
      "A,l,i\n"
     ]
    }
   ],
   "source": [
    "print(*\"Ali\",sep=',')"
   ]
  },
  {
   "cell_type": "code",
   "execution_count": 60,
   "id": "30334127-e83b-4e96-b552-ea6dac0a479c",
   "metadata": {},
   "outputs": [],
   "source": [
    "def fonksyion(*args): # args 256 değer alabilir\n",
    "    print(args)"
   ]
  },
  {
   "cell_type": "code",
   "execution_count": 64,
   "id": "a1a6d124-0d48-4c90-a1fa-ea70fde4ea68",
   "metadata": {},
   "outputs": [
    {
     "name": "stdout",
     "output_type": "stream",
     "text": [
      "8\n"
     ]
    }
   ],
   "source": [
    "fonksyion(1,2,3,4,5,6,7,8)"
   ]
  },
  {
   "cell_type": "code",
   "execution_count": 63,
   "id": "bc0a0319-0c1f-4d7f-aa18-af7010448287",
   "metadata": {},
   "outputs": [],
   "source": [
    "def fonksyion(*args): # args 256 değer alabilir\n",
    "    print(max(args))"
   ]
  },
  {
   "cell_type": "code",
   "execution_count": 77,
   "id": "81deaef4-0d42-4b48-b30e-44c96d521497",
   "metadata": {},
   "outputs": [],
   "source": [
    "def eb(*args):\n",
    "    b = args[0]\n",
    "    for i in args:\n",
    "        if b<i:\n",
    "            b=i\n",
    "    return b"
   ]
  },
  {
   "cell_type": "code",
   "execution_count": 78,
   "id": "88a1d1dd-48b8-4671-92fb-131294639e99",
   "metadata": {},
   "outputs": [],
   "source": [
    "c=eb(1,5,8,9,25,87,12)"
   ]
  },
  {
   "cell_type": "code",
   "execution_count": 73,
   "id": "628fa5d6-fb10-4ebd-b035-c5b23a2bb7b2",
   "metadata": {},
   "outputs": [],
   "source": [
    "a=max((1,5,8,9,25,87,12))"
   ]
  },
  {
   "cell_type": "code",
   "execution_count": 79,
   "id": "20726cc1-e1fb-48ab-94c5-3c97f04db385",
   "metadata": {},
   "outputs": [
    {
     "data": {
      "text/plain": [
       "87"
      ]
     },
     "execution_count": 79,
     "metadata": {},
     "output_type": "execute_result"
    }
   ],
   "source": [
    "c"
   ]
  },
  {
   "cell_type": "markdown",
   "id": "5d5a5a06-5903-4390-b7f0-0cf9e78115d9",
   "metadata": {},
   "source": [
    "# Rastgele sayıda isimli parametre"
   ]
  },
  {
   "cell_type": "code",
   "execution_count": 80,
   "id": "f227a3c6-7af9-4844-bd12-bbd3fb82cc80",
   "metadata": {},
   "outputs": [],
   "source": [
    "def kayit(**kwargs):\n",
    "    print(kwargs)"
   ]
  },
  {
   "cell_type": "code",
   "execution_count": 81,
   "id": "4c2a73ae-06df-4343-822b-81547627a2f7",
   "metadata": {},
   "outputs": [
    {
     "name": "stdout",
     "output_type": "stream",
     "text": [
      "{'isim': 'Ahmet', 'soyisim': 'Öz', 'meslek': 'Öğretmen', 'sehir': 'Ankara'}\n"
     ]
    }
   ],
   "source": [
    "kayit(isim=\"Ahmet\", soyisim=\"Öz\",meslek= \"Öğretmen\", sehir =\"Ankara\")"
   ]
  },
  {
   "cell_type": "code",
   "execution_count": 82,
   "id": "28a6cd32-74be-4cfd-92f0-3f7b560772ad",
   "metadata": {},
   "outputs": [],
   "source": [
    "def kayit(**kwargs):\n",
    "    for i in kwargs:\n",
    "        print(i,kwargs[i])\n",
    "   "
   ]
  },
  {
   "cell_type": "code",
   "execution_count": 83,
   "id": "e40741d6-9c9c-4ae9-96e0-8d0e4c19ccb2",
   "metadata": {},
   "outputs": [
    {
     "name": "stdout",
     "output_type": "stream",
     "text": [
      "isim Ahmet\n",
      "soyisim Öz\n",
      "meslek Öğretmen\n",
      "sehir Ankara\n"
     ]
    }
   ],
   "source": [
    "kayit(isim=\"Ahmet\", soyisim=\"Öz\",meslek= \"Öğretmen\", sehir =\"Ankara\")"
   ]
  },
  {
   "cell_type": "code",
   "execution_count": 84,
   "id": "74caa0ce-082d-482f-8959-622f315b7cb6",
   "metadata": {},
   "outputs": [],
   "source": [
    "def kayit(**kwargs):\n",
    "    for i in kwargs:\n",
    "        print(f\"{i:10.8} : {kwargs[i]:.10}\")"
   ]
  },
  {
   "cell_type": "code",
   "execution_count": 90,
   "id": "42634594-ba70-4de5-84bb-c4a33a308f0f",
   "metadata": {},
   "outputs": [],
   "source": [
    "kwar={\"isim\":\"Ahmet\",\n",
    "      \"Soyisim\":\"Öz\"}"
   ]
  },
  {
   "cell_type": "code",
   "execution_count": 93,
   "id": "68aa64b2-8a72-4fa3-aa4a-98bc7c59c0e8",
   "metadata": {},
   "outputs": [
    {
     "data": {
      "text/plain": [
       "'Ahmet'"
      ]
     },
     "execution_count": 93,
     "metadata": {},
     "output_type": "execute_result"
    }
   ],
   "source": [
    "kwar[\"isim\"]"
   ]
  },
  {
   "cell_type": "code",
   "execution_count": 87,
   "id": "370e6a23-f251-4603-a520-da3c4666b777",
   "metadata": {},
   "outputs": [
    {
     "name": "stdout",
     "output_type": "stream",
     "text": [
      "isim       : Ahmet\n",
      "soyisim    : Öz\n",
      "meslek     : Öğretmen\n",
      "sehir      : Ankara\n"
     ]
    }
   ],
   "source": [
    "kayit(isim=\"Ahmet\", soyisim=\"Öz\",meslek= \"Öğretmen\", sehir =\"Ankara\")"
   ]
  },
  {
   "cell_type": "code",
   "execution_count": 88,
   "id": "2c746181-573e-4a3d-9792-335772ea1473",
   "metadata": {},
   "outputs": [],
   "source": [
    "def kayit(**kwargs):\n",
    "    for i,j in kwargs.items():\n",
    "        print(f\"{i:10.8} : {j}\")"
   ]
  },
  {
   "cell_type": "code",
   "execution_count": 89,
   "id": "a1dcad06-9031-4cf9-81fd-a4922800b26e",
   "metadata": {},
   "outputs": [
    {
     "name": "stdout",
     "output_type": "stream",
     "text": [
      "isim       : Ahmet\n",
      "soyisim    : Öz\n",
      "meslek     : Öğretmen\n",
      "sehir      : Ankara\n"
     ]
    }
   ],
   "source": [
    "kayit(isim=\"Ahmet\", soyisim=\"Öz\",meslek= \"Öğretmen\", sehir =\"Ankara\")"
   ]
  },
  {
   "cell_type": "code",
   "execution_count": 97,
   "id": "ed5af142-d59b-46e6-a036-a08ed7813a4e",
   "metadata": {},
   "outputs": [],
   "source": [
    "def karsilik_bul(*args,**kwargs):\n",
    "    for sozcuk in args:\n",
    "        if sozcuk in kwargs:\n",
    "            print(\"{} = {} \".format(sozcuk,kwargs[sozcuk]))\n",
    "        else:\n",
    "            print(\"{} kelimesi sözlükte yoktur!\".format(sozcuk))\n",
    "\n",
    "sozluk =  {\"kitap\"  : \"book\",\n",
    "           \"bilgisayar\" : \"computer\",\n",
    "          \" programlama\" : \"programming\",\n",
    "          \"beş\" : \"five\"\n",
    "          }      "
   ]
  },
  {
   "cell_type": "code",
   "execution_count": 98,
   "id": "83c067f1-8f93-45ab-a3dd-60056edc4870",
   "metadata": {},
   "outputs": [
    {
     "name": "stdout",
     "output_type": "stream",
     "text": [
      "kitap = book \n",
      "bilgisayar = computer \n",
      "beş = five \n"
     ]
    }
   ],
   "source": [
    "karsilik_bul(\"kitap\",\"bilgisayar\",\"beş\",**sozluk)"
   ]
  },
  {
   "cell_type": "code",
   "execution_count": 102,
   "id": "182cb58c-87de-4521-af33-3c8c952de6a4",
   "metadata": {},
   "outputs": [
    {
     "name": "stdout",
     "output_type": "stream",
     "text": [
      "kitap = book \n"
     ]
    }
   ],
   "source": [
    "karsilik_bul(\"kitap\",kitap=\"book\")"
   ]
  },
  {
   "cell_type": "code",
   "execution_count": 103,
   "id": "72af72a4-9c8c-48b3-9d36-88b8a1b0370c",
   "metadata": {},
   "outputs": [],
   "source": [
    "def eb(*args):\n",
    "    b = args[0]\n",
    "    for i in args:\n",
    "        if b<i:\n",
    "            b=i\n",
    "    print(b)"
   ]
  },
  {
   "cell_type": "code",
   "execution_count": 105,
   "id": "d95cf325-6b7b-4949-abf8-962cb99670f1",
   "metadata": {},
   "outputs": [
    {
     "name": "stdout",
     "output_type": "stream",
     "text": [
      "987\n"
     ]
    }
   ],
   "source": [
    "s=eb(25,78,25,1,0,987)"
   ]
  },
  {
   "cell_type": "code",
   "execution_count": 115,
   "id": "c2a02195-a205-465e-86ea-a06b8d47fea7",
   "metadata": {},
   "outputs": [],
   "source": [
    "def eb(*args):\n",
    "    baba = args[0]\n",
    "    for i in args:\n",
    "        if baba<i:\n",
    "            baba=i\n",
    "    print(baba)"
   ]
  },
  {
   "cell_type": "code",
   "execution_count": 116,
   "id": "aa6991da-c66b-432b-bb84-49f4ed79b983",
   "metadata": {},
   "outputs": [
    {
     "name": "stdout",
     "output_type": "stream",
     "text": [
      "987\n"
     ]
    }
   ],
   "source": [
    "eb(25,78,25,1,0,987)"
   ]
  },
  {
   "cell_type": "code",
   "execution_count": 117,
   "id": "13884a3f-852e-42b5-8aca-7fc8fdc5d296",
   "metadata": {},
   "outputs": [
    {
     "ename": "NameError",
     "evalue": "name 'baba' is not defined",
     "output_type": "error",
     "traceback": [
      "\u001b[1;31m---------------------------------------------------------------------------\u001b[0m",
      "\u001b[1;31mNameError\u001b[0m                                 Traceback (most recent call last)",
      "Input \u001b[1;32mIn [117]\u001b[0m, in \u001b[0;36m<cell line: 1>\u001b[1;34m()\u001b[0m\n\u001b[1;32m----> 1\u001b[0m \u001b[43mbaba\u001b[49m\n",
      "\u001b[1;31mNameError\u001b[0m: name 'baba' is not defined"
     ]
    }
   ],
   "source": [
    "baba"
   ]
  },
  {
   "cell_type": "markdown",
   "id": "57f7de8c-20b7-4bd3-a454-01bf6eaf3ba6",
   "metadata": {},
   "source": [
    "## Global değimi"
   ]
  },
  {
   "cell_type": "code",
   "execution_count": 8,
   "id": "69cbe692-af1a-49d7-8a23-27e10aca1cd1",
   "metadata": {},
   "outputs": [],
   "source": [
    "a=55\n",
    "def deneme(x,y):\n",
    "    return x+y+a"
   ]
  },
  {
   "cell_type": "code",
   "execution_count": 9,
   "id": "fb872db1-aae0-4c60-9e25-6b2bfbefecf1",
   "metadata": {},
   "outputs": [
    {
     "data": {
      "text/plain": [
       "66"
      ]
     },
     "execution_count": 9,
     "metadata": {},
     "output_type": "execute_result"
    }
   ],
   "source": [
    "b=deneme(5,6)\n",
    "b"
   ]
  },
  {
   "cell_type": "code",
   "execution_count": 10,
   "id": "bb284c80-efc9-4b56-88ea-5d741263a798",
   "metadata": {},
   "outputs": [],
   "source": [
    "a=55\n",
    "def deneme(x,y):\n",
    "    a=25\n",
    "    return x+y+a"
   ]
  },
  {
   "cell_type": "code",
   "execution_count": 11,
   "id": "1e279716-7afa-479f-8b0b-f2d49a67fdd8",
   "metadata": {},
   "outputs": [
    {
     "data": {
      "text/plain": [
       "36"
      ]
     },
     "execution_count": 11,
     "metadata": {},
     "output_type": "execute_result"
    }
   ],
   "source": [
    "b=deneme(5,6)\n",
    "b"
   ]
  },
  {
   "cell_type": "code",
   "execution_count": 12,
   "id": "0108df0b-4478-4fa6-b29a-e343dd7e9804",
   "metadata": {},
   "outputs": [
    {
     "data": {
      "text/plain": [
       "55"
      ]
     },
     "execution_count": 12,
     "metadata": {},
     "output_type": "execute_result"
    }
   ],
   "source": [
    "a"
   ]
  },
  {
   "cell_type": "code",
   "execution_count": 13,
   "id": "06ec1e62-8d5e-461f-9460-88e264cc1715",
   "metadata": {},
   "outputs": [],
   "source": [
    "x=set()\n",
    "def fonk():\n",
    "    x.add(10)\n",
    "    return x"
   ]
  },
  {
   "cell_type": "code",
   "execution_count": 14,
   "id": "541bd5c6-71ce-4aa5-a837-bab8b44f00ae",
   "metadata": {},
   "outputs": [
    {
     "name": "stdout",
     "output_type": "stream",
     "text": [
      "{10}\n"
     ]
    }
   ],
   "source": [
    "print(fonk())"
   ]
  },
  {
   "cell_type": "code",
   "execution_count": 16,
   "id": "eaa34411-47b9-488f-b559-a1ef3f1d0910",
   "metadata": {},
   "outputs": [
    {
     "data": {
      "text/plain": [
       "'Trabi  Özgül'"
      ]
     },
     "execution_count": 16,
     "metadata": {},
     "output_type": "execute_result"
    }
   ],
   "source": [
    "isim='Turabi'\n",
    "isim += '  Özgül'\n",
    "#isim.add('Özgül')\n",
    "isim"
   ]
  },
  {
   "cell_type": "code",
   "execution_count": 17,
   "id": "5d8be979-8489-4bb9-9f93-1448c6d4f39e",
   "metadata": {},
   "outputs": [
    {
     "ename": "UnboundLocalError",
     "evalue": "local variable 'isim' referenced before assignment",
     "output_type": "error",
     "traceback": [
      "\u001b[1;31m---------------------------------------------------------------------------\u001b[0m",
      "\u001b[1;31mUnboundLocalError\u001b[0m                         Traceback (most recent call last)",
      "Input \u001b[1;32mIn [17]\u001b[0m, in \u001b[0;36m<cell line: 6>\u001b[1;34m()\u001b[0m\n\u001b[0;32m      3\u001b[0m     isim \u001b[38;5;241m+\u001b[39m\u001b[38;5;241m=\u001b[39m \u001b[38;5;124m'\u001b[39m\u001b[38;5;124m  Özgül\u001b[39m\u001b[38;5;124m'\u001b[39m\n\u001b[0;32m      4\u001b[0m     \u001b[38;5;28;01mreturn\u001b[39;00m isim\n\u001b[1;32m----> 6\u001b[0m \u001b[38;5;28mprint\u001b[39m(\u001b[43mfonk\u001b[49m\u001b[43m(\u001b[49m\u001b[43m)\u001b[49m)\n",
      "Input \u001b[1;32mIn [17]\u001b[0m, in \u001b[0;36mfonk\u001b[1;34m()\u001b[0m\n\u001b[0;32m      2\u001b[0m \u001b[38;5;28;01mdef\u001b[39;00m \u001b[38;5;21mfonk\u001b[39m():\n\u001b[1;32m----> 3\u001b[0m     isim \u001b[38;5;241m+\u001b[39m\u001b[38;5;241m=\u001b[39m \u001b[38;5;124m'\u001b[39m\u001b[38;5;124m  Özgül\u001b[39m\u001b[38;5;124m'\u001b[39m\n\u001b[0;32m      4\u001b[0m     \u001b[38;5;28;01mreturn\u001b[39;00m isim\n",
      "\u001b[1;31mUnboundLocalError\u001b[0m: local variable 'isim' referenced before assignment"
     ]
    }
   ],
   "source": [
    "isim = 'Turabi'\n",
    "def fonk():\n",
    "    isim += '  Özgül'\n",
    "    return isim\n",
    "\n",
    "print(fonk())    "
   ]
  },
  {
   "cell_type": "code",
   "execution_count": 18,
   "id": "66d9d7e2-3d2a-47c1-9fa5-f3f12533edf4",
   "metadata": {},
   "outputs": [
    {
     "name": "stdout",
     "output_type": "stream",
     "text": [
      "Turabi  Özgül\n"
     ]
    }
   ],
   "source": [
    "isim = 'Turabi'\n",
    "def fonk():\n",
    "    global isim\n",
    "    isim += '  Özgül'\n",
    "    return isim\n",
    "\n",
    "print(fonk())  "
   ]
  },
  {
   "cell_type": "code",
   "execution_count": 19,
   "id": "caa2214f-968c-4a39-a114-f5c0a0e25bed",
   "metadata": {},
   "outputs": [],
   "source": [
    "def deneme(x,y):\n",
    "    f=25\n",
    "    return x+y+f"
   ]
  },
  {
   "cell_type": "code",
   "execution_count": 20,
   "id": "c7e76664-b387-4dcf-8f5b-d0b0ab9dfc94",
   "metadata": {},
   "outputs": [
    {
     "data": {
      "text/plain": [
       "55"
      ]
     },
     "execution_count": 20,
     "metadata": {},
     "output_type": "execute_result"
    }
   ],
   "source": [
    "deneme(10,20)"
   ]
  },
  {
   "cell_type": "code",
   "execution_count": 21,
   "id": "c18d6e5f-7708-49e6-8bc3-dfaa43c5b685",
   "metadata": {},
   "outputs": [
    {
     "ename": "NameError",
     "evalue": "name 'f' is not defined",
     "output_type": "error",
     "traceback": [
      "\u001b[1;31m---------------------------------------------------------------------------\u001b[0m",
      "\u001b[1;31mNameError\u001b[0m                                 Traceback (most recent call last)",
      "Input \u001b[1;32mIn [21]\u001b[0m, in \u001b[0;36m<cell line: 1>\u001b[1;34m()\u001b[0m\n\u001b[1;32m----> 1\u001b[0m \u001b[43mf\u001b[49m\n",
      "\u001b[1;31mNameError\u001b[0m: name 'f' is not defined"
     ]
    }
   ],
   "source": [
    "f"
   ]
  },
  {
   "cell_type": "code",
   "execution_count": 24,
   "id": "8868d8e2-8c4a-4922-84c6-db957103e949",
   "metadata": {},
   "outputs": [],
   "source": [
    "def deneme(x,y):\n",
    "    global f\n",
    "    f=25\n",
    "    return x+y+f"
   ]
  },
  {
   "cell_type": "code",
   "execution_count": 25,
   "id": "e5af789b-5c2a-45ab-99ed-36f72fa881f8",
   "metadata": {},
   "outputs": [
    {
     "data": {
      "text/plain": [
       "55"
      ]
     },
     "execution_count": 25,
     "metadata": {},
     "output_type": "execute_result"
    }
   ],
   "source": [
    "deneme(10,20)"
   ]
  },
  {
   "cell_type": "code",
   "execution_count": 26,
   "id": "2107f59a-6b01-42a4-8f93-6e5106dfeeed",
   "metadata": {},
   "outputs": [
    {
     "data": {
      "text/plain": [
       "25"
      ]
     },
     "execution_count": 26,
     "metadata": {},
     "output_type": "execute_result"
    }
   ],
   "source": [
    "##########################################\n",
    "#~~~~~~~~~~~~~~~~~~~~~~~~~~~~~~~~~~~~~~~~#\n",
    "#                                        #\n",
    "#             Keramet Subaşı             #\n",
    "#                                        #\n",
    "#~~~~~~~~~~~~~~~~~~~~~~~~~~~~~~~~~~~~~~~~#\n",
    "##########################################"
   ]
  },
  {
   "cell_type": "markdown",
   "id": "4f24475a-5034-45ef-ae92-a6d55ebbb93b",
   "metadata": {},
   "source": [
    "# eval() ve exec() "
   ]
  },
  {
   "cell_type": "code",
   "execution_count": 28,
   "id": "00cd31c0-943c-4ac2-9b55-d5bc80c01c18",
   "metadata": {},
   "outputs": [],
   "source": [
    "ocak=mart=mayis=temmuz=31\n",
    "nisan=haziran=30\n",
    "subat=28"
   ]
  },
  {
   "cell_type": "code",
   "execution_count": 29,
   "id": "0f7614bd-3387-4ff3-b858-cc4c371c122f",
   "metadata": {},
   "outputs": [
    {
     "name": "stdin",
     "output_type": "stream",
     "text": [
      "Hangi aa ait faturayı hesaplamak istersiniz?\n",
      "(lütfen a adını tamamı küçük harf..\n",
      ") subat\n"
     ]
    }
   ],
   "source": [
    "donem = input(\"\"\"Hangi aa ait faturayı hesaplamak istersiniz?\n",
    "(lütfen a adını tamamı küçük harf..\\n)\"\"\")"
   ]
  },
  {
   "cell_type": "code",
   "execution_count": 30,
   "id": "36c95856-c4b1-40cf-b80e-85923320304c",
   "metadata": {},
   "outputs": [
    {
     "name": "stdout",
     "output_type": "stream",
     "text": [
      "subat 28\n"
     ]
    }
   ],
   "source": [
    "ay = eval(donem)\n",
    "print(donem,ay)"
   ]
  },
  {
   "cell_type": "code",
   "execution_count": 33,
   "id": "4ff9d500-5173-4b4b-a127-a9bbef8cd785",
   "metadata": {},
   "outputs": [
    {
     "data": {
      "text/plain": [
       "'print(5)'"
      ]
     },
     "execution_count": 33,
     "metadata": {},
     "output_type": "execute_result"
    }
   ],
   "source": [
    "'print(5)'"
   ]
  },
  {
   "cell_type": "code",
   "execution_count": 34,
   "id": "30662629-85c2-445d-a282-afd8e818e0e3",
   "metadata": {},
   "outputs": [
    {
     "name": "stdout",
     "output_type": "stream",
     "text": [
      "5\n"
     ]
    }
   ],
   "source": [
    "eval('print(5)')"
   ]
  },
  {
   "cell_type": "code",
   "execution_count": 40,
   "id": "7400158d-f243-4c99-afdf-72cc06615fbf",
   "metadata": {},
   "outputs": [
    {
     "name": "stdout",
     "output_type": "stream",
     "text": [
      "\n",
      "Basit bir hesap makinesi uygulaması.\n",
      "\n",
      "İşleçler:\n",
      "\n",
      "    +   toplama\n",
      "    -   çıkarma\n",
      "    *   çarpma\n",
      "    /   bölme\n",
      "\n",
      "Yapmak istediğiniz işlemi yazıp ENTER\n",
      "tuşuna basın. (Örneğin 23 ve 46 sayılarını\n",
      "çarpmak için 23 * 46 yazdıktan sonra\n",
      "ENTER tuşuna basın.)\n",
      "\n"
     ]
    },
    {
     "name": "stdin",
     "output_type": "stream",
     "text": [
      "İşleminiz:  55+55\n"
     ]
    },
    {
     "name": "stdout",
     "output_type": "stream",
     "text": [
      "110\n"
     ]
    }
   ],
   "source": [
    "print(\"\"\"\n",
    "Basit bir hesap makinesi uygulaması.\n",
    "\n",
    "İşleçler:\n",
    "\n",
    "    +   toplama\n",
    "    -   çıkarma\n",
    "    *   çarpma\n",
    "    /   bölme\n",
    "\n",
    "Yapmak istediğiniz işlemi yazıp ENTER\n",
    "tuşuna basın. (Örneğin 23 ve 46 sayılarını\n",
    "çarpmak için 23 * 46 yazdıktan sonra\n",
    "ENTER tuşuna basın.)\n",
    "\"\"\")\n",
    "\n",
    "veri = input(\"İşleminiz: \")\n",
    "hesap = eval(veri)\n",
    "\n",
    "print(hesap)"
   ]
  },
  {
   "cell_type": "code",
   "execution_count": 39,
   "id": "711261f0-58a2-48be-858e-d7139bd76e0e",
   "metadata": {},
   "outputs": [
    {
     "name": "stdout",
     "output_type": "stream",
     "text": [
      "\n",
      "Basit bir hesap makinesi uygulaması.\n",
      "\n",
      "İşleçler:\n",
      "\n",
      "    +   toplama\n",
      "    -   çıkarma\n",
      "    *   çarpma\n",
      "    /   bölme\n",
      "\n",
      "Yapmak istediğiniz işlemi yazıp ENTER\n",
      "tuşuna basın. (Örneğin 23 ve 46 sayılarını\n",
      "çarpmak için 23 * 46 yazdıktan sonra\n",
      "ENTER tuşuna basın.)\n",
      "\n"
     ]
    },
    {
     "name": "stdin",
     "output_type": "stream",
     "text": [
      "İşleminiz:  open..\n"
     ]
    },
    {
     "name": "stdout",
     "output_type": "stream",
     "text": [
      "İşine bak!!\n"
     ]
    },
    {
     "ename": "SyntaxError",
     "evalue": "unexpected EOF while parsing (<string>, line 1)",
     "output_type": "error",
     "traceback": [
      "Traceback \u001b[1;36m(most recent call last)\u001b[0m:\n",
      "  File \u001b[0;32m~\\anaconda3\\lib\\site-packages\\IPython\\core\\interactiveshell.py:3398\u001b[0m in \u001b[0;35mrun_code\u001b[0m\n    exec(code_obj, self.user_global_ns, self.user_ns)\n",
      "\u001b[1;36m  Input \u001b[1;32mIn [39]\u001b[1;36m in \u001b[1;35m<cell line: 24>\u001b[1;36m\u001b[0m\n\u001b[1;33m    hesap = eval(veri)\u001b[0m\n",
      "\u001b[1;36m  File \u001b[1;32m<string>:1\u001b[1;36m\u001b[0m\n\u001b[1;33m    open..\u001b[0m\n\u001b[1;37m         ^\u001b[0m\n\u001b[1;31mSyntaxError\u001b[0m\u001b[1;31m:\u001b[0m unexpected EOF while parsing\n"
     ]
    }
   ],
   "source": [
    "izinler = \"1234567890+/*-\"\n",
    "print(\"\"\"\n",
    "Basit bir hesap makinesi uygulaması.\n",
    "\n",
    "İşleçler:\n",
    "\n",
    "    +   toplama\n",
    "    -   çıkarma\n",
    "    *   çarpma\n",
    "    /   bölme\n",
    "\n",
    "Yapmak istediğiniz işlemi yazıp ENTER\n",
    "tuşuna basın. (Örneğin 23 ve 46 sayılarını\n",
    "çarpmak için 23 * 46 yazdıktan sonra\n",
    "ENTER tuşuna basın.)\n",
    "\"\"\")\n",
    "\n",
    "veri = input(\"İşleminiz: \")\n",
    "for s in veri:\n",
    "    if s not in izinler:\n",
    "        print(\"İşine bak!!\")\n",
    "        break\n",
    "\n",
    "hesap = eval(veri)\n",
    "\n",
    "print(hesap)"
   ]
  },
  {
   "cell_type": "code",
   "execution_count": 41,
   "id": "3c6fded8-a31a-4430-b9f3-6a57530c710d",
   "metadata": {},
   "outputs": [
    {
     "ename": "SyntaxError",
     "evalue": "invalid syntax (<string>, line 1)",
     "output_type": "error",
     "traceback": [
      "Traceback \u001b[1;36m(most recent call last)\u001b[0m:\n",
      "  File \u001b[0;32m~\\anaconda3\\lib\\site-packages\\IPython\\core\\interactiveshell.py:3398\u001b[0m in \u001b[0;35mrun_code\u001b[0m\n    exec(code_obj, self.user_global_ns, self.user_ns)\n",
      "\u001b[1;36m  Input \u001b[1;32mIn [41]\u001b[1;36m in \u001b[1;35m<cell line: 1>\u001b[1;36m\u001b[0m\n\u001b[1;33m    eval('a=45')\u001b[0m\n",
      "\u001b[1;36m  File \u001b[1;32m<string>:1\u001b[1;36m\u001b[0m\n\u001b[1;33m    a=45\u001b[0m\n\u001b[1;37m     ^\u001b[0m\n\u001b[1;31mSyntaxError\u001b[0m\u001b[1;31m:\u001b[0m invalid syntax\n"
     ]
    }
   ],
   "source": [
    "eval('a=45')"
   ]
  },
  {
   "cell_type": "code",
   "execution_count": 42,
   "id": "ba210a76-211a-4bbd-b71f-1d1b00bd3a66",
   "metadata": {},
   "outputs": [],
   "source": [
    "exec('a=45')"
   ]
  },
  {
   "cell_type": "code",
   "execution_count": 43,
   "id": "4654ed2e-a0e3-47c6-be3d-3ff052180cde",
   "metadata": {},
   "outputs": [
    {
     "data": {
      "text/plain": [
       "45"
      ]
     },
     "execution_count": 43,
     "metadata": {},
     "output_type": "execute_result"
    }
   ],
   "source": [
    "a"
   ]
  },
  {
   "cell_type": "code",
   "execution_count": 45,
   "id": "1c3d72d1-cc4f-4b7f-a263-4e21965d012c",
   "metadata": {},
   "outputs": [
    {
     "name": "stdin",
     "output_type": "stream",
     "text": [
      "\n",
      "\n",
      "Python'da ekrana çıktı verebilmek için print() adlı bir\n",
      "fonksiyondan yararlanıyoruz. Bu fonksiyonu şöyle kullanabilirsiniz:\n",
      "\n",
      ">>> print(\"Merhaba Dünya\")\n",
      "\n",
      "Şimdi de aynı kodu siz yazın!\n",
      "\n",
      ">>>  print(\"İyi akşamlar\")\n"
     ]
    },
    {
     "name": "stdout",
     "output_type": "stream",
     "text": [
      "İyi akşamlar\n",
      "\n",
      "\n",
      "Gördüğünüz gibi print() fonksiyonu, kendisine\n",
      "parametre olarak verilen değerleri ekrana basıyor.\n",
      "\n",
      "Böylece ilk dersimizi tamamlamış olduk. Şimdi bir\n",
      "sonraki dersimize geçebiliriz.\n"
     ]
    }
   ],
   "source": [
    "d1 = \"\"\"\n",
    "\n",
    "Python'da ekrana çıktı verebilmek için print() adlı bir\n",
    "fonksiyondan yararlanıyoruz. Bu fonksiyonu şöyle kullanabilirsiniz:\n",
    "\n",
    ">>> print(\"Merhaba Dünya\")\n",
    "\n",
    "Şimdi de aynı kodu siz yazın!\n",
    "\n",
    ">>> \"\"\"\n",
    "\n",
    "girdi = input(d1)\n",
    "\n",
    "exec(girdi)\n",
    "\n",
    "d2 = \"\"\"\n",
    "\n",
    "Gördüğünüz gibi print() fonksiyonu, kendisine\n",
    "parametre olarak verilen değerleri ekrana basıyor.\n",
    "\n",
    "Böylece ilk dersimizi tamamlamış olduk. Şimdi bir\n",
    "sonraki dersimize geçebiliriz.\"\"\"\n",
    "\n",
    "print(d2)"
   ]
  },
  {
   "cell_type": "code",
   "execution_count": 47,
   "id": "f9bf9df1-21d5-4d8c-ba68-0c3f7fa39d96",
   "metadata": {},
   "outputs": [
    {
     "name": "stdin",
     "output_type": "stream",
     "text": [
      "tarih:  20/10/2022\n",
      "üniversite adı:  Adın\n",
      "fakülte adı:  Ziraat\n",
      "bölüm adı:  Toprak\n",
      "öğrenci no. : 101\n",
      "öğretim yılı:  2022-20023\n",
      "yarıyıl:  1\n",
      "öğrencinin adı:  Hasan\n",
      "öğrencinin soyadı:  Bak\n",
      "TC Kimlik no. : 103\n",
      "adres:  Ankara\n",
      "telefon:  2\n",
      "ekler:  \n"
     ]
    },
    {
     "name": "stdout",
     "output_type": "stream",
     "text": [
      "\n",
      "                                                    tarih: 20/10/2022\n",
      "\n",
      "\n",
      "T.C.\n",
      "Adın ÜNİVERSİTESİ\n",
      "Ziraat Fakültesi Dekanlığına\n",
      "\n",
      "\n",
      "Fakülteniz Toprak Bölümü 101 numaralı öğrencisiyim. Ekte sunduğum belgede\n",
      "belirtilen mazeretim gereğince 2022-20023 Eğitim-Öğretim Yılı  1.\n",
      "yarıyılında öğrenime ara izni (kayıt dondurma) istiyorum.\n",
      "\n",
      "    Bilgilerinizi ve gereğini arz ederim.\n",
      "\n",
      "        İmza\n",
      "\n",
      "Ad              : Hasan\n",
      "Soyad           : Bak\n",
      "T.C. Kimlik No. : 103\n",
      "Adres           : Ankara\n",
      "Tel.            : 2\n",
      "Ekler           : \n",
      "\n"
     ]
    }
   ],
   "source": [
    "dilekçe = \"\"\"\n",
    "                                                    tarih: {}\n",
    "\n",
    "\n",
    "T.C.\n",
    "{} ÜNİVERSİTESİ\n",
    "{} Fakültesi Dekanlığına\n",
    "\n",
    "\n",
    "Fakülteniz {} Bölümü {} numaralı öğrencisiyim. Ekte sunduğum belgede\n",
    "belirtilen mazeretim gereğince {} Eğitim-Öğretim Yılı  {}.\n",
    "yarıyılında öğrenime ara izni (kayıt dondurma) istiyorum.\n",
    "\n",
    "    Bilgilerinizi ve gereğini arz ederim.\n",
    "\n",
    "        İmza\n",
    "\n",
    "Ad              : {}\n",
    "Soyad           : {}\n",
    "T.C. Kimlik No. : {}\n",
    "Adres           : {}\n",
    "Tel.            : {}\n",
    "Ekler           : {}\n",
    "\"\"\"\n",
    "\n",
    "\n",
    "tarih           = input(\"tarih: \")\n",
    "üniversite      = input(\"üniversite adı: \")\n",
    "fakülte         = input(\"fakülte adı: \")\n",
    "bölüm           = input(\"bölüm adı: \")\n",
    "öğrenci_no      = input(\"öğrenci no. :\")\n",
    "öğretim_yılı    = input(\"öğretim yılı: \")\n",
    "yarıyıl         = input(\"yarıyıl: \")\n",
    "ad              = input(\"öğrencinin adı: \")\n",
    "soyad           = input(\"öğrencinin soyadı: \")\n",
    "tc_kimlik_no    = input(\"TC Kimlik no. :\")\n",
    "adres           = input(\"adres: \")\n",
    "tel             = input(\"telefon: \")\n",
    "ekler           = input(\"ekler: \")\n",
    "\n",
    "\n",
    "print(dilekçe.format(tarih, üniversite, fakülte, bölüm,\n",
    "                     öğrenci_no, öğretim_yılı, yarıyıl,\n",
    "                     ad, soyad, tc_kimlik_no,\n",
    "                     adres, tel, ekler))"
   ]
  },
  {
   "cell_type": "code",
   "execution_count": 48,
   "id": "a1684a80-df46-4e87-b551-f7c9c28b0895",
   "metadata": {},
   "outputs": [
    {
     "name": "stdout",
     "output_type": "stream",
     "text": [
      "\n",
      "Sayın Ayşe Hanımefendi\n",
      "April,2021 tarihinde yapmıs oldugunuz,\n",
      "\n",
      "iş ile ilgili basvurunuz onaylanmıştır. İşe alındınız\n",
      "\n"
     ]
    }
   ],
   "source": [
    "from  string import Template\n",
    "text=Template(\"\"\"\n",
    "Sayın $name Hanımefendi\\n$date tarihinde yapmıs oldugunuz,\n",
    "\\n$konu ile ilgili basvurunuz onaylanmıştır. İşe alındınız\n",
    "\"\"\")\n",
    "\n",
    "sonuc=text.substitute(name=\"Ayşe\",date=\"April,2021\",konu=\"iş\")\n",
    "print(sonuc)"
   ]
  },
  {
   "cell_type": "code",
   "execution_count": 50,
   "id": "61c57e2f-f004-4060-b1fd-90fa314a238d",
   "metadata": {},
   "outputs": [
    {
     "data": {
      "text/plain": [
       "['Formatter',\n",
       " 'Template',\n",
       " '_ChainMap',\n",
       " '__all__',\n",
       " '__builtins__',\n",
       " '__cached__',\n",
       " '__doc__',\n",
       " '__file__',\n",
       " '__loader__',\n",
       " '__name__',\n",
       " '__package__',\n",
       " '__spec__',\n",
       " '_re',\n",
       " '_sentinel_dict',\n",
       " '_string',\n",
       " 'ascii_letters',\n",
       " 'ascii_lowercase',\n",
       " 'ascii_uppercase',\n",
       " 'capwords',\n",
       " 'digits',\n",
       " 'hexdigits',\n",
       " 'octdigits',\n",
       " 'printable',\n",
       " 'punctuation',\n",
       " 'whitespace']"
      ]
     },
     "execution_count": 50,
     "metadata": {},
     "output_type": "execute_result"
    }
   ],
   "source": [
    "import string\n",
    "dir(string)"
   ]
  },
  {
   "cell_type": "code",
   "execution_count": 51,
   "id": "c437b6b6-5a89-4d7e-be11-c5e8c95b8b8a",
   "metadata": {},
   "outputs": [
    {
     "name": "stdout",
     "output_type": "stream",
     "text": [
      "\n",
      "(1) topla\n",
      "(2) çıkar\n",
      "(3) çarp\n",
      "(4) böl\n",
      "(5) karesini hesapla\n",
      "(6) karekök hesapla\n",
      "\n"
     ]
    },
    {
     "name": "stdin",
     "output_type": "stream",
     "text": [
      "Yapmak istediğiniz işlemin numarasını girin (Çıkmak için q):  1\n",
      "Toplama işlemi için ilk sayıyı girin:  25\n",
      "Toplama işlemi için ikinci sayıyı girin:  30\n"
     ]
    },
    {
     "name": "stdout",
     "output_type": "stream",
     "text": [
      "25 + 30 = 55\n"
     ]
    },
    {
     "name": "stdin",
     "output_type": "stream",
     "text": [
      "Yapmak istediğiniz işlemin numarasını girin (Çıkmak için q):  q\n"
     ]
    },
    {
     "name": "stdout",
     "output_type": "stream",
     "text": [
      "çıkılıyor...\n"
     ]
    }
   ],
   "source": [
    "giriş = \"\"\"\n",
    "(1) topla\n",
    "(2) çıkar\n",
    "(3) çarp\n",
    "(4) böl\n",
    "(5) karesini hesapla\n",
    "(6) karekök hesapla\n",
    "\"\"\"\n",
    "\n",
    "print(giriş)\n",
    "\n",
    "while True:\n",
    "    soru = input(\"Yapmak istediğiniz işlemin numarasını girin (Çıkmak için q): \")\n",
    "\n",
    "    if soru == \"q\":\n",
    "        print(\"çıkılıyor...\")\n",
    "        break\n",
    "\n",
    "    elif soru == \"1\":\n",
    "        sayı1 = int(input(\"Toplama işlemi için ilk sayıyı girin: \"))\n",
    "        sayı2 = int(input(\"Toplama işlemi için ikinci sayıyı girin: \"))\n",
    "        print(sayı1, \"+\", sayı2, \"=\", sayı1 + sayı2)\n",
    "\n",
    "    elif soru == \"2\":\n",
    "        sayı3 = int(input(\"Çıkarma işlemi için ilk sayıyı girin: \"))\n",
    "        sayı4 = int(input(\"Çıkarma işlemi için ikinci sayıyı girin: \"))\n",
    "        print(sayı3, \"-\", sayı4, \"=\", sayı3 - sayı4)\n",
    "\n",
    "    elif soru == \"3\":\n",
    "        sayı5 = int(input(\"Çarpma işlemi için ilk sayıyı girin: \"))\n",
    "        sayı6 = int(input(\"Çarpma işlemi için ikinci sayıyı girin: \"))\n",
    "        print(sayı5, \"x\", sayı6, \"=\", sayı5 * sayı6)\n",
    "\n",
    "    elif soru == \"4\":\n",
    "        sayı7 = int(input(\"Bölme işlemi için ilk sayıyı girin: \"))\n",
    "        sayı8 = int(input(\"Bölme işlemi için ikinci sayıyı girin: \"))\n",
    "        print(sayı7, \"/\", sayı8, \"=\", sayı7 / sayı8)\n",
    "\n",
    "    elif soru == \"5\":\n",
    "        sayı9 = int(input(\"Karesini hesaplamak istediğiniz sayıyı girin: \"))\n",
    "        print(sayı9, \"sayısının karesi =\", sayı9 ** 2)\n",
    "\n",
    "    elif soru == \"6\":\n",
    "        sayı10 = int(input(\"Karekökünü hesaplamak istediğiniz sayıyı girin: \"))\n",
    "        print(sayı10, \"sayısının karekökü = \", sayı10 ** 0.5)\n",
    "\n",
    "    else:\n",
    "        print(\"Yanlış giriş.\")\n",
    "        print(\"Aşağıdaki seçeneklerden birini giriniz:\", giriş)"
   ]
  },
  {
   "cell_type": "markdown",
   "id": "b8837423-db6d-4e00-8e7f-798eab320488",
   "metadata": {},
   "source": [
    "# List comprehension, lambda, map, filter fonksiyonları"
   ]
  },
  {
   "cell_type": "code",
   "execution_count": 52,
   "id": "a75819bd-ed9b-4fb0-8944-3cc43c59bd6a",
   "metadata": {},
   "outputs": [],
   "source": [
    "l=[1,2,5,10,20,30]"
   ]
  },
  {
   "cell_type": "code",
   "execution_count": 53,
   "id": "72489f03-036f-4fa0-9745-1af064f27481",
   "metadata": {},
   "outputs": [
    {
     "name": "stdout",
     "output_type": "stream",
     "text": [
      "[1, 4, 25, 100, 400, 900]\n"
     ]
    }
   ],
   "source": [
    "yeni=[]\n",
    "for i in l:\n",
    "    yeni.append(i**2)\n",
    "\n",
    "print(yeni)   "
   ]
  },
  {
   "cell_type": "code",
   "execution_count": 54,
   "id": "e2d5b107-ca92-4285-be07-c0917dbddb17",
   "metadata": {},
   "outputs": [
    {
     "data": {
      "text/plain": [
       "[1, 4, 25, 100, 400, 900]"
      ]
     },
     "execution_count": 54,
     "metadata": {},
     "output_type": "execute_result"
    }
   ],
   "source": [
    "[i**2 for i in l]"
   ]
  },
  {
   "cell_type": "code",
   "execution_count": 55,
   "id": "6ead1c03-0ecc-4fdb-bfff-997872bdc371",
   "metadata": {},
   "outputs": [],
   "source": [
    "def cift_sayi(x):\n",
    "    if x%2==0:\n",
    "        return x\n",
    "    else:\n",
    "        None"
   ]
  },
  {
   "cell_type": "code",
   "execution_count": 57,
   "id": "ae63d369-0302-48b4-98a7-db170fe6fab9",
   "metadata": {},
   "outputs": [],
   "source": [
    "cift_sayi(55)"
   ]
  },
  {
   "cell_type": "code",
   "execution_count": 63,
   "id": "fe06db11-af46-443f-a8d3-c0944f036612",
   "metadata": {},
   "outputs": [],
   "source": [
    "def cift_sayi(x): \n",
    "    return x if x%2==0 else None "
   ]
  },
  {
   "cell_type": "code",
   "execution_count": 64,
   "id": "920e1df4-4e39-4975-96ff-f6e8ed0e5edd",
   "metadata": {},
   "outputs": [
    {
     "data": {
      "text/plain": [
       "50"
      ]
     },
     "execution_count": 64,
     "metadata": {},
     "output_type": "execute_result"
    }
   ],
   "source": [
    "cift_sayi(50)"
   ]
  },
  {
   "cell_type": "code",
   "execution_count": 69,
   "id": "43e5b8a4-e7a3-440a-aef5-2dc75ce9b42e",
   "metadata": {},
   "outputs": [
    {
     "data": {
      "text/plain": [
       "[0, 2, 4, 6, 8]"
      ]
     },
     "execution_count": 69,
     "metadata": {},
     "output_type": "execute_result"
    }
   ],
   "source": [
    "myl=[i for i in range(0,10) if i%2 == 0]\n",
    "myl"
   ]
  },
  {
   "cell_type": "code",
   "execution_count": 72,
   "id": "09d6d3c9-5e06-405e-9473-25f8f65d60e0",
   "metadata": {},
   "outputs": [
    {
     "name": "stdout",
     "output_type": "stream",
     "text": [
      "[0, 0, 2, 0, 3, 6]\n"
     ]
    }
   ],
   "source": [
    "list=[x*y for x in range(4) for y in range(3) if x>y]\n",
    "print(list)  # 0,1,2,3    0,1,2"
   ]
  },
  {
   "cell_type": "code",
   "execution_count": null,
   "id": "ea8c9402-ad32-4fb9-b98d-0e31f545c2aa",
   "metadata": {},
   "outputs": [],
   "source": [
    "[ x + y  if (x + y) % 2 else (x + y) ** 2  for x in (1,2,3) for y in [4,5,6] ]"
   ]
  },
  {
   "cell_type": "code",
   "execution_count": 75,
   "id": "29dbd960-d425-4e6f-8100-f5cc4b7b004e",
   "metadata": {},
   "outputs": [
    {
     "name": "stdout",
     "output_type": "stream",
     "text": [
      "['Hi   Ali', 'Hi   Veli', 'Hi   Bob']\n"
     ]
    }
   ],
   "source": [
    "l=[('Hi   '+ x) for x in ['Ali','Veli','Bob']]\n",
    "print(l)"
   ]
  },
  {
   "cell_type": "code",
   "execution_count": 79,
   "id": "299d7ab1-4f8c-40f1-ba99-4078299ff852",
   "metadata": {},
   "outputs": [
    {
     "name": "stdout",
     "output_type": "stream",
     "text": [
      "['Abdurrahim bey (1).pdf', 'Abdurrahim bey.pdf', 'Abdurrahim hoca.pdf', 'Beginning Programming with Python for Dummies (John Paul Mueller) (z-lib.org) (1).pdf', 'Beginning Programming with Python for Dummies (John Paul Mueller) (z-lib.org).pdf', 'Introduction to Machine Learning with Python A Guide for Data Scientists (Andreas C. Müller, Sarah Guido) (z-lib.org).pdf']\n"
     ]
    }
   ],
   "source": [
    "import os\n",
    "dosyalar=[]\n",
    "for d in os.listdir(r\"C:\\Users\\DELL\\Downloads\"):\n",
    "    if d.endswith(\".pdf\"):\n",
    "        dosyalar.append(d)\n",
    "print(dosyalar)"
   ]
  },
  {
   "cell_type": "code",
   "execution_count": 80,
   "id": "b6a010ff-0b84-4ea5-918e-cfa9944c92e1",
   "metadata": {},
   "outputs": [],
   "source": [
    "dosyalar1= [d for d in os.listdir(r\"C:\\Users\\DELL\\Downloads\") if d.endswith(\".pdf\")]"
   ]
  },
  {
   "cell_type": "code",
   "execution_count": 81,
   "id": "73f3e5c8-0b2a-400d-9c6b-d09fb4247f57",
   "metadata": {},
   "outputs": [
    {
     "data": {
      "text/plain": [
       "['Abdurrahim bey (1).pdf',\n",
       " 'Abdurrahim bey.pdf',\n",
       " 'Abdurrahim hoca.pdf',\n",
       " 'Beginning Programming with Python for Dummies (John Paul Mueller) (z-lib.org) (1).pdf',\n",
       " 'Beginning Programming with Python for Dummies (John Paul Mueller) (z-lib.org).pdf',\n",
       " 'Introduction to Machine Learning with Python A Guide for Data Scientists (Andreas C. Müller, Sarah Guido) (z-lib.org).pdf']"
      ]
     },
     "execution_count": 81,
     "metadata": {},
     "output_type": "execute_result"
    }
   ],
   "source": [
    "dosyalar1"
   ]
  },
  {
   "cell_type": "markdown",
   "id": "f7765847-212b-4ff3-8e9b-8b765d077f43",
   "metadata": {},
   "source": [
    "### Lambda fonk"
   ]
  },
  {
   "cell_type": "code",
   "execution_count": 82,
   "id": "8ac4af1d-9215-4b8c-b912-67a86e984c3e",
   "metadata": {},
   "outputs": [],
   "source": [
    "fonk  = lambda param1, param2:param1+param2"
   ]
  },
  {
   "cell_type": "code",
   "execution_count": 83,
   "id": "90bd2115-257a-4102-a5fc-9b592bd73056",
   "metadata": {},
   "outputs": [
    {
     "data": {
      "text/plain": [
       "30"
      ]
     },
     "execution_count": 83,
     "metadata": {},
     "output_type": "execute_result"
    }
   ],
   "source": [
    "fonk(5,25)"
   ]
  },
  {
   "cell_type": "code",
   "execution_count": 84,
   "id": "ee8d43aa-87ab-432a-81f9-b68b94e2e68b",
   "metadata": {},
   "outputs": [],
   "source": [
    "cift_mi= lambda sayi:sayi % 2 == 0"
   ]
  },
  {
   "cell_type": "code",
   "execution_count": 86,
   "id": "243fcb46-b6d2-47c1-abe2-77fcf6274c34",
   "metadata": {},
   "outputs": [
    {
     "data": {
      "text/plain": [
       "False"
      ]
     },
     "execution_count": 86,
     "metadata": {},
     "output_type": "execute_result"
    }
   ],
   "source": [
    "cift_mi(101)"
   ]
  },
  {
   "cell_type": "code",
   "execution_count": 88,
   "id": "2d2e2285-777f-4264-b104-49bd3232db7b",
   "metadata": {},
   "outputs": [
    {
     "name": "stdout",
     "output_type": "stream",
     "text": [
      "210\n"
     ]
    }
   ],
   "source": [
    "c= lambda x, y, z : x*y*z\n",
    "print(c(5,6,7))"
   ]
  },
  {
   "cell_type": "code",
   "execution_count": 89,
   "id": "9d57daba-b8a7-46b4-9ae7-f0520c4e2ab4",
   "metadata": {},
   "outputs": [],
   "source": [
    "c= lambda x : x**2"
   ]
  },
  {
   "cell_type": "code",
   "execution_count": 90,
   "id": "ef089c45-547b-4deb-877d-61b2ead4ef92",
   "metadata": {},
   "outputs": [
    {
     "data": {
      "text/plain": [
       "16"
      ]
     },
     "execution_count": 90,
     "metadata": {},
     "output_type": "execute_result"
    }
   ],
   "source": [
    "c(4)"
   ]
  },
  {
   "cell_type": "code",
   "execution_count": 92,
   "id": "53bcd411-4d35-4817-90d1-7a2de7de1249",
   "metadata": {},
   "outputs": [],
   "source": [
    "def myfunc(n):\n",
    "    return lambda a : a*n"
   ]
  },
  {
   "cell_type": "code",
   "execution_count": 93,
   "id": "ffc48241-9e19-4170-adcf-6b026c00fd1b",
   "metadata": {},
   "outputs": [
    {
     "data": {
      "text/plain": [
       "84"
      ]
     },
     "execution_count": 93,
     "metadata": {},
     "output_type": "execute_result"
    }
   ],
   "source": [
    "k=myfunc(42)\n",
    "b=k(2)\n",
    "b"
   ]
  },
  {
   "cell_type": "code",
   "execution_count": 104,
   "id": "b03dbe7c-b400-4f15-acf4-e7a63316ea36",
   "metadata": {},
   "outputs": [
    {
     "data": {
      "text/plain": [
       "[1, 4, 9, 16, 25, 36, 49, 64, 81]"
      ]
     },
     "execution_count": 104,
     "metadata": {},
     "output_type": "execute_result"
    }
   ],
   "source": [
    "[*map(lambda x : x**2, range(1,10))]\n",
    "# map(fonk,liste)"
   ]
  },
  {
   "cell_type": "code",
   "execution_count": 105,
   "id": "aee42bb1-962e-441a-af8d-3f44cce80893",
   "metadata": {},
   "outputs": [],
   "source": [
    "import math"
   ]
  },
  {
   "cell_type": "code",
   "execution_count": 110,
   "id": "193d125b-ced3-40e8-9045-0e64f5d1d69a",
   "metadata": {},
   "outputs": [
    {
     "data": {
      "text/plain": [
       "[1, 2, 6, 24, 120, 720, 5040, 40320, 362880]"
      ]
     },
     "execution_count": 110,
     "metadata": {},
     "output_type": "execute_result"
    }
   ],
   "source": [
    "[*map(math.factorial, range(1,10))]"
   ]
  },
  {
   "cell_type": "code",
   "execution_count": null,
   "id": "0cb3f725-782f-4368-9304-6c002bb9a575",
   "metadata": {},
   "outputs": [],
   "source": []
  },
  {
   "cell_type": "code",
   "execution_count": 46,
   "id": "f57ff304-53e6-4eb4-8752-ed0c69ba91b0",
   "metadata": {},
   "outputs": [
    {
     "name": "stdout",
     "output_type": "stream",
     "text": [
      "İyi akşamlar\n"
     ]
    }
   ],
   "source": [
    "exec(girdi)"
   ]
  }
 ],
 "metadata": {
  "kernelspec": {
   "display_name": "Python 3 (ipykernel)",
   "language": "python",
   "name": "python3"
  },
  "language_info": {
   "codemirror_mode": {
    "name": "ipython",
    "version": 3
   },
   "file_extension": ".py",
   "mimetype": "text/x-python",
   "name": "python",
   "nbconvert_exporter": "python",
   "pygments_lexer": "ipython3",
   "version": "3.9.12"
  }
 },
 "nbformat": 4,
 "nbformat_minor": 5
}
