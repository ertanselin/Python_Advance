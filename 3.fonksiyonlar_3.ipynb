{
 "cells": [
  {
   "cell_type": "markdown",
   "id": "f7765847-212b-4ff3-8e9b-8b765d077f43",
   "metadata": {},
   "source": [
    "### Lambda fonk"
   ]
  },
  {
   "cell_type": "code",
   "execution_count": 82,
   "id": "8ac4af1d-9215-4b8c-b912-67a86e984c3e",
   "metadata": {},
   "outputs": [],
   "source": [
    "fonk  = lambda param1, param2:param1+param2"
   ]
  },
  {
   "cell_type": "code",
   "execution_count": 83,
   "id": "90bd2115-257a-4102-a5fc-9b592bd73056",
   "metadata": {},
   "outputs": [
    {
     "data": {
      "text/plain": [
       "30"
      ]
     },
     "execution_count": 83,
     "metadata": {},
     "output_type": "execute_result"
    }
   ],
   "source": [
    "fonk(5,25)"
   ]
  },
  {
   "cell_type": "code",
   "execution_count": 84,
   "id": "ee8d43aa-87ab-432a-81f9-b68b94e2e68b",
   "metadata": {},
   "outputs": [],
   "source": [
    "cift_mi= lambda sayi:sayi % 2 == 0"
   ]
  },
  {
   "cell_type": "code",
   "execution_count": 86,
   "id": "243fcb46-b6d2-47c1-abe2-77fcf6274c34",
   "metadata": {},
   "outputs": [
    {
     "data": {
      "text/plain": [
       "False"
      ]
     },
     "execution_count": 86,
     "metadata": {},
     "output_type": "execute_result"
    }
   ],
   "source": [
    "cift_mi(101)"
   ]
  },
  {
   "cell_type": "code",
   "execution_count": 88,
   "id": "2d2e2285-777f-4264-b104-49bd3232db7b",
   "metadata": {},
   "outputs": [
    {
     "name": "stdout",
     "output_type": "stream",
     "text": [
      "210\n"
     ]
    }
   ],
   "source": [
    "c= lambda x, y, z : x*y*z\n",
    "print(c(5,6,7))"
   ]
  },
  {
   "cell_type": "code",
   "execution_count": 89,
   "id": "9d57daba-b8a7-46b4-9ae7-f0520c4e2ab4",
   "metadata": {},
   "outputs": [],
   "source": [
    "c= lambda x : x**2"
   ]
  },
  {
   "cell_type": "code",
   "execution_count": 90,
   "id": "ef089c45-547b-4deb-877d-61b2ead4ef92",
   "metadata": {},
   "outputs": [
    {
     "data": {
      "text/plain": [
       "16"
      ]
     },
     "execution_count": 90,
     "metadata": {},
     "output_type": "execute_result"
    }
   ],
   "source": [
    "c(4)"
   ]
  },
  {
   "cell_type": "code",
   "execution_count": 92,
   "id": "53bcd411-4d35-4817-90d1-7a2de7de1249",
   "metadata": {},
   "outputs": [],
   "source": [
    "def myfunc(n):\n",
    "    return lambda a : a*n"
   ]
  },
  {
   "cell_type": "code",
   "execution_count": 93,
   "id": "ffc48241-9e19-4170-adcf-6b026c00fd1b",
   "metadata": {},
   "outputs": [
    {
     "data": {
      "text/plain": [
       "84"
      ]
     },
     "execution_count": 93,
     "metadata": {},
     "output_type": "execute_result"
    }
   ],
   "source": [
    "k=myfunc(42)\n",
    "b=k(2)\n",
    "b"
   ]
  },
  {
   "cell_type": "code",
   "execution_count": 104,
   "id": "b03dbe7c-b400-4f15-acf4-e7a63316ea36",
   "metadata": {},
   "outputs": [
    {
     "data": {
      "text/plain": [
       "[1, 4, 9, 16, 25, 36, 49, 64, 81]"
      ]
     },
     "execution_count": 104,
     "metadata": {},
     "output_type": "execute_result"
    }
   ],
   "source": [
    "[*map(lambda x : x**2, range(1,10))]\n",
    "# map(fonk,liste)"
   ]
  },
  {
   "cell_type": "code",
   "execution_count": 105,
   "id": "aee42bb1-962e-441a-af8d-3f44cce80893",
   "metadata": {},
   "outputs": [],
   "source": [
    "import math"
   ]
  },
  {
   "cell_type": "code",
   "execution_count": 110,
   "id": "193d125b-ced3-40e8-9045-0e64f5d1d69a",
   "metadata": {},
   "outputs": [
    {
     "data": {
      "text/plain": [
       "[1, 2, 6, 24, 120, 720, 5040, 40320, 362880]"
      ]
     },
     "execution_count": 110,
     "metadata": {},
     "output_type": "execute_result"
    }
   ],
   "source": [
    "[*map(math.factorial, range(1,10))]"
   ]
  },
  {
   "cell_type": "code",
   "execution_count": 19,
   "id": "330b7987-a73e-4d72-80e4-1c305ce656ef",
   "metadata": {},
   "outputs": [
    {
     "name": "stdout",
     "output_type": "stream",
     "text": [
      "[0, 2, 4, 6, 8, 10, 12, 14, 16, 18]\n"
     ]
    }
   ],
   "source": [
    "li=[]\n",
    "for cift in range(0,20):\n",
    "    if cift%2 ==0 :\n",
    "        li.append(cift)\n",
    "print(li)"
   ]
  },
  {
   "cell_type": "code",
   "execution_count": 20,
   "id": "b5829a36-fe58-4ddb-aede-6911b44eb189",
   "metadata": {},
   "outputs": [
    {
     "data": {
      "text/plain": [
       "[0, 2, 4, 6, 8, 10, 12, 14, 16, 18]"
      ]
     },
     "execution_count": 20,
     "metadata": {},
     "output_type": "execute_result"
    }
   ],
   "source": [
    "[cift for cift in range(0,20) if cift%2 ==0]"
   ]
  },
  {
   "cell_type": "code",
   "execution_count": 23,
   "id": "7227c455-c5bc-450b-9e9a-dfbc24afa1ff",
   "metadata": {},
   "outputs": [
    {
     "name": "stdout",
     "output_type": "stream",
     "text": [
      "[0, None, 2, None, 4, None, 6, None, 8, None, 10, None, 12, None, 14, None, 16, None, 18, None]\n"
     ]
    }
   ],
   "source": [
    "sayilar=range(0,20)\n",
    "cift_say= [*map(lambda x: x if x%2 == 0 else None,sayilar)]\n",
    "print(cift_say)"
   ]
  },
  {
   "cell_type": "code",
   "execution_count": null,
   "id": "da4ee91e-c80c-40aa-86e2-e8ef75383c0b",
   "metadata": {},
   "outputs": [],
   "source": [
    "# map(fonk,dizi)"
   ]
  },
  {
   "cell_type": "code",
   "execution_count": 24,
   "id": "4e822fe8-b42a-4fb0-816e-a770ca1f5a85",
   "metadata": {},
   "outputs": [
    {
     "name": "stdout",
     "output_type": "stream",
     "text": [
      "[2, 4, 6, 8, 10, 12, 14, 16, 18]\n"
     ]
    }
   ],
   "source": [
    "sayilar=range(0,20)\n",
    "cift_say= [*filter(lambda x: x if x%2 == 0 else None,sayilar)]\n",
    "print(cift_say)"
   ]
  },
  {
   "cell_type": "code",
   "execution_count": 25,
   "id": "269f589c-9cfe-4cd1-acaa-0f241f81f42a",
   "metadata": {},
   "outputs": [],
   "source": [
    "cift_say.insert(0,0)"
   ]
  },
  {
   "cell_type": "code",
   "execution_count": 26,
   "id": "247625de-b418-4e3e-89bb-39b1757f0df7",
   "metadata": {},
   "outputs": [
    {
     "data": {
      "text/plain": [
       "[0, 2, 4, 6, 8, 10, 12, 14, 16, 18]"
      ]
     },
     "execution_count": 26,
     "metadata": {},
     "output_type": "execute_result"
    }
   ],
   "source": [
    "cift_say"
   ]
  },
  {
   "cell_type": "code",
   "execution_count": 32,
   "id": "bf76919d-15da-4763-8b4a-740a213f73b3",
   "metadata": {},
   "outputs": [
    {
     "name": "stdout",
     "output_type": "stream",
     "text": [
      "ahmet\n",
      "can\n",
      "cigdem\n",
      "çiğdem\n",
      "ışık\n",
      "iskender\n",
      "ismail\n",
      "ismet\n",
      "ismıt\n",
      "ismit\n",
      "şule\n"
     ]
    }
   ],
   "source": [
    "harfler = 'abcçdefgğhıijklmnoöprsştuüvyz'\n",
    "çevrim = {i: harfler.index(i) for i in harfler}\n",
    "\n",
    "def sırala(kelime):\n",
    "    return ([çevrim.get(kelime[i]) for i in range(len(kelime))])\n",
    "\n",
    "isimler = ['ahmet', 'can', 'iskender', 'cigdem',\n",
    "           'ismet', 'ismail', 'ismit', 'çiğdem',\n",
    "           'ismıt', 'ışık', 'şule']\n",
    "\n",
    "print(*sorted(isimler, key=sırala), sep='\\n')"
   ]
  },
  {
   "cell_type": "code",
   "execution_count": 31,
   "id": "bb1294dc-3505-40a9-89d6-7dbb28701ae0",
   "metadata": {},
   "outputs": [
    {
     "data": {
      "text/plain": [
       "[0, 9, 15, 5, 23]"
      ]
     },
     "execution_count": 31,
     "metadata": {},
     "output_type": "execute_result"
    }
   ],
   "source": [
    "sırala(\"ahmet\")"
   ]
  },
  {
   "cell_type": "code",
   "execution_count": 33,
   "id": "71561014-7989-4390-b134-d5f7cee31877",
   "metadata": {},
   "outputs": [
    {
     "name": "stdout",
     "output_type": "stream",
     "text": [
      "ahmet\n",
      "can\n",
      "cigdem\n",
      "çiğdem\n",
      "ışık\n",
      "iskender\n",
      "ismet\n",
      "ismail\n",
      "ismit\n",
      "ismıt\n",
      "şule\n"
     ]
    }
   ],
   "source": [
    "harfler = \"abcçdefgğhıijklmnoöprsştuüvyz\"\n",
    "çevrim = {i: harfler.index(i) for i in harfler}\n",
    "\n",
    "isimler = ['ahmet', 'can', 'iskender', 'cigdem',\n",
    "           'ismet', 'ismail', 'ismit', 'çiğdem',\n",
    "           'ismıt', 'ışık', 'şule']\n",
    "\n",
    "print(*sorted(isimler, key=lambda x: çevrim.get(x[0])),sep='\\n')"
   ]
  },
  {
   "cell_type": "markdown",
   "id": "2c98c6a4-a4cc-4e33-88a4-fdf2d1ea2adb",
   "metadata": {},
   "source": [
    "# Özyinelemeli (recursive) fonksiyonlar"
   ]
  },
  {
   "cell_type": "code",
   "execution_count": 35,
   "id": "c96ee42f-3605-4de4-b1aa-45dc15ac725d",
   "metadata": {},
   "outputs": [
    {
     "name": "stdout",
     "output_type": "stream",
     "text": [
      "377\n",
      "[0, 1, 1, 2, 3, 5, 8, 13, 21, 34, 55, 89, 144, 233, 377, 610, 987, 1597, 2584, 4181]\n"
     ]
    }
   ],
   "source": [
    "def fibonacci_of(n):\n",
    "    if n in {0,1}:\n",
    "        return n\n",
    "    return fibonacci_of(n-1) + fibonacci_of(n-2)\n",
    "\n",
    "print(fibonacci_of(14))\n",
    "print([fibonacci_of(n) for n in range(20)])"
   ]
  },
  {
   "cell_type": "code",
   "execution_count": 42,
   "id": "cfaa9f57-6d18-49b2-b1f2-d5e37d69c25b",
   "metadata": {},
   "outputs": [
    {
     "name": "stdout",
     "output_type": "stream",
     "text": [
      "Selahattin\n",
      "Selahatti\n",
      "Selahatt\n",
      "Selahat\n",
      "Selaha\n",
      "Selah\n",
      "Sela\n",
      "Sel\n",
      "Se\n",
      "S\n"
     ]
    }
   ],
   "source": [
    "def fazalt(s):\n",
    "    print(s)\n",
    "    for i in range(1,len(s)):\n",
    "        print(s[:-i])\n",
    "        \n",
    "fazalt('Selahattin')"
   ]
  },
  {
   "cell_type": "code",
   "execution_count": 39,
   "id": "5d8fc4f5-329f-4812-bd1e-ccf0f6ab9abc",
   "metadata": {},
   "outputs": [
    {
     "name": "stdout",
     "output_type": "stream",
     "text": [
      "Selahattin\n",
      "Selahatti\n",
      "Selahatt\n",
      "Selahat\n",
      "Selaha\n",
      "Selah\n",
      "Sela\n",
      "Sel\n",
      "Se\n",
      "S\n",
      "None\n"
     ]
    }
   ],
   "source": [
    "def azalt(s):\n",
    "    if len(s) <1:\n",
    "        return s\n",
    "    else:\n",
    "        print(s)\n",
    "        #return azalt(s[:-1])\n",
    "        azalt(s[:-1])\n",
    "        \n",
    "print(azalt('Selahattin'))"
   ]
  },
  {
   "cell_type": "code",
   "execution_count": 45,
   "id": "fb6696ba-3d4a-4b92-94c9-c8fea3a743c6",
   "metadata": {},
   "outputs": [
    {
     "name": "stdout",
     "output_type": "stream",
     "text": [
      "recursive giriş Selahattin\n",
      "recursive giriş elahattin\n",
      "recursive giriş lahattin\n",
      "recursive giriş ahattin\n",
      "recursive giriş hattin\n",
      "recursive giriş attin\n",
      "recursive giriş ttin\n",
      "recursive giriş tin\n",
      "recursive giriş in\n",
      "recursive giriş n\n",
      "recursive çıkış n\n",
      "recursive çıkış in\n",
      "recursive çıkış tin\n",
      "recursive çıkış ttin\n",
      "recursive çıkış attin\n",
      "recursive çıkış hattin\n",
      "recursive çıkış ahattin\n",
      "recursive çıkış lahattin\n",
      "recursive çıkış elahattin\n",
      "recursive çıkış Selahattin\n",
      "None\n"
     ]
    }
   ],
   "source": [
    "def azalt(s):\n",
    "    if len(s) <1:\n",
    "        return s\n",
    "    else:\n",
    "        print('recursive giriş',s)\n",
    "        azalt(s[1:])\n",
    "        #raise SystemExit()\n",
    "        print('recursive çıkış',s)\n",
    "        \n",
    "print(azalt('Selahattin'))"
   ]
  },
  {
   "cell_type": "code",
   "execution_count": 16,
   "id": "79e80872-f066-46f7-acfd-706a1d3b53c8",
   "metadata": {},
   "outputs": [
    {
     "name": "stdout",
     "output_type": "stream",
     "text": [
      "D\tu\tr\ts\tu\tn\t"
     ]
    }
   ],
   "source": [
    "def ters_cevir(s):\n",
    "    if len(s) <1:\n",
    "        return s\n",
    "    else:\n",
    "        print(s[0],end='\\t')\n",
    "        ters_cevir(s[1:])\n",
    "        \n",
    "ters_cevir('Dursun')"
   ]
  },
  {
   "cell_type": "code",
   "execution_count": 47,
   "id": "f6ce92a9-b161-4116-b83d-ddbfbd011d04",
   "metadata": {},
   "outputs": [
    {
     "name": "stdout",
     "output_type": "stream",
     "text": [
      "n\tu\ts\tr\tu\tD\t"
     ]
    }
   ],
   "source": [
    "def ters_cevir(s):\n",
    "    if len(s) <1:\n",
    "        return s\n",
    "    else:\n",
    "        ters_cevir(s[1:])\n",
    "        print(s[0],end='\\t')\n",
    "               \n",
    "ters_cevir('Dursun')"
   ]
  },
  {
   "cell_type": "code",
   "execution_count": 1,
   "id": "bdba076b-1202-4a93-830f-7281b2a2c75c",
   "metadata": {},
   "outputs": [],
   "source": [
    "def factor(x):\n",
    "    if x==1 or x==0:\n",
    "        return 1\n",
    "    else:\n",
    "        return (x*factor(x-1))"
   ]
  },
  {
   "cell_type": "code",
   "execution_count": 2,
   "id": "8f5d4d0e-b2ea-4fc9-b697-92f4a821ea5e",
   "metadata": {},
   "outputs": [
    {
     "data": {
      "text/plain": [
       "120"
      ]
     },
     "execution_count": 2,
     "metadata": {},
     "output_type": "execute_result"
    }
   ],
   "source": [
    "factor(5)"
   ]
  },
  {
   "cell_type": "code",
   "execution_count": 3,
   "id": "f2d48c2f-c0f8-42a8-a64c-9f0fdbc4def2",
   "metadata": {},
   "outputs": [],
   "source": [
    "def factor1(x):\n",
    "    f=1\n",
    "    for i in range(2,x+1):\n",
    "        f=f*i\n",
    "    return f"
   ]
  },
  {
   "cell_type": "code",
   "execution_count": null,
   "id": "2bdde614-36b1-4d9b-9e03-b6d09c3ef468",
   "metadata": {},
   "outputs": [],
   "source": [
    "factor1(30000)"
   ]
  },
  {
   "cell_type": "code",
   "execution_count": 7,
   "id": "313882a8-5020-4b78-abc6-5e052eb34648",
   "metadata": {},
   "outputs": [],
   "source": [
    "import time"
   ]
  },
  {
   "cell_type": "code",
   "execution_count": 13,
   "id": "95f32221-a7fc-4656-aaec-7becb7eeb96e",
   "metadata": {},
   "outputs": [
    {
     "name": "stdout",
     "output_type": "stream",
     "text": [
      "Başlangıç zamanı : 1666452164.9591215\n"
     ]
    },
    {
     "ename": "KeyboardInterrupt",
     "evalue": "",
     "output_type": "error",
     "traceback": [
      "\u001b[1;31m---------------------------------------------------------------------------\u001b[0m",
      "\u001b[1;31mKeyboardInterrupt\u001b[0m                         Traceback (most recent call last)",
      "Input \u001b[1;32mIn [13]\u001b[0m, in \u001b[0;36m<cell line: 3>\u001b[1;34m()\u001b[0m\n\u001b[0;32m      1\u001b[0m basl\u001b[38;5;241m=\u001b[39mtime\u001b[38;5;241m.\u001b[39mtime()\n\u001b[0;32m      2\u001b[0m \u001b[38;5;28mprint\u001b[39m(\u001b[38;5;124m\"\u001b[39m\u001b[38;5;124mBaşlangıç zamanı : \u001b[39m\u001b[38;5;132;01m{}\u001b[39;00m\u001b[38;5;124m\"\u001b[39m\u001b[38;5;241m.\u001b[39mformat(basl))\n\u001b[1;32m----> 3\u001b[0m \u001b[43mfactor1\u001b[49m\u001b[43m(\u001b[49m\u001b[38;5;241;43m1000000\u001b[39;49m\u001b[43m)\u001b[49m\n\u001b[0;32m      4\u001b[0m bitis\u001b[38;5;241m=\u001b[39mtime\u001b[38;5;241m.\u001b[39mtime()\n\u001b[0;32m      5\u001b[0m \u001b[38;5;28mprint\u001b[39m(\u001b[38;5;124m\"\u001b[39m\u001b[38;5;124mBitiş zamanı : \u001b[39m\u001b[38;5;132;01m{}\u001b[39;00m\u001b[38;5;124m\"\u001b[39m\u001b[38;5;241m.\u001b[39mformat(bitis))\n",
      "Input \u001b[1;32mIn [3]\u001b[0m, in \u001b[0;36mfactor1\u001b[1;34m(x)\u001b[0m\n\u001b[0;32m      2\u001b[0m f\u001b[38;5;241m=\u001b[39m\u001b[38;5;241m1\u001b[39m\n\u001b[0;32m      3\u001b[0m \u001b[38;5;28;01mfor\u001b[39;00m i \u001b[38;5;129;01min\u001b[39;00m \u001b[38;5;28mrange\u001b[39m(\u001b[38;5;241m2\u001b[39m,x\u001b[38;5;241m+\u001b[39m\u001b[38;5;241m1\u001b[39m):\n\u001b[1;32m----> 4\u001b[0m     f\u001b[38;5;241m=\u001b[39mf\u001b[38;5;241m*\u001b[39mi\n\u001b[0;32m      5\u001b[0m \u001b[38;5;28;01mreturn\u001b[39;00m f\n",
      "\u001b[1;31mKeyboardInterrupt\u001b[0m: "
     ]
    }
   ],
   "source": [
    "basl=time.time()\n",
    "print(\"Başlangıç zamanı : {}\".format(basl))\n",
    "factor1(100000)\n",
    "bitis=time.time()\n",
    "print(\"Bitiş zamanı : {}\".format(bitis))\n",
    "print(\"Fark :\", bitis-basl)\n",
    "factor1"
   ]
  },
  {
   "cell_type": "code",
   "execution_count": 11,
   "id": "f111b3c8-c35b-479c-9d5b-c8507ecc3f3c",
   "metadata": {},
   "outputs": [],
   "source": [
    "import math"
   ]
  },
  {
   "cell_type": "code",
   "execution_count": null,
   "id": "cc15ed46-1513-4af1-a490-311925bb256d",
   "metadata": {},
   "outputs": [],
   "source": []
  },
  {
   "cell_type": "code",
   "execution_count": 14,
   "id": "c8a348d1-b9fc-48e1-98d2-18b756c70d46",
   "metadata": {},
   "outputs": [
    {
     "name": "stdout",
     "output_type": "stream",
     "text": [
      "List time test :  11.36015569999995\n",
      "List time test :  3.2156256999999187\n"
     ]
    }
   ],
   "source": [
    "import timeit\n",
    "\n",
    "print(\"List time test : \",timeit.timeit(stmt=\"numbers=[1,2,3,4,5,6,7,8,9,10,11,12,13,14,15]\",number=100000000))\n",
    "print(\"List time test : \",timeit.timeit(stmt=\"numbers=(1,2,3,4,5,6,7,8,9,10,11,12,13,14,15)\",number=100000000))\n",
    "#10000000 kez çalıştırıyor. Default değeri 1 milyyondr. Tuple ile list hız farkı"
   ]
  },
  {
   "cell_type": "code",
   "execution_count": 15,
   "id": "10330d3a-010d-4324-bb43-d2fb92a4998f",
   "metadata": {},
   "outputs": [
    {
     "data": {
      "text/plain": [
       "3000"
      ]
     },
     "execution_count": 15,
     "metadata": {},
     "output_type": "execute_result"
    }
   ],
   "source": [
    "import sys\n",
    "sys.getrecursionlimit()"
   ]
  },
  {
   "cell_type": "markdown",
   "id": "3dbbad75-c919-4b27-afa1-290eb3c29edf",
   "metadata": {},
   "source": [
    "# İç içe (nested) fonksionlar"
   ]
  },
  {
   "cell_type": "code",
   "execution_count": null,
   "id": "0388b14d-1d9e-4809-a1e0-258a44313b60",
   "metadata": {},
   "outputs": [],
   "source": [
    "def fonk1():    # kapsaıcı veya dış fonk (enclosing)\n",
    "    def fonk2(): # iç (nested)\n",
    "        pass"
   ]
  },
  {
   "cell_type": "code",
   "execution_count": 24,
   "id": "369be383-8e64-4c3e-b036-b19a5982db88",
   "metadata": {},
   "outputs": [],
   "source": [
    "def dis():\n",
    "    b=25\n",
    "    def ic():\n",
    "        c=50\n",
    "        print(c)\n",
    "        print(\"aaa\")\n",
    "    print(b)\n",
    "    ic()"
   ]
  },
  {
   "cell_type": "code",
   "execution_count": 18,
   "id": "c8ea94a7-fb60-4749-b8ef-276f940506c2",
   "metadata": {},
   "outputs": [
    {
     "name": "stdout",
     "output_type": "stream",
     "text": [
      "25\n",
      "50\n",
      "aaa\n"
     ]
    }
   ],
   "source": [
    "dis()"
   ]
  },
  {
   "cell_type": "code",
   "execution_count": 20,
   "id": "46473ba2-01d2-4952-9a12-e94df55347c2",
   "metadata": {},
   "outputs": [],
   "source": [
    "def dis_fonk():\n",
    "    a=20\n",
    "    def ic_fonk():\n",
    "        a=30\n",
    "        print(\"a :\",a)\n",
    "    ic_fonk()\n",
    "    print(\"a :\",a)"
   ]
  },
  {
   "cell_type": "code",
   "execution_count": 22,
   "id": "b928c6cc-a017-4121-91f6-74cfe2db4285",
   "metadata": {},
   "outputs": [],
   "source": [
    "del a"
   ]
  },
  {
   "cell_type": "code",
   "execution_count": 25,
   "id": "252fb55f-776a-43cb-a8af-2a6b669ef055",
   "metadata": {},
   "outputs": [
    {
     "name": "stdout",
     "output_type": "stream",
     "text": [
      "a : 30\n",
      "a : 20\n",
      "a : 10\n"
     ]
    }
   ],
   "source": [
    "a=10\n",
    "dis_fonk()\n",
    "print(\"a :\",a)"
   ]
  },
  {
   "cell_type": "code",
   "execution_count": 39,
   "id": "1d34317f-d88b-42eb-aaf5-17f055ccdd8f",
   "metadata": {},
   "outputs": [],
   "source": [
    "def yazici():\n",
    "    def yaz(mesaj):\n",
    "        print(\"iç\")\n",
    "        print(mesaj)\n",
    "    return yaz"
   ]
  },
  {
   "cell_type": "code",
   "execution_count": 40,
   "id": "b616d78c-4f36-4cba-a771-aa50222066b5",
   "metadata": {},
   "outputs": [
    {
     "data": {
      "text/plain": [
       "<function __main__.yazici.<locals>.yaz(mesaj)>"
      ]
     },
     "execution_count": 40,
     "metadata": {},
     "output_type": "execute_result"
    }
   ],
   "source": [
    "yazici()"
   ]
  },
  {
   "cell_type": "code",
   "execution_count": 41,
   "id": "eb6a8543-c4f4-4a16-97c3-fe0589e3666e",
   "metadata": {},
   "outputs": [],
   "source": [
    "y=yazici()"
   ]
  },
  {
   "cell_type": "code",
   "execution_count": 42,
   "id": "9b6339fb-b07a-46df-98e9-0fc04e8447a8",
   "metadata": {},
   "outputs": [
    {
     "name": "stdout",
     "output_type": "stream",
     "text": [
      "iç\n",
      "Ali\n"
     ]
    }
   ],
   "source": [
    "y(\"Ali\")"
   ]
  },
  {
   "cell_type": "markdown",
   "id": "01d89db9-6f08-40ee-8d71-f3d3f5737913",
   "metadata": {},
   "source": [
    "#### \"nonlocal\" değimi"
   ]
  },
  {
   "cell_type": "code",
   "execution_count": 45,
   "id": "4998b016-291b-4179-b052-3bb0b654c50c",
   "metadata": {},
   "outputs": [],
   "source": [
    "def kap_fonk():\n",
    "    non_local_degisken = 5\n",
    "    \n",
    "    def ic_fonk():\n",
    "        non_local_degisken = 2\n",
    "        print(non_local_degisken)\n",
    "    return ic_fonk"
   ]
  },
  {
   "cell_type": "code",
   "execution_count": 46,
   "id": "d54df8fa-7778-434c-84c0-c172f9b6327a",
   "metadata": {},
   "outputs": [
    {
     "name": "stdout",
     "output_type": "stream",
     "text": [
      "2\n"
     ]
    }
   ],
   "source": [
    "z=kap_fonk()\n",
    "z()"
   ]
  },
  {
   "cell_type": "code",
   "execution_count": 51,
   "id": "beebbd9c-7789-4180-829f-9edd56914b12",
   "metadata": {},
   "outputs": [],
   "source": [
    "def kap_fonk():\n",
    "    non_local_degisken = 5\n",
    "    \n",
    "    def ic_fonk():\n",
    "        nonlocal non_local_degisken\n",
    "        non_local_degisken =2\n",
    "        non_local_degisken +=1\n",
    "        print(non_local_degisken)\n",
    "    return ic_fonk"
   ]
  },
  {
   "cell_type": "code",
   "execution_count": 52,
   "id": "7637f242-dbff-4834-91ab-2c4a7b6026fd",
   "metadata": {},
   "outputs": [
    {
     "name": "stdout",
     "output_type": "stream",
     "text": [
      "3\n"
     ]
    }
   ],
   "source": [
    "z=kap_fonk()\n",
    "z()"
   ]
  },
  {
   "cell_type": "code",
   "execution_count": 53,
   "id": "9aa3d6fc-ab19-47ff-9a47-b506c03bdc6c",
   "metadata": {},
   "outputs": [],
   "source": [
    "def islem(sayi,bolen,*eklenenler):\n",
    "    sonuc= sayi/bolen\n",
    "    \n",
    "    for i in eklenenler:\n",
    "        sonuc += i\n",
    "    return sonuc"
   ]
  },
  {
   "cell_type": "code",
   "execution_count": 54,
   "id": "163f999b-9217-4e74-8d64-14c120f6de2f",
   "metadata": {},
   "outputs": [
    {
     "data": {
      "text/plain": [
       "62.0"
      ]
     },
     "execution_count": 54,
     "metadata": {},
     "output_type": "execute_result"
    }
   ],
   "source": [
    "islem(10,2,7,8,9,10,11,12)"
   ]
  },
  {
   "cell_type": "code",
   "execution_count": 58,
   "id": "a18fb056-8ec5-443e-8608-5c11bad60676",
   "metadata": {},
   "outputs": [],
   "source": [
    "def islem(*eklenenler):\n",
    "    ekle = 0\n",
    "    for i in eklenenler:\n",
    "        ekle += i\n",
    "        \n",
    "    def bolme(sayi,bolen)  :\n",
    "        return sayi/bolen + ekle  \n",
    "    return bolme"
   ]
  },
  {
   "cell_type": "code",
   "execution_count": 59,
   "id": "6276c756-98df-4b16-aac8-26586e8a2b9d",
   "metadata": {},
   "outputs": [
    {
     "data": {
      "text/plain": [
       "62.0"
      ]
     },
     "execution_count": 59,
     "metadata": {},
     "output_type": "execute_result"
    }
   ],
   "source": [
    "islem1=islem(7,8,9,10,11,12)\n",
    "islem1(10,2)"
   ]
  },
  {
   "cell_type": "code",
   "execution_count": 60,
   "id": "85a191b2-be35-4bf2-80b9-cdd97b48b69d",
   "metadata": {},
   "outputs": [],
   "source": [
    "def file_chr_n(dosya,karakter):\n",
    "    sonuc = 0\n",
    "    \n",
    "    if type(dosya) == str:\n",
    "        with open(dosya,\"r\") as f:\n",
    "            veri = f.read()\n",
    "            for i in veri:\n",
    "                if i == karakter:\n",
    "                    sonuc += 1\n",
    "    else:\n",
    "        veri = dosya.read()\n",
    "        for i in veri:\n",
    "                if i == karakter:\n",
    "                    sonuc += 1\n",
    "    return sonuc"
   ]
  },
  {
   "cell_type": "code",
   "execution_count": 62,
   "id": "5f4f6355-0ad1-46d3-b3b8-01ec1f226d3d",
   "metadata": {},
   "outputs": [
    {
     "data": {
      "text/plain": [
       "1"
      ]
     },
     "execution_count": 62,
     "metadata": {},
     "output_type": "execute_result"
    }
   ],
   "source": [
    "file_chr_n(\"deco1.txt\",'4')"
   ]
  },
  {
   "cell_type": "code",
   "execution_count": 64,
   "id": "3b6a7bf4-ceee-48e9-8753-5444c1acc9f3",
   "metadata": {},
   "outputs": [
    {
     "data": {
      "text/plain": [
       "2"
      ]
     },
     "execution_count": 64,
     "metadata": {},
     "output_type": "execute_result"
    }
   ],
   "source": [
    "\"Merhaba\".count(\"a\")"
   ]
  },
  {
   "cell_type": "code",
   "execution_count": 66,
   "id": "4344328d-833b-4989-b122-f649267fdaed",
   "metadata": {},
   "outputs": [],
   "source": [
    "def chr_n(karakter_dizisi,karakter):\n",
    "    sayac = 0\n",
    "    for i in karakter_dizisi:\n",
    "        if i == karakter:\n",
    "             sayac += 1\n",
    "    return sayac\n",
    "    \n",
    "def file_chr_n(dosya,karakter):\n",
    "    if type(dosya) == str:\n",
    "        with open(dosya,\"r\") as f:\n",
    "             return chr_n(f.read(),karakter)\n",
    "    else:\n",
    "            return chr_n(f.read(),karakter)"
   ]
  },
  {
   "cell_type": "code",
   "execution_count": 67,
   "id": "74994f8d-3239-486d-9a09-c42d7952278a",
   "metadata": {},
   "outputs": [
    {
     "data": {
      "text/plain": [
       "4"
      ]
     },
     "execution_count": 67,
     "metadata": {},
     "output_type": "execute_result"
    }
   ],
   "source": [
    "file_chr_n(\"deco1.txt\",\"a\")"
   ]
  },
  {
   "cell_type": "code",
   "execution_count": 71,
   "id": "271e8c4d-f5cb-4d20-b717-9eb2a327c43d",
   "metadata": {},
   "outputs": [],
   "source": [
    "# İç içe fonksyion (nested) şeklinde yazdık\n",
    "def file1_chr_n(dosya, karakter):\n",
    "\n",
    "    def chr_n(karakter_dizisi):\n",
    "        sayac = 0\n",
    "        for i in karakter_dizisi:\n",
    "            if i == karakter:\n",
    "                sayac += 1\n",
    "        return sayac\n",
    "\n",
    "    if type(dosya) == str:\n",
    "        with open(dosya, \"r\") as f:\n",
    "            return chr_n(f.read())\n",
    "    else:\n",
    "        return chr_n(dosya.read())"
   ]
  },
  {
   "cell_type": "code",
   "execution_count": 73,
   "id": "3a475879-f2df-475f-93ea-aeb36fe9414f",
   "metadata": {},
   "outputs": [
    {
     "data": {
      "text/plain": [
       "3"
      ]
     },
     "execution_count": 73,
     "metadata": {},
     "output_type": "execute_result"
    }
   ],
   "source": [
    "file1_chr_n(\"deco1.txt\",\"0\")"
   ]
  },
  {
   "cell_type": "markdown",
   "id": "50b30b00-4b51-460d-8881-3ef24851abe7",
   "metadata": {},
   "source": [
    "# Üreteçler (Generators)"
   ]
  },
  {
   "cell_type": "code",
   "execution_count": 74,
   "id": "6167c8ff-bc51-4a7d-bfc7-6f7c3b5fe4b9",
   "metadata": {},
   "outputs": [
    {
     "data": {
      "text/plain": [
       "[0, 1, 2, 3, 4, 5, 6, 7, 8, 9]"
      ]
     },
     "execution_count": 74,
     "metadata": {},
     "output_type": "execute_result"
    }
   ],
   "source": [
    "listem=[i for i in range(10)]\n",
    "listem"
   ]
  },
  {
   "cell_type": "code",
   "execution_count": 75,
   "id": "e841ad09-3bcc-403c-94fe-f5ed7d594bdf",
   "metadata": {},
   "outputs": [],
   "source": [
    "def generator():\n",
    "    yield \"Python\"\n",
    "    yield \"Fortran\""
   ]
  },
  {
   "cell_type": "code",
   "execution_count": 76,
   "id": "ecd52ebb-486c-45af-8438-714362e7b9ce",
   "metadata": {},
   "outputs": [
    {
     "name": "stdout",
     "output_type": "stream",
     "text": [
      "<generator object generator at 0x0000026E65D02CF0>\n"
     ]
    }
   ],
   "source": [
    "print(generator())"
   ]
  },
  {
   "cell_type": "code",
   "execution_count": 79,
   "id": "09c6fdfc-01bb-4f44-bc4a-572cc6d57108",
   "metadata": {},
   "outputs": [],
   "source": [
    "g=generator()"
   ]
  },
  {
   "cell_type": "code",
   "execution_count": 80,
   "id": "8e904548-4841-43f5-bb12-a64c31a16725",
   "metadata": {},
   "outputs": [
    {
     "data": {
      "text/plain": [
       "'Python'"
      ]
     },
     "execution_count": 80,
     "metadata": {},
     "output_type": "execute_result"
    }
   ],
   "source": [
    "next(g)"
   ]
  },
  {
   "cell_type": "code",
   "execution_count": 81,
   "id": "78f3ee68-cdfb-408b-8725-b5388da82620",
   "metadata": {},
   "outputs": [
    {
     "data": {
      "text/plain": [
       "'Fortran'"
      ]
     },
     "execution_count": 81,
     "metadata": {},
     "output_type": "execute_result"
    }
   ],
   "source": [
    "next(g)"
   ]
  },
  {
   "cell_type": "code",
   "execution_count": 82,
   "id": "8d31848e-360e-4c82-afd4-78584d2ccc7f",
   "metadata": {},
   "outputs": [
    {
     "ename": "StopIteration",
     "evalue": "",
     "output_type": "error",
     "traceback": [
      "\u001b[1;31m---------------------------------------------------------------------------\u001b[0m",
      "\u001b[1;31mStopIteration\u001b[0m                             Traceback (most recent call last)",
      "Input \u001b[1;32mIn [82]\u001b[0m, in \u001b[0;36m<cell line: 1>\u001b[1;34m()\u001b[0m\n\u001b[1;32m----> 1\u001b[0m \u001b[38;5;28;43mnext\u001b[39;49m\u001b[43m(\u001b[49m\u001b[43mg\u001b[49m\u001b[43m)\u001b[49m\n",
      "\u001b[1;31mStopIteration\u001b[0m: "
     ]
    }
   ],
   "source": [
    "next(g)"
   ]
  },
  {
   "cell_type": "code",
   "execution_count": 83,
   "id": "e7d0bc01-fb33-4401-87ae-cd6d3b2025f4",
   "metadata": {},
   "outputs": [],
   "source": [
    "def gener():\n",
    "    print(\"İlk next kllanıldı.\")\n",
    "    yield \"1. yield\"\n",
    "    print(\"İkinci defa next kllanıldı.\")\n",
    "    yield \"2. yield\"    \n",
    "    print(\"Üüçncü btti.\")\n",
    "      \n",
    "    "
   ]
  },
  {
   "cell_type": "code",
   "execution_count": 84,
   "id": "161f4a44-c175-4223-b36f-c536582d4ff7",
   "metadata": {},
   "outputs": [],
   "source": [
    "f=gener()"
   ]
  },
  {
   "cell_type": "code",
   "execution_count": 85,
   "id": "804b933c-bf64-4f01-a78c-7888010c6649",
   "metadata": {},
   "outputs": [
    {
     "name": "stdout",
     "output_type": "stream",
     "text": [
      "İlk next kllanıldı.\n"
     ]
    },
    {
     "data": {
      "text/plain": [
       "'1. yield'"
      ]
     },
     "execution_count": 85,
     "metadata": {},
     "output_type": "execute_result"
    }
   ],
   "source": [
    "next(f)"
   ]
  },
  {
   "cell_type": "code",
   "execution_count": 86,
   "id": "13195e78-3622-40a7-8ddd-995634a098f0",
   "metadata": {},
   "outputs": [
    {
     "name": "stdout",
     "output_type": "stream",
     "text": [
      "İkinci defa next kllanıldı.\n"
     ]
    },
    {
     "data": {
      "text/plain": [
       "'2. yield'"
      ]
     },
     "execution_count": 86,
     "metadata": {},
     "output_type": "execute_result"
    }
   ],
   "source": [
    "next(f)"
   ]
  },
  {
   "cell_type": "code",
   "execution_count": 87,
   "id": "b792240b-a52e-4ef8-a9c7-ce0e5dff4ddf",
   "metadata": {},
   "outputs": [
    {
     "name": "stdout",
     "output_type": "stream",
     "text": [
      "Üüçncü btti.\n"
     ]
    },
    {
     "ename": "StopIteration",
     "evalue": "",
     "output_type": "error",
     "traceback": [
      "\u001b[1;31m---------------------------------------------------------------------------\u001b[0m",
      "\u001b[1;31mStopIteration\u001b[0m                             Traceback (most recent call last)",
      "Input \u001b[1;32mIn [87]\u001b[0m, in \u001b[0;36m<cell line: 1>\u001b[1;34m()\u001b[0m\n\u001b[1;32m----> 1\u001b[0m \u001b[38;5;28;43mnext\u001b[39;49m\u001b[43m(\u001b[49m\u001b[43mf\u001b[49m\u001b[43m)\u001b[49m\n",
      "\u001b[1;31mStopIteration\u001b[0m: "
     ]
    }
   ],
   "source": [
    "next(f)"
   ]
  },
  {
   "cell_type": "code",
   "execution_count": 88,
   "id": "04c68821-c910-4712-9ea0-4a9027b1b485",
   "metadata": {},
   "outputs": [],
   "source": [
    "def hata():\n",
    "    raise StopIteration"
   ]
  },
  {
   "cell_type": "code",
   "execution_count": 89,
   "id": "96e52c67-0060-4a8a-98ab-6b950a16d834",
   "metadata": {},
   "outputs": [
    {
     "ename": "StopIteration",
     "evalue": "",
     "output_type": "error",
     "traceback": [
      "\u001b[1;31m---------------------------------------------------------------------------\u001b[0m",
      "\u001b[1;31mStopIteration\u001b[0m                             Traceback (most recent call last)",
      "Input \u001b[1;32mIn [89]\u001b[0m, in \u001b[0;36m<cell line: 1>\u001b[1;34m()\u001b[0m\n\u001b[1;32m----> 1\u001b[0m \u001b[43mhata\u001b[49m\u001b[43m(\u001b[49m\u001b[43m)\u001b[49m\n",
      "Input \u001b[1;32mIn [88]\u001b[0m, in \u001b[0;36mhata\u001b[1;34m()\u001b[0m\n\u001b[0;32m      1\u001b[0m \u001b[38;5;28;01mdef\u001b[39;00m \u001b[38;5;21mhata\u001b[39m():\n\u001b[1;32m----> 2\u001b[0m     \u001b[38;5;28;01mraise\u001b[39;00m \u001b[38;5;167;01mStopIteration\u001b[39;00m\n",
      "\u001b[1;31mStopIteration\u001b[0m: "
     ]
    }
   ],
   "source": [
    "hata()"
   ]
  },
  {
   "cell_type": "code",
   "execution_count": 91,
   "id": "92420689-7040-4b0d-a315-c23468f7406b",
   "metadata": {},
   "outputs": [
    {
     "data": {
      "text/plain": [
       "[0, 1, 1, 2, 3, 5, 8, 13, 21, 34, 55]"
      ]
     },
     "execution_count": 91,
     "metadata": {},
     "output_type": "execute_result"
    }
   ],
   "source": [
    "l=[0,1]\n",
    "n1=0\n",
    "n2=1\n",
    "for i in range(1,10):\n",
    "    nf = n1+ n2\n",
    "    l.append(nf)\n",
    "    n1,n2=n2,nf\n",
    "l   "
   ]
  },
  {
   "cell_type": "code",
   "execution_count": 2,
   "id": "ba23af07-2536-472b-b46c-81ec4f5957ab",
   "metadata": {},
   "outputs": [
    {
     "name": "stdout",
     "output_type": "stream",
     "text": [
      "1\n",
      "2\n",
      "3\n",
      "5\n",
      "8\n",
      "13\n",
      "21\n",
      "34\n",
      "55\n",
      "89\n",
      "144\n"
     ]
    }
   ],
   "source": [
    "def fibonac():\n",
    "    x=1\n",
    "    y=0\n",
    "    z=0\n",
    "    while True:\n",
    "        z=y\n",
    "        y=x\n",
    "        x=y+z\n",
    "        yield x\n",
    "        if x>100:\n",
    "            return\n",
    "        \n",
    "for i in fibonac():\n",
    "    print(i)"
   ]
  },
  {
   "cell_type": "code",
   "execution_count": 3,
   "id": "60e4596e-c26d-4246-ae27-6f03be5af428",
   "metadata": {},
   "outputs": [],
   "source": [
    "x=fibonac()"
   ]
  },
  {
   "cell_type": "code",
   "execution_count": 15,
   "id": "28e4e720-83ee-4f1e-b573-0279cc10c62c",
   "metadata": {},
   "outputs": [
    {
     "ename": "StopIteration",
     "evalue": "",
     "output_type": "error",
     "traceback": [
      "\u001b[1;31m---------------------------------------------------------------------------\u001b[0m",
      "\u001b[1;31mStopIteration\u001b[0m                             Traceback (most recent call last)",
      "Input \u001b[1;32mIn [15]\u001b[0m, in \u001b[0;36m<cell line: 1>\u001b[1;34m()\u001b[0m\n\u001b[1;32m----> 1\u001b[0m \u001b[38;5;28;43mnext\u001b[39;49m\u001b[43m(\u001b[49m\u001b[43mx\u001b[49m\u001b[43m)\u001b[49m\n",
      "\u001b[1;31mStopIteration\u001b[0m: "
     ]
    }
   ],
   "source": [
    "next(x)"
   ]
  },
  {
   "cell_type": "code",
   "execution_count": 12,
   "id": "d3b58a40-6aff-41b4-94b3-01e2ff2918f5",
   "metadata": {},
   "outputs": [
    {
     "data": {
      "text/plain": [
       "55"
      ]
     },
     "execution_count": 12,
     "metadata": {},
     "output_type": "execute_result"
    }
   ],
   "source": [
    "next(x)"
   ]
  },
  {
   "cell_type": "code",
   "execution_count": 16,
   "id": "35bb8050-edd9-451b-ac00-4b7ac9b0e02b",
   "metadata": {},
   "outputs": [
    {
     "name": "stdout",
     "output_type": "stream",
     "text": [
      "1 2 3 5 8 13 21 34 55 89 144\n"
     ]
    }
   ],
   "source": [
    "print(*fibonac())"
   ]
  },
  {
   "cell_type": "code",
   "execution_count": 38,
   "id": "2095ffdd-5b88-4b6b-9acf-2cddfcefcfa6",
   "metadata": {},
   "outputs": [],
   "source": [
    "def fon_count():\n",
    "    num=0\n",
    "    def say():\n",
    "        nonlocal num\n",
    "        num +=1\n",
    "        return num\n",
    "    return say   #  hatalı yazılmıştı\n",
    "\n",
    "def gen_count():\n",
    "    num=0\n",
    "    while True:\n",
    "        num += 1\n",
    "        yield num"
   ]
  },
  {
   "cell_type": "code",
   "execution_count": 39,
   "id": "f18fb38a-c181-49ca-8ef3-4c09006aa349",
   "metadata": {},
   "outputs": [
    {
     "name": "stdout",
     "output_type": "stream",
     "text": [
      "<class 'function'>\n",
      "<class 'generator'>\n"
     ]
    }
   ],
   "source": [
    "print(type(fon_count))\n",
    "a=gen_count()\n",
    "print(type(a))"
   ]
  },
  {
   "cell_type": "code",
   "execution_count": 40,
   "id": "9472aa5f-ea3e-407f-966a-0cc783e33261",
   "metadata": {},
   "outputs": [
    {
     "name": "stdout",
     "output_type": "stream",
     "text": [
      "1\n",
      "1\n"
     ]
    }
   ],
   "source": [
    "y=fon_count()\n",
    "print(y())\n",
    "print(next(a))"
   ]
  },
  {
   "cell_type": "code",
   "execution_count": 41,
   "id": "3e73a74d-e534-4f89-b040-09bd1b59e7fe",
   "metadata": {},
   "outputs": [
    {
     "name": "stdout",
     "output_type": "stream",
     "text": [
      "2\n",
      "2\n"
     ]
    }
   ],
   "source": [
    "print(y())\n",
    "print(next(a))"
   ]
  },
  {
   "cell_type": "code",
   "execution_count": 42,
   "id": "59ded231-26b5-491f-afaf-958cce9864c5",
   "metadata": {},
   "outputs": [
    {
     "name": "stdout",
     "output_type": "stream",
     "text": [
      "3\n",
      "3\n"
     ]
    }
   ],
   "source": [
    "print(y())\n",
    "print(next(a))"
   ]
  },
  {
   "cell_type": "code",
   "execution_count": null,
   "id": "0ee22e73-2c30-447c-91b0-c67923e3f7ad",
   "metadata": {},
   "outputs": [],
   "source": []
  }
 ],
 "metadata": {
  "kernelspec": {
   "display_name": "Python 3 (ipykernel)",
   "language": "python",
   "name": "python3"
  },
  "language_info": {
   "codemirror_mode": {
    "name": "ipython",
    "version": 3
   },
   "file_extension": ".py",
   "mimetype": "text/x-python",
   "name": "python",
   "nbconvert_exporter": "python",
   "pygments_lexer": "ipython3",
   "version": "3.9.12"
  }
 },
 "nbformat": 4,
 "nbformat_minor": 5
}
